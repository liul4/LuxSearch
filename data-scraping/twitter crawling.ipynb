{
 "cells": [
  {
   "cell_type": "code",
   "execution_count": 1,
   "id": "ce1127ce",
   "metadata": {},
   "outputs": [],
   "source": [
    "import snscrape.modules.twitter as sntwitter\n",
    "import pandas as pd\n",
    "import os\n",
    "from datetime import datetime, timedelta\n",
    "os.environ['TF_CPP_MIN_LOG_LEVEL'] = '2' \n",
    "os.environ[\"CUDA_VISIBLE_DEVICES\"] = \"-1\""
   ]
  },
  {
   "cell_type": "code",
   "execution_count": null,
   "id": "90805525",
   "metadata": {},
   "outputs": [
    {
     "name": "stderr",
     "output_type": "stream",
     "text": [
      "C:\\Users\\Administrator\\AppData\\Local\\Temp\\ipykernel_27172\\3954250894.py:12: FutureWarning: content is deprecated, use rawContent instead\n",
      "  tweets.append([tweet.user.username, tweet.date, tweet.likeCount, tweet.retweetCount, tweet.sourceLabel, tweet.content, tweet.lang, tweet.url])\n"
     ]
    }
   ],
   "source": [
    "# Creating list to append tweet data to\n",
    "tweets = []\n",
    "tickers = ['Gucci','Dior','Chanel','Louis Vuitton', 'Hermes', 'Rolex', 'Tiffany and Co']\n",
    "\n",
    "a = pd.date_range(start='1/2/2022', end='1/1/2023')\n",
    "for s in tickers:\n",
    "    for single_date in a:\n",
    "        date=single_date.date()\n",
    "        for i,tweet in enumerate(sntwitter.TwitterSearchScraper(f'{s} until:{date} lang:en').get_items()):\n",
    "            if i>12:\n",
    "                break\n",
    "            tweets.append([tweet.user.username, tweet.date, tweet.likeCount, tweet.retweetCount, tweet.sourceLabel, tweet.content, tweet.lang, tweet.url])\n",
    "            \n",
    "    \n",
    "# Creating a dataframe to load the list\n",
    "tweets_df = pd.DataFrame(tweets, columns=[\"User\", \"Date Created\", \"Number of Likes\",\"Number of Retweets\", \"Source of Tweet\", \"Tweet\", \"Language\", \"URL\"])"
   ]
  },
  {
   "cell_type": "code",
   "execution_count": null,
   "id": "d3c934e0",
   "metadata": {},
   "outputs": [],
   "source": [
    "# Creating a dataframe to load the list\n",
    "tweets_df = pd.DataFrame(tweets, columns=[\"User\", \"Date Created\", \"Number of Likes\", \"Number of Retweets\", \"Source of Tweet\", \"Tweet\", \"Language\", \"URL\"])\n",
    "tweets_df"
   ]
  },
  {
   "cell_type": "code",
   "execution_count": null,
   "id": "f381e94f",
   "metadata": {},
   "outputs": [],
   "source": [
    "tweets_df.to_csv('tweets.csv', index=False)"
   ]
  },
  {
   "cell_type": "code",
   "execution_count": null,
   "id": "e7f70529",
   "metadata": {},
   "outputs": [],
   "source": []
  }
 ],
 "metadata": {
  "kernelspec": {
   "display_name": "Python 3 (ipykernel)",
   "language": "python",
   "name": "python3"
  },
  "language_info": {
   "codemirror_mode": {
    "name": "ipython",
    "version": 3
   },
   "file_extension": ".py",
   "mimetype": "text/x-python",
   "name": "python",
   "nbconvert_exporter": "python",
   "pygments_lexer": "ipython3",
   "version": "3.9.16"
  }
 },
 "nbformat": 4,
 "nbformat_minor": 5
}
