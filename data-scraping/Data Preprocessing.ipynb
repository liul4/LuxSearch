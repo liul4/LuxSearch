{
 "cells": [
  {
   "cell_type": "markdown",
   "id": "ce99496e",
   "metadata": {},
   "source": [
    "## Data Preprocessing"
   ]
  },
  {
   "cell_type": "markdown",
   "id": "3f3fff6a",
   "metadata": {},
   "source": [
    "### Import libraries"
   ]
  },
  {
   "cell_type": "code",
   "execution_count": 1,
   "id": "2b1056b9",
   "metadata": {},
   "outputs": [
    {
     "name": "stderr",
     "output_type": "stream",
     "text": [
      "[nltk_data] Downloading package punkt to\n",
      "[nltk_data]     C:\\Users\\irfan\\AppData\\Roaming\\nltk_data...\n",
      "[nltk_data]   Unzipping tokenizers\\punkt.zip.\n",
      "[nltk_data] Downloading package stopwords to\n",
      "[nltk_data]     C:\\Users\\irfan\\AppData\\Roaming\\nltk_data...\n",
      "[nltk_data]   Unzipping corpora\\stopwords.zip.\n"
     ]
    },
    {
     "data": {
      "text/plain": [
       "True"
      ]
     },
     "execution_count": 1,
     "metadata": {},
     "output_type": "execute_result"
    }
   ],
   "source": [
    "import pandas as pd\n",
    "import numpy as np\n",
    "import seaborn as sns\n",
    "import matplotlib.pyplot as plt\n",
    "from nltk.tokenize import sent_tokenize, word_tokenize\n",
    "from nltk.corpus import stopwords\n",
    "import nltk \n",
    "import string\n",
    "\n",
    "nltk.download('punkt')\n",
    "nltk.download('stopwords')"
   ]
  },
  {
   "cell_type": "markdown",
   "id": "175edb15",
   "metadata": {},
   "source": [
    "### Import Dataset"
   ]
  },
  {
   "cell_type": "code",
   "execution_count": 2,
   "id": "69d9a1ff",
   "metadata": {},
   "outputs": [],
   "source": [
    "tweets_df = pd.read_csv('data\\\\tweets.csv',index_col = False)\n",
    "#reddit_df = pd.read_excel('data\\\\PushShiftAPI.xlsx',index_col = False)"
   ]
  },
  {
   "cell_type": "code",
   "execution_count": 3,
   "id": "1c55e218",
   "metadata": {},
   "outputs": [
    {
     "data": {
      "text/html": [
       "<div>\n",
       "<style scoped>\n",
       "    .dataframe tbody tr th:only-of-type {\n",
       "        vertical-align: middle;\n",
       "    }\n",
       "\n",
       "    .dataframe tbody tr th {\n",
       "        vertical-align: top;\n",
       "    }\n",
       "\n",
       "    .dataframe thead th {\n",
       "        text-align: right;\n",
       "    }\n",
       "</style>\n",
       "<table border=\"1\" class=\"dataframe\">\n",
       "  <thead>\n",
       "    <tr style=\"text-align: right;\">\n",
       "      <th></th>\n",
       "      <th>User</th>\n",
       "      <th>Date Created</th>\n",
       "      <th>Number of Likes</th>\n",
       "      <th>Number of Retweets</th>\n",
       "      <th>Source of Tweet</th>\n",
       "      <th>Tweet</th>\n",
       "      <th>Language</th>\n",
       "      <th>URL</th>\n",
       "    </tr>\n",
       "  </thead>\n",
       "  <tbody>\n",
       "    <tr>\n",
       "      <td>0</td>\n",
       "      <td>RivalTimes</td>\n",
       "      <td>2022-11-01 23:52:17+00:00</td>\n",
       "      <td>0</td>\n",
       "      <td>0</td>\n",
       "      <td>Jetpack.com</td>\n",
       "      <td>Why is it not enough that Ralph Lauren has wit...</td>\n",
       "      <td>en</td>\n",
       "      <td>https://twitter.com/RivalTimes/status/15875934...</td>\n",
       "    </tr>\n",
       "    <tr>\n",
       "      <td>1</td>\n",
       "      <td>adrisa24</td>\n",
       "      <td>2022-11-01 23:48:59+00:00</td>\n",
       "      <td>0</td>\n",
       "      <td>0</td>\n",
       "      <td>Poshmark</td>\n",
       "      <td>Check out this listing I just added to my #Pos...</td>\n",
       "      <td>en</td>\n",
       "      <td>https://twitter.com/adrisa24/status/1587592568...</td>\n",
       "    </tr>\n",
       "    <tr>\n",
       "      <td>2</td>\n",
       "      <td>FortniteBoards</td>\n",
       "      <td>2022-11-01 23:42:09+00:00</td>\n",
       "      <td>0</td>\n",
       "      <td>0</td>\n",
       "      <td>FortniteBoards Social Auto Post</td>\n",
       "      <td>🔔 Fortnite's Polo Ralph Lauren Crossover Bring...</td>\n",
       "      <td>en</td>\n",
       "      <td>https://twitter.com/FortniteBoards/status/1587...</td>\n",
       "    </tr>\n",
       "    <tr>\n",
       "      <td>3</td>\n",
       "      <td>GeyiPoji</td>\n",
       "      <td>2022-11-01 23:41:08+00:00</td>\n",
       "      <td>0</td>\n",
       "      <td>0</td>\n",
       "      <td>Jetpack.com</td>\n",
       "      <td>The Fortnite Crossover Ralph Lauren Polo Bring...</td>\n",
       "      <td>en</td>\n",
       "      <td>https://twitter.com/GeyiPoji/status/1587590596...</td>\n",
       "    </tr>\n",
       "    <tr>\n",
       "      <td>4</td>\n",
       "      <td>modcontrollerz</td>\n",
       "      <td>2022-11-01 23:39:48+00:00</td>\n",
       "      <td>0</td>\n",
       "      <td>0</td>\n",
       "      <td>Jetpack.com</td>\n",
       "      <td>Fortnite’s Polo Ralph Lauren Crossover Brings ...</td>\n",
       "      <td>en</td>\n",
       "      <td>https://twitter.com/modcontrollerz/status/1587...</td>\n",
       "    </tr>\n",
       "  </tbody>\n",
       "</table>\n",
       "</div>"
      ],
      "text/plain": [
       "             User               Date Created  Number of Likes  \\\n",
       "0      RivalTimes  2022-11-01 23:52:17+00:00                0   \n",
       "1        adrisa24  2022-11-01 23:48:59+00:00                0   \n",
       "2  FortniteBoards  2022-11-01 23:42:09+00:00                0   \n",
       "3        GeyiPoji  2022-11-01 23:41:08+00:00                0   \n",
       "4  modcontrollerz  2022-11-01 23:39:48+00:00                0   \n",
       "\n",
       "   Number of Retweets                  Source of Tweet  \\\n",
       "0                   0                      Jetpack.com   \n",
       "1                   0                         Poshmark   \n",
       "2                   0  FortniteBoards Social Auto Post   \n",
       "3                   0                      Jetpack.com   \n",
       "4                   0                      Jetpack.com   \n",
       "\n",
       "                                               Tweet Language  \\\n",
       "0  Why is it not enough that Ralph Lauren has wit...       en   \n",
       "1  Check out this listing I just added to my #Pos...       en   \n",
       "2  🔔 Fortnite's Polo Ralph Lauren Crossover Bring...       en   \n",
       "3  The Fortnite Crossover Ralph Lauren Polo Bring...       en   \n",
       "4  Fortnite’s Polo Ralph Lauren Crossover Brings ...       en   \n",
       "\n",
       "                                                 URL  \n",
       "0  https://twitter.com/RivalTimes/status/15875934...  \n",
       "1  https://twitter.com/adrisa24/status/1587592568...  \n",
       "2  https://twitter.com/FortniteBoards/status/1587...  \n",
       "3  https://twitter.com/GeyiPoji/status/1587590596...  \n",
       "4  https://twitter.com/modcontrollerz/status/1587...  "
      ]
     },
     "execution_count": 3,
     "metadata": {},
     "output_type": "execute_result"
    }
   ],
   "source": [
    "tweets_df.head()"
   ]
  },
  {
   "cell_type": "code",
   "execution_count": 8,
   "id": "83dbe6a9",
   "metadata": {},
   "outputs": [
    {
     "data": {
      "text/html": [
       "<div>\n",
       "<style scoped>\n",
       "    .dataframe tbody tr th:only-of-type {\n",
       "        vertical-align: middle;\n",
       "    }\n",
       "\n",
       "    .dataframe tbody tr th {\n",
       "        vertical-align: top;\n",
       "    }\n",
       "\n",
       "    .dataframe thead th {\n",
       "        text-align: right;\n",
       "    }\n",
       "</style>\n",
       "<table border=\"1\" class=\"dataframe\">\n",
       "  <thead>\n",
       "    <tr style=\"text-align: right;\">\n",
       "      <th></th>\n",
       "      <th>Date</th>\n",
       "      <th>Subreddit</th>\n",
       "      <th>Title</th>\n",
       "      <th>Post Text</th>\n",
       "      <th>Author</th>\n",
       "      <th>Upvotes</th>\n",
       "      <th>CommentsCount</th>\n",
       "      <th>URL</th>\n",
       "      <th>Data</th>\n",
       "    </tr>\n",
       "  </thead>\n",
       "  <tbody>\n",
       "    <tr>\n",
       "      <th>0</th>\n",
       "      <td>2022-11-04 17:57:33</td>\n",
       "      <td>1688Reps</td>\n",
       "      <td>QC on the 225 yuan Balenciaga Authentic jersey...</td>\n",
       "      <td>NaN</td>\n",
       "      <td>Paintballmania124</td>\n",
       "      <td>1</td>\n",
       "      <td>0</td>\n",
       "      <td>https://www.reddit.com//r/1688Reps/comments/ym...</td>\n",
       "      <td>nan QC on the 225 yuan Balenciaga Authentic je...</td>\n",
       "    </tr>\n",
       "    <tr>\n",
       "      <th>1</th>\n",
       "      <td>2022-11-04 17:20:55</td>\n",
       "      <td>FashionReps</td>\n",
       "      <td>Balenciaga Track Clear Sole CSJ [Good batch]</td>\n",
       "      <td>[removed]</td>\n",
       "      <td>MakeTheCut_fjp</td>\n",
       "      <td>1</td>\n",
       "      <td>0</td>\n",
       "      <td>https://www.reddit.com//r/FashionReps/comments...</td>\n",
       "      <td>[removed] Balenciaga Track Clear Sole CSJ [Goo...</td>\n",
       "    </tr>\n",
       "    <tr>\n",
       "      <th>2</th>\n",
       "      <td>2022-11-04 17:20:16</td>\n",
       "      <td>QualityReps</td>\n",
       "      <td>About BALENCIAGA CROSS BOOTS - WWTOP</td>\n",
       "      <td>NaN</td>\n",
       "      <td>Competitive-Guide651</td>\n",
       "      <td>1</td>\n",
       "      <td>0</td>\n",
       "      <td>https://www.reddit.com//r/QualityReps/comments...</td>\n",
       "      <td>nan About BALENCIAGA CROSS BOOTS - WWTOP</td>\n",
       "    </tr>\n",
       "    <tr>\n",
       "      <th>3</th>\n",
       "      <td>2022-11-04 17:16:13</td>\n",
       "      <td>QualityReps</td>\n",
       "      <td>About BALENCIAGA CROSS boots - WWTOP</td>\n",
       "      <td>NaN</td>\n",
       "      <td>Competitive-Guide651</td>\n",
       "      <td>1</td>\n",
       "      <td>0</td>\n",
       "      <td>https://www.reddit.com//r/QualityReps/comments...</td>\n",
       "      <td>nan About BALENCIAGA CROSS boots - WWTOP</td>\n",
       "    </tr>\n",
       "    <tr>\n",
       "      <th>4</th>\n",
       "      <td>2022-11-04 17:06:50</td>\n",
       "      <td>CryptoStock</td>\n",
       "      <td>Balenciaga Announces Bitcoin Payments – The BT...</td>\n",
       "      <td>NaN</td>\n",
       "      <td>asmajda</td>\n",
       "      <td>1</td>\n",
       "      <td>0</td>\n",
       "      <td>https://www.reddit.com//r/CryptoStock/comments...</td>\n",
       "      <td>nan Balenciaga Announces Bitcoin Payments – Th...</td>\n",
       "    </tr>\n",
       "  </tbody>\n",
       "</table>\n",
       "</div>"
      ],
      "text/plain": [
       "                  Date    Subreddit  \\\n",
       "0  2022-11-04 17:57:33     1688Reps   \n",
       "1  2022-11-04 17:20:55  FashionReps   \n",
       "2  2022-11-04 17:20:16  QualityReps   \n",
       "3  2022-11-04 17:16:13  QualityReps   \n",
       "4  2022-11-04 17:06:50  CryptoStock   \n",
       "\n",
       "                                               Title  Post Text  \\\n",
       "0  QC on the 225 yuan Balenciaga Authentic jersey...        NaN   \n",
       "1       Balenciaga Track Clear Sole CSJ [Good batch]  [removed]   \n",
       "2               About BALENCIAGA CROSS BOOTS - WWTOP        NaN   \n",
       "3               About BALENCIAGA CROSS boots - WWTOP        NaN   \n",
       "4  Balenciaga Announces Bitcoin Payments – The BT...        NaN   \n",
       "\n",
       "                 Author  Upvotes  CommentsCount  \\\n",
       "0     Paintballmania124        1              0   \n",
       "1        MakeTheCut_fjp        1              0   \n",
       "2  Competitive-Guide651        1              0   \n",
       "3  Competitive-Guide651        1              0   \n",
       "4               asmajda        1              0   \n",
       "\n",
       "                                                 URL  \\\n",
       "0  https://www.reddit.com//r/1688Reps/comments/ym...   \n",
       "1  https://www.reddit.com//r/FashionReps/comments...   \n",
       "2  https://www.reddit.com//r/QualityReps/comments...   \n",
       "3  https://www.reddit.com//r/QualityReps/comments...   \n",
       "4  https://www.reddit.com//r/CryptoStock/comments...   \n",
       "\n",
       "                                                Data  \n",
       "0  nan QC on the 225 yuan Balenciaga Authentic je...  \n",
       "1  [removed] Balenciaga Track Clear Sole CSJ [Goo...  \n",
       "2           nan About BALENCIAGA CROSS BOOTS - WWTOP  \n",
       "3           nan About BALENCIAGA CROSS boots - WWTOP  \n",
       "4  nan Balenciaga Announces Bitcoin Payments – Th...  "
      ]
     },
     "execution_count": 8,
     "metadata": {},
     "output_type": "execute_result"
    }
   ],
   "source": [
    "reddit_df['Data']=reddit_df['Post Text'].astype(str)+' '+reddit_df['Title']\n",
    "reddit_df.head()"
   ]
  },
  {
   "cell_type": "markdown",
   "id": "0a4471b8",
   "metadata": {},
   "source": [
    "#### Remove URLs"
   ]
  },
  {
   "cell_type": "code",
   "execution_count": 4,
   "id": "1df042af",
   "metadata": {},
   "outputs": [],
   "source": [
    "tweets_df['Tweet'] = tweets_df['Tweet'].str.replace('http[s]?://(?:[a-zA-Z]|[0-9]|[$-_@.&+]|[!*\\(\\),]|(?:%[0-9a-fA-F][0-9a-fA-F]))+', '')"
   ]
  },
  {
   "cell_type": "code",
   "execution_count": 10,
   "id": "0ee3caf6",
   "metadata": {},
   "outputs": [
    {
     "name": "stderr",
     "output_type": "stream",
     "text": [
      "C:\\Users\\titus\\AppData\\Local\\Temp\\ipykernel_10744\\3483253370.py:1: FutureWarning: The default value of regex will change from True to False in a future version.\n",
      "  reddit_df['Data'] = reddit_df['Data'].str.replace('http[s]?://(?:[a-zA-Z]|[0-9]|[$-_@.&+]|[!*\\(\\),]|(?:%[0-9a-fA-F][0-9a-fA-F]))+', '')\n"
     ]
    }
   ],
   "source": [
    "reddit_df['Data'] = reddit_df['Data'].str.replace('http[s]?://(?:[a-zA-Z]|[0-9]|[$-_@.&+]|[!*\\(\\),]|(?:%[0-9a-fA-F][0-9a-fA-F]))+', '')"
   ]
  },
  {
   "cell_type": "markdown",
   "id": "6347a0b5",
   "metadata": {},
   "source": [
    "#### Remove emails"
   ]
  },
  {
   "cell_type": "code",
   "execution_count": 5,
   "id": "a5e91487",
   "metadata": {},
   "outputs": [],
   "source": [
    "tweets_df['Tweet'] = tweets_df['Tweet'].str.replace(r'[\\w\\.-]+@[\\w\\.-]+', '')"
   ]
  },
  {
   "cell_type": "code",
   "execution_count": 12,
   "id": "8f596a78",
   "metadata": {},
   "outputs": [
    {
     "name": "stderr",
     "output_type": "stream",
     "text": [
      "C:\\Users\\titus\\AppData\\Local\\Temp\\ipykernel_10744\\935654661.py:1: FutureWarning: The default value of regex will change from True to False in a future version.\n",
      "  reddit_df['Data']= reddit_df['Data'].str.replace(r'[\\w\\.-]+@[\\w\\.-]+', '')\n"
     ]
    }
   ],
   "source": [
    "reddit_df['Data']= reddit_df['Data'].str.replace(r'[\\w\\.-]+@[\\w\\.-]+', '')"
   ]
  },
  {
   "cell_type": "markdown",
   "id": "f5520657",
   "metadata": {},
   "source": [
    "#### Remove punctuations"
   ]
  },
  {
   "cell_type": "code",
   "execution_count": 6,
   "id": "4bc52a2b",
   "metadata": {},
   "outputs": [],
   "source": [
    "tweets_df['Tweet'] = tweets_df['Tweet'].str.replace(r'[^\\w\\s]+', '')"
   ]
  },
  {
   "cell_type": "code",
   "execution_count": 14,
   "id": "5acb3584",
   "metadata": {},
   "outputs": [
    {
     "name": "stderr",
     "output_type": "stream",
     "text": [
      "C:\\Users\\titus\\AppData\\Local\\Temp\\ipykernel_10744\\2075563278.py:1: FutureWarning: The default value of regex will change from True to False in a future version.\n",
      "  reddit_df['Data'] = reddit_df['Data'].str.replace(r'[^\\w\\s]+', '')\n"
     ]
    }
   ],
   "source": [
    "reddit_df['Data'] = reddit_df['Data'].str.replace(r'[^\\w\\s]+', '')"
   ]
  },
  {
   "cell_type": "markdown",
   "id": "a9985b7b",
   "metadata": {},
   "source": [
    "#### Remove numbers"
   ]
  },
  {
   "cell_type": "code",
   "execution_count": 7,
   "id": "2332ea2d",
   "metadata": {},
   "outputs": [],
   "source": [
    "tweets_df['Tweet'] = tweets_df['Tweet'].str.replace(r'[0-9]+', '')"
   ]
  },
  {
   "cell_type": "code",
   "execution_count": 16,
   "id": "2513556b",
   "metadata": {},
   "outputs": [
    {
     "name": "stderr",
     "output_type": "stream",
     "text": [
      "C:\\Users\\titus\\AppData\\Local\\Temp\\ipykernel_10744\\2689639338.py:1: FutureWarning: The default value of regex will change from True to False in a future version.\n",
      "  reddit_df['Data']  = reddit_df['Data'].str.replace(r'[0-9]+', '')\n"
     ]
    }
   ],
   "source": [
    "reddit_df['Data']  = reddit_df['Data'].str.replace(r'[0-9]+', '')"
   ]
  },
  {
   "cell_type": "markdown",
   "id": "d1e6c096",
   "metadata": {},
   "source": [
    "#### Remove stopwords"
   ]
  },
  {
   "cell_type": "code",
   "execution_count": 8,
   "id": "327ffe51",
   "metadata": {},
   "outputs": [],
   "source": [
    "stop_words = stopwords.words('english')\n",
    "stop_words.append('nan')\n",
    "stop_words.append('removed')\n",
    "stop_words.remove('not')\n",
    "stop_words.remove('no')"
   ]
  },
  {
   "cell_type": "code",
   "execution_count": 9,
   "id": "5710bdcf",
   "metadata": {},
   "outputs": [],
   "source": [
    "tweets_df['Cleaned Data'] = tweets_df['Tweet'].apply(lambda x: ' '.join([word for word in x.split() if word not in (stop_words)]))"
   ]
  },
  {
   "cell_type": "code",
   "execution_count": 21,
   "id": "ef346493",
   "metadata": {},
   "outputs": [],
   "source": [
    "reddit_df['Cleaned Data'] =reddit_df['Data'].apply(lambda x: ' '.join([word for word in x.split() if word not in (stop_words)]))"
   ]
  },
  {
   "cell_type": "markdown",
   "id": "24ac6b4d",
   "metadata": {},
   "source": [
    "#### Tokenisation of text"
   ]
  },
  {
   "cell_type": "code",
   "execution_count": 11,
   "id": "51742986",
   "metadata": {
    "scrolled": true
   },
   "outputs": [],
   "source": [
    "tweets_df['Tokenized Data'] = tweets_df['Tweet'].apply(word_tokenize)\n",
    "#reddit_df['Tokenized Data'] = reddit_df['Data'].apply(word_tokenize)"
   ]
  },
  {
   "cell_type": "code",
   "execution_count": 12,
   "id": "1dd9ff2c",
   "metadata": {},
   "outputs": [],
   "source": [
    "tweets_df['Tokenized LowerCase Data'] = tweets_df['Tweet'].apply(str.lower).apply(word_tokenize)\n",
    "#reddit_df['Tokenized LowerCase Data'] = reddit_df['Data'].apply(str.lower).apply(word_tokenize)"
   ]
  },
  {
   "cell_type": "code",
   "execution_count": 13,
   "id": "b1f05c11",
   "metadata": {},
   "outputs": [],
   "source": [
    "tweets_df['Tokenized Clean Data'] = tweets_df['Cleaned Data'].apply(word_tokenize)\n",
    "#reddit_df['Tokenized Clean Data'] = reddit_df['Cleaned Data'].apply(word_tokenize)"
   ]
  },
  {
   "cell_type": "code",
   "execution_count": 14,
   "id": "0bdd15ef",
   "metadata": {},
   "outputs": [],
   "source": [
    "tweets_df['Tokenized Clean LowerCase Data'] = tweets_df['Cleaned Data'].apply(str.lower).apply(word_tokenize)\n",
    "#reddit_df['Tokenized Clean LowerCase Data'] = reddit_df['Cleaned Data'].apply(str.lower).apply(word_tokenize)"
   ]
  },
  {
   "cell_type": "code",
   "execution_count": 15,
   "id": "c5ffd139",
   "metadata": {},
   "outputs": [
    {
     "data": {
      "text/html": [
       "<div>\n",
       "<style scoped>\n",
       "    .dataframe tbody tr th:only-of-type {\n",
       "        vertical-align: middle;\n",
       "    }\n",
       "\n",
       "    .dataframe tbody tr th {\n",
       "        vertical-align: top;\n",
       "    }\n",
       "\n",
       "    .dataframe thead th {\n",
       "        text-align: right;\n",
       "    }\n",
       "</style>\n",
       "<table border=\"1\" class=\"dataframe\">\n",
       "  <thead>\n",
       "    <tr style=\"text-align: right;\">\n",
       "      <th></th>\n",
       "      <th>User</th>\n",
       "      <th>Date Created</th>\n",
       "      <th>Number of Likes</th>\n",
       "      <th>Number of Retweets</th>\n",
       "      <th>Source of Tweet</th>\n",
       "      <th>Tweet</th>\n",
       "      <th>Language</th>\n",
       "      <th>URL</th>\n",
       "      <th>Cleaned Data</th>\n",
       "      <th>Tokenized Data</th>\n",
       "      <th>Tokenized LowerCase Data</th>\n",
       "      <th>Tokenized Clean Data</th>\n",
       "      <th>Tokenized Clean LowerCase Data</th>\n",
       "    </tr>\n",
       "  </thead>\n",
       "  <tbody>\n",
       "    <tr>\n",
       "      <td>0</td>\n",
       "      <td>RivalTimes</td>\n",
       "      <td>2022-11-01 23:52:17+00:00</td>\n",
       "      <td>0</td>\n",
       "      <td>0</td>\n",
       "      <td>Jetpack.com</td>\n",
       "      <td>Why is it not enough that Ralph Lauren has wit...</td>\n",
       "      <td>en</td>\n",
       "      <td>https://twitter.com/RivalTimes/status/15875934...</td>\n",
       "      <td>Why not enough Ralph Lauren withdrawn sacks co...</td>\n",
       "      <td>[Why, is, it, not, enough, that, Ralph, Lauren...</td>\n",
       "      <td>[why, is, it, not, enough, that, ralph, lauren...</td>\n",
       "      <td>[Why, not, enough, Ralph, Lauren, withdrawn, s...</td>\n",
       "      <td>[why, not, enough, ralph, lauren, withdrawn, s...</td>\n",
       "    </tr>\n",
       "    <tr>\n",
       "      <td>1</td>\n",
       "      <td>adrisa24</td>\n",
       "      <td>2022-11-01 23:48:59+00:00</td>\n",
       "      <td>0</td>\n",
       "      <td>0</td>\n",
       "      <td>Poshmark</td>\n",
       "      <td>Check out this listing I just added to my Posh...</td>\n",
       "      <td>en</td>\n",
       "      <td>https://twitter.com/adrisa24/status/1587592568...</td>\n",
       "      <td>Check listing I added Poshmark closet LAUREN R...</td>\n",
       "      <td>[Check, out, this, listing, I, just, added, to...</td>\n",
       "      <td>[check, out, this, listing, i, just, added, to...</td>\n",
       "      <td>[Check, listing, I, added, Poshmark, closet, L...</td>\n",
       "      <td>[check, listing, i, added, poshmark, closet, l...</td>\n",
       "    </tr>\n",
       "    <tr>\n",
       "      <td>2</td>\n",
       "      <td>FortniteBoards</td>\n",
       "      <td>2022-11-01 23:42:09+00:00</td>\n",
       "      <td>0</td>\n",
       "      <td>0</td>\n",
       "      <td>FortniteBoards Social Auto Post</td>\n",
       "      <td>Fortnites Polo Ralph Lauren Crossover Brings ...</td>\n",
       "      <td>en</td>\n",
       "      <td>https://twitter.com/FortniteBoards/status/1587...</td>\n",
       "      <td>Fortnites Polo Ralph Lauren Crossover Brings R...</td>\n",
       "      <td>[Fortnites, Polo, Ralph, Lauren, Crossover, Br...</td>\n",
       "      <td>[fortnites, polo, ralph, lauren, crossover, br...</td>\n",
       "      <td>[Fortnites, Polo, Ralph, Lauren, Crossover, Br...</td>\n",
       "      <td>[fortnites, polo, ralph, lauren, crossover, br...</td>\n",
       "    </tr>\n",
       "    <tr>\n",
       "      <td>3</td>\n",
       "      <td>GeyiPoji</td>\n",
       "      <td>2022-11-01 23:41:08+00:00</td>\n",
       "      <td>0</td>\n",
       "      <td>0</td>\n",
       "      <td>Jetpack.com</td>\n",
       "      <td>The Fortnite Crossover Ralph Lauren Polo Bring...</td>\n",
       "      <td>en</td>\n",
       "      <td>https://twitter.com/GeyiPoji/status/1587590596...</td>\n",
       "      <td>The Fortnite Crossover Ralph Lauren Polo Bring...</td>\n",
       "      <td>[The, Fortnite, Crossover, Ralph, Lauren, Polo...</td>\n",
       "      <td>[the, fortnite, crossover, ralph, lauren, polo...</td>\n",
       "      <td>[The, Fortnite, Crossover, Ralph, Lauren, Polo...</td>\n",
       "      <td>[the, fortnite, crossover, ralph, lauren, polo...</td>\n",
       "    </tr>\n",
       "    <tr>\n",
       "      <td>4</td>\n",
       "      <td>modcontrollerz</td>\n",
       "      <td>2022-11-01 23:39:48+00:00</td>\n",
       "      <td>0</td>\n",
       "      <td>0</td>\n",
       "      <td>Jetpack.com</td>\n",
       "      <td>Fortnites Polo Ralph Lauren Crossover Brings R...</td>\n",
       "      <td>en</td>\n",
       "      <td>https://twitter.com/modcontrollerz/status/1587...</td>\n",
       "      <td>Fortnites Polo Ralph Lauren Crossover Brings R...</td>\n",
       "      <td>[Fortnites, Polo, Ralph, Lauren, Crossover, Br...</td>\n",
       "      <td>[fortnites, polo, ralph, lauren, crossover, br...</td>\n",
       "      <td>[Fortnites, Polo, Ralph, Lauren, Crossover, Br...</td>\n",
       "      <td>[fortnites, polo, ralph, lauren, crossover, br...</td>\n",
       "    </tr>\n",
       "  </tbody>\n",
       "</table>\n",
       "</div>"
      ],
      "text/plain": [
       "             User               Date Created  Number of Likes  \\\n",
       "0      RivalTimes  2022-11-01 23:52:17+00:00                0   \n",
       "1        adrisa24  2022-11-01 23:48:59+00:00                0   \n",
       "2  FortniteBoards  2022-11-01 23:42:09+00:00                0   \n",
       "3        GeyiPoji  2022-11-01 23:41:08+00:00                0   \n",
       "4  modcontrollerz  2022-11-01 23:39:48+00:00                0   \n",
       "\n",
       "   Number of Retweets                  Source of Tweet  \\\n",
       "0                   0                      Jetpack.com   \n",
       "1                   0                         Poshmark   \n",
       "2                   0  FortniteBoards Social Auto Post   \n",
       "3                   0                      Jetpack.com   \n",
       "4                   0                      Jetpack.com   \n",
       "\n",
       "                                               Tweet Language  \\\n",
       "0  Why is it not enough that Ralph Lauren has wit...       en   \n",
       "1  Check out this listing I just added to my Posh...       en   \n",
       "2   Fortnites Polo Ralph Lauren Crossover Brings ...       en   \n",
       "3  The Fortnite Crossover Ralph Lauren Polo Bring...       en   \n",
       "4  Fortnites Polo Ralph Lauren Crossover Brings R...       en   \n",
       "\n",
       "                                                 URL  \\\n",
       "0  https://twitter.com/RivalTimes/status/15875934...   \n",
       "1  https://twitter.com/adrisa24/status/1587592568...   \n",
       "2  https://twitter.com/FortniteBoards/status/1587...   \n",
       "3  https://twitter.com/GeyiPoji/status/1587590596...   \n",
       "4  https://twitter.com/modcontrollerz/status/1587...   \n",
       "\n",
       "                                        Cleaned Data  \\\n",
       "0  Why not enough Ralph Lauren withdrawn sacks co...   \n",
       "1  Check listing I added Poshmark closet LAUREN R...   \n",
       "2  Fortnites Polo Ralph Lauren Crossover Brings R...   \n",
       "3  The Fortnite Crossover Ralph Lauren Polo Bring...   \n",
       "4  Fortnites Polo Ralph Lauren Crossover Brings R...   \n",
       "\n",
       "                                      Tokenized Data  \\\n",
       "0  [Why, is, it, not, enough, that, Ralph, Lauren...   \n",
       "1  [Check, out, this, listing, I, just, added, to...   \n",
       "2  [Fortnites, Polo, Ralph, Lauren, Crossover, Br...   \n",
       "3  [The, Fortnite, Crossover, Ralph, Lauren, Polo...   \n",
       "4  [Fortnites, Polo, Ralph, Lauren, Crossover, Br...   \n",
       "\n",
       "                            Tokenized LowerCase Data  \\\n",
       "0  [why, is, it, not, enough, that, ralph, lauren...   \n",
       "1  [check, out, this, listing, i, just, added, to...   \n",
       "2  [fortnites, polo, ralph, lauren, crossover, br...   \n",
       "3  [the, fortnite, crossover, ralph, lauren, polo...   \n",
       "4  [fortnites, polo, ralph, lauren, crossover, br...   \n",
       "\n",
       "                                Tokenized Clean Data  \\\n",
       "0  [Why, not, enough, Ralph, Lauren, withdrawn, s...   \n",
       "1  [Check, listing, I, added, Poshmark, closet, L...   \n",
       "2  [Fortnites, Polo, Ralph, Lauren, Crossover, Br...   \n",
       "3  [The, Fortnite, Crossover, Ralph, Lauren, Polo...   \n",
       "4  [Fortnites, Polo, Ralph, Lauren, Crossover, Br...   \n",
       "\n",
       "                      Tokenized Clean LowerCase Data  \n",
       "0  [why, not, enough, ralph, lauren, withdrawn, s...  \n",
       "1  [check, listing, i, added, poshmark, closet, l...  \n",
       "2  [fortnites, polo, ralph, lauren, crossover, br...  \n",
       "3  [the, fortnite, crossover, ralph, lauren, polo...  \n",
       "4  [fortnites, polo, ralph, lauren, crossover, br...  "
      ]
     },
     "execution_count": 15,
     "metadata": {},
     "output_type": "execute_result"
    }
   ],
   "source": [
    "tweets_df.head()"
   ]
  },
  {
   "cell_type": "code",
   "execution_count": 38,
   "id": "d7ead993",
   "metadata": {},
   "outputs": [
    {
     "data": {
      "text/html": [
       "<div>\n",
       "<style scoped>\n",
       "    .dataframe tbody tr th:only-of-type {\n",
       "        vertical-align: middle;\n",
       "    }\n",
       "\n",
       "    .dataframe tbody tr th {\n",
       "        vertical-align: top;\n",
       "    }\n",
       "\n",
       "    .dataframe thead th {\n",
       "        text-align: right;\n",
       "    }\n",
       "</style>\n",
       "<table border=\"1\" class=\"dataframe\">\n",
       "  <thead>\n",
       "    <tr style=\"text-align: right;\">\n",
       "      <th></th>\n",
       "      <th>Date</th>\n",
       "      <th>Subreddit</th>\n",
       "      <th>Title</th>\n",
       "      <th>Post Text</th>\n",
       "      <th>Author</th>\n",
       "      <th>Upvotes</th>\n",
       "      <th>CommentsCount</th>\n",
       "      <th>URL</th>\n",
       "      <th>Data</th>\n",
       "      <th>Cleaned Data</th>\n",
       "      <th>Tokenized Data</th>\n",
       "      <th>Tokenized Clean Data</th>\n",
       "      <th>Tokenized LowerCase Data</th>\n",
       "      <th>Tokenized Clean LowerCase Data</th>\n",
       "    </tr>\n",
       "  </thead>\n",
       "  <tbody>\n",
       "    <tr>\n",
       "      <th>0</th>\n",
       "      <td>2022-11-04 17:57:33</td>\n",
       "      <td>1688Reps</td>\n",
       "      <td>QC on the 225 yuan Balenciaga Authentic jersey...</td>\n",
       "      <td>NaN</td>\n",
       "      <td>Paintballmania124</td>\n",
       "      <td>1</td>\n",
       "      <td>0</td>\n",
       "      <td>https://www.reddit.com//r/1688Reps/comments/ym...</td>\n",
       "      <td>nan QC on the  yuan Balenciaga Authentic jerse...</td>\n",
       "      <td>QC yuan Balenciaga Authentic jersey apparel ho...</td>\n",
       "      <td>[nan, QC, on, the, yuan, Balenciaga, Authentic...</td>\n",
       "      <td>[QC, yuan, Balenciaga, Authentic, jersey, appa...</td>\n",
       "      <td>[nan, qc, on, the, yuan, balenciaga, authentic...</td>\n",
       "      <td>[qc, yuan, balenciaga, authentic, jersey, appa...</td>\n",
       "    </tr>\n",
       "    <tr>\n",
       "      <th>1</th>\n",
       "      <td>2022-11-04 17:20:55</td>\n",
       "      <td>FashionReps</td>\n",
       "      <td>Balenciaga Track Clear Sole CSJ [Good batch]</td>\n",
       "      <td>[removed]</td>\n",
       "      <td>MakeTheCut_fjp</td>\n",
       "      <td>1</td>\n",
       "      <td>0</td>\n",
       "      <td>https://www.reddit.com//r/FashionReps/comments...</td>\n",
       "      <td>removed Balenciaga Track Clear Sole CSJ Good b...</td>\n",
       "      <td>Balenciaga Track Clear Sole CSJ Good batch</td>\n",
       "      <td>[removed, Balenciaga, Track, Clear, Sole, CSJ,...</td>\n",
       "      <td>[Balenciaga, Track, Clear, Sole, CSJ, Good, ba...</td>\n",
       "      <td>[removed, balenciaga, track, clear, sole, csj,...</td>\n",
       "      <td>[balenciaga, track, clear, sole, csj, good, ba...</td>\n",
       "    </tr>\n",
       "    <tr>\n",
       "      <th>2</th>\n",
       "      <td>2022-11-04 17:20:16</td>\n",
       "      <td>QualityReps</td>\n",
       "      <td>About BALENCIAGA CROSS BOOTS - WWTOP</td>\n",
       "      <td>NaN</td>\n",
       "      <td>Competitive-Guide651</td>\n",
       "      <td>1</td>\n",
       "      <td>0</td>\n",
       "      <td>https://www.reddit.com//r/QualityReps/comments...</td>\n",
       "      <td>nan About BALENCIAGA CROSS BOOTS  WWTOP</td>\n",
       "      <td>About BALENCIAGA CROSS BOOTS WWTOP</td>\n",
       "      <td>[nan, About, BALENCIAGA, CROSS, BOOTS, WWTOP]</td>\n",
       "      <td>[About, BALENCIAGA, CROSS, BOOTS, WWTOP]</td>\n",
       "      <td>[nan, about, balenciaga, cross, boots, wwtop]</td>\n",
       "      <td>[about, balenciaga, cross, boots, wwtop]</td>\n",
       "    </tr>\n",
       "    <tr>\n",
       "      <th>3</th>\n",
       "      <td>2022-11-04 17:16:13</td>\n",
       "      <td>QualityReps</td>\n",
       "      <td>About BALENCIAGA CROSS boots - WWTOP</td>\n",
       "      <td>NaN</td>\n",
       "      <td>Competitive-Guide651</td>\n",
       "      <td>1</td>\n",
       "      <td>0</td>\n",
       "      <td>https://www.reddit.com//r/QualityReps/comments...</td>\n",
       "      <td>nan About BALENCIAGA CROSS boots  WWTOP</td>\n",
       "      <td>About BALENCIAGA CROSS boots WWTOP</td>\n",
       "      <td>[nan, About, BALENCIAGA, CROSS, boots, WWTOP]</td>\n",
       "      <td>[About, BALENCIAGA, CROSS, boots, WWTOP]</td>\n",
       "      <td>[nan, about, balenciaga, cross, boots, wwtop]</td>\n",
       "      <td>[about, balenciaga, cross, boots, wwtop]</td>\n",
       "    </tr>\n",
       "    <tr>\n",
       "      <th>4</th>\n",
       "      <td>2022-11-04 17:06:50</td>\n",
       "      <td>CryptoStock</td>\n",
       "      <td>Balenciaga Announces Bitcoin Payments – The BT...</td>\n",
       "      <td>NaN</td>\n",
       "      <td>asmajda</td>\n",
       "      <td>1</td>\n",
       "      <td>0</td>\n",
       "      <td>https://www.reddit.com//r/CryptoStock/comments...</td>\n",
       "      <td>nan Balenciaga Announces Bitcoin Payments  The...</td>\n",
       "      <td>Balenciaga Announces Bitcoin Payments The BTC ...</td>\n",
       "      <td>[nan, Balenciaga, Announces, Bitcoin, Payments...</td>\n",
       "      <td>[Balenciaga, Announces, Bitcoin, Payments, The...</td>\n",
       "      <td>[nan, balenciaga, announces, bitcoin, payments...</td>\n",
       "      <td>[balenciaga, announces, bitcoin, payments, the...</td>\n",
       "    </tr>\n",
       "  </tbody>\n",
       "</table>\n",
       "</div>"
      ],
      "text/plain": [
       "                  Date    Subreddit  \\\n",
       "0  2022-11-04 17:57:33     1688Reps   \n",
       "1  2022-11-04 17:20:55  FashionReps   \n",
       "2  2022-11-04 17:20:16  QualityReps   \n",
       "3  2022-11-04 17:16:13  QualityReps   \n",
       "4  2022-11-04 17:06:50  CryptoStock   \n",
       "\n",
       "                                               Title  Post Text  \\\n",
       "0  QC on the 225 yuan Balenciaga Authentic jersey...        NaN   \n",
       "1       Balenciaga Track Clear Sole CSJ [Good batch]  [removed]   \n",
       "2               About BALENCIAGA CROSS BOOTS - WWTOP        NaN   \n",
       "3               About BALENCIAGA CROSS boots - WWTOP        NaN   \n",
       "4  Balenciaga Announces Bitcoin Payments – The BT...        NaN   \n",
       "\n",
       "                 Author  Upvotes  CommentsCount  \\\n",
       "0     Paintballmania124        1              0   \n",
       "1        MakeTheCut_fjp        1              0   \n",
       "2  Competitive-Guide651        1              0   \n",
       "3  Competitive-Guide651        1              0   \n",
       "4               asmajda        1              0   \n",
       "\n",
       "                                                 URL  \\\n",
       "0  https://www.reddit.com//r/1688Reps/comments/ym...   \n",
       "1  https://www.reddit.com//r/FashionReps/comments...   \n",
       "2  https://www.reddit.com//r/QualityReps/comments...   \n",
       "3  https://www.reddit.com//r/QualityReps/comments...   \n",
       "4  https://www.reddit.com//r/CryptoStock/comments...   \n",
       "\n",
       "                                                Data  \\\n",
       "0  nan QC on the  yuan Balenciaga Authentic jerse...   \n",
       "1  removed Balenciaga Track Clear Sole CSJ Good b...   \n",
       "2            nan About BALENCIAGA CROSS BOOTS  WWTOP   \n",
       "3            nan About BALENCIAGA CROSS boots  WWTOP   \n",
       "4  nan Balenciaga Announces Bitcoin Payments  The...   \n",
       "\n",
       "                                        Cleaned Data  \\\n",
       "0  QC yuan Balenciaga Authentic jersey apparel ho...   \n",
       "1         Balenciaga Track Clear Sole CSJ Good batch   \n",
       "2                 About BALENCIAGA CROSS BOOTS WWTOP   \n",
       "3                 About BALENCIAGA CROSS boots WWTOP   \n",
       "4  Balenciaga Announces Bitcoin Payments The BTC ...   \n",
       "\n",
       "                                      Tokenized Data  \\\n",
       "0  [nan, QC, on, the, yuan, Balenciaga, Authentic...   \n",
       "1  [removed, Balenciaga, Track, Clear, Sole, CSJ,...   \n",
       "2      [nan, About, BALENCIAGA, CROSS, BOOTS, WWTOP]   \n",
       "3      [nan, About, BALENCIAGA, CROSS, boots, WWTOP]   \n",
       "4  [nan, Balenciaga, Announces, Bitcoin, Payments...   \n",
       "\n",
       "                                Tokenized Clean Data  \\\n",
       "0  [QC, yuan, Balenciaga, Authentic, jersey, appa...   \n",
       "1  [Balenciaga, Track, Clear, Sole, CSJ, Good, ba...   \n",
       "2           [About, BALENCIAGA, CROSS, BOOTS, WWTOP]   \n",
       "3           [About, BALENCIAGA, CROSS, boots, WWTOP]   \n",
       "4  [Balenciaga, Announces, Bitcoin, Payments, The...   \n",
       "\n",
       "                            Tokenized LowerCase Data  \\\n",
       "0  [nan, qc, on, the, yuan, balenciaga, authentic...   \n",
       "1  [removed, balenciaga, track, clear, sole, csj,...   \n",
       "2      [nan, about, balenciaga, cross, boots, wwtop]   \n",
       "3      [nan, about, balenciaga, cross, boots, wwtop]   \n",
       "4  [nan, balenciaga, announces, bitcoin, payments...   \n",
       "\n",
       "                      Tokenized Clean LowerCase Data  \n",
       "0  [qc, yuan, balenciaga, authentic, jersey, appa...  \n",
       "1  [balenciaga, track, clear, sole, csj, good, ba...  \n",
       "2           [about, balenciaga, cross, boots, wwtop]  \n",
       "3           [about, balenciaga, cross, boots, wwtop]  \n",
       "4  [balenciaga, announces, bitcoin, payments, the...  "
      ]
     },
     "execution_count": 38,
     "metadata": {},
     "output_type": "execute_result"
    }
   ],
   "source": [
    "reddit_df.head()"
   ]
  },
  {
   "cell_type": "markdown",
   "id": "012b3a98",
   "metadata": {},
   "source": [
    "#### Save to new .csv file"
   ]
  },
  {
   "cell_type": "code",
   "execution_count": 16,
   "id": "2b51f952",
   "metadata": {},
   "outputs": [],
   "source": [
    "tweets_df.to_csv(\"Cleaned_Tweets.csv\", encoding=\"utf-8\", index=False)\n",
    "#reddit_df.to_csv(\"Cleaned_Reddit.csv\", encoding=\"utf-8\", index=False)"
   ]
  },
  {
   "cell_type": "code",
   "execution_count": 64,
   "id": "6d457a56",
   "metadata": {},
   "outputs": [
    {
     "data": {
      "text/plain": [
       "(10920, 11)"
      ]
     },
     "execution_count": 64,
     "metadata": {},
     "output_type": "execute_result"
    }
   ],
   "source": [
    "tweets_df.shape"
   ]
  },
  {
   "cell_type": "code",
   "execution_count": 65,
   "id": "8ee7d6d0",
   "metadata": {},
   "outputs": [
    {
     "data": {
      "text/plain": [
       "(32817, 12)"
      ]
     },
     "execution_count": 65,
     "metadata": {},
     "output_type": "execute_result"
    }
   ],
   "source": [
    "reddit_df.shape"
   ]
  },
  {
   "cell_type": "code",
   "execution_count": null,
   "id": "4432aff7",
   "metadata": {},
   "outputs": [],
   "source": []
  }
 ],
 "metadata": {
  "kernelspec": {
   "display_name": "Python 3",
   "language": "python",
   "name": "python3"
  },
  "language_info": {
   "codemirror_mode": {
    "name": "ipython",
    "version": 3
   },
   "file_extension": ".py",
   "mimetype": "text/x-python",
   "name": "python",
   "nbconvert_exporter": "python",
   "pygments_lexer": "ipython3",
   "version": "3.7.4"
  }
 },
 "nbformat": 4,
 "nbformat_minor": 5
}
