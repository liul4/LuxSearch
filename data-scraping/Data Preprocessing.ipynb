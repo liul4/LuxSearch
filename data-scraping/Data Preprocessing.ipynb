{
 "cells": [
  {
   "cell_type": "markdown",
   "id": "78f6dae4",
   "metadata": {},
   "source": [
    "## Data Preprocessing"
   ]
  },
  {
   "cell_type": "markdown",
   "id": "b0c43bc5",
   "metadata": {},
   "source": [
    "### Import libraries"
   ]
  },
  {
   "cell_type": "code",
   "execution_count": 33,
   "id": "dc0b2677",
   "metadata": {},
   "outputs": [
    {
     "name": "stderr",
     "output_type": "stream",
     "text": [
      "[nltk_data] Downloading package punkt to\n",
      "[nltk_data]     C:\\Users\\Administrator\\AppData\\Roaming\\nltk_data...\n",
      "[nltk_data]   Package punkt is already up-to-date!\n"
     ]
    },
    {
     "data": {
      "text/plain": [
       "True"
      ]
     },
     "execution_count": 33,
     "metadata": {},
     "output_type": "execute_result"
    }
   ],
   "source": [
    "import pandas as pd\n",
    "import numpy as np\n",
    "import seaborn as sns\n",
    "import matplotlib.pyplot as plt\n",
    "from nltk.tokenize import sent_tokenize, word_tokenize\n",
    "from nltk.corpus import stopwords\n",
    "import nltk \n",
    "import string\n",
    "\n",
    "nltk.download('punkt')"
   ]
  },
  {
   "cell_type": "markdown",
   "id": "b0222bd5",
   "metadata": {},
   "source": [
    "### Import Dataset"
   ]
  },
  {
   "cell_type": "code",
   "execution_count": 34,
   "id": "c4fd6774",
   "metadata": {},
   "outputs": [],
   "source": [
    "tweets_df = pd.read_csv('tweets.csv',index_col = False)\n",
    "reddit_df = pd.read_csv('PushShiftAPI.csv',index_col = False)"
   ]
  },
  {
   "cell_type": "code",
   "execution_count": 35,
   "id": "8da87869",
   "metadata": {},
   "outputs": [
    {
     "data": {
      "text/html": [
       "<div>\n",
       "<style scoped>\n",
       "    .dataframe tbody tr th:only-of-type {\n",
       "        vertical-align: middle;\n",
       "    }\n",
       "\n",
       "    .dataframe tbody tr th {\n",
       "        vertical-align: top;\n",
       "    }\n",
       "\n",
       "    .dataframe thead th {\n",
       "        text-align: right;\n",
       "    }\n",
       "</style>\n",
       "<table border=\"1\" class=\"dataframe\">\n",
       "  <thead>\n",
       "    <tr style=\"text-align: right;\">\n",
       "      <th></th>\n",
       "      <th>User</th>\n",
       "      <th>Date Created</th>\n",
       "      <th>Number of Likes</th>\n",
       "      <th>Number of Retweets</th>\n",
       "      <th>Source of Tweet</th>\n",
       "      <th>Tweet</th>\n",
       "      <th>Language</th>\n",
       "      <th>URL</th>\n",
       "    </tr>\n",
       "  </thead>\n",
       "  <tbody>\n",
       "    <tr>\n",
       "      <th>0</th>\n",
       "      <td>RivalTimes</td>\n",
       "      <td>2022-11-01 23:52:17+00:00</td>\n",
       "      <td>0</td>\n",
       "      <td>0</td>\n",
       "      <td>Jetpack.com</td>\n",
       "      <td>Why is it not enough that Ralph Lauren has wit...</td>\n",
       "      <td>en</td>\n",
       "      <td>https://twitter.com/RivalTimes/status/15875934...</td>\n",
       "    </tr>\n",
       "    <tr>\n",
       "      <th>1</th>\n",
       "      <td>adrisa24</td>\n",
       "      <td>2022-11-01 23:48:59+00:00</td>\n",
       "      <td>0</td>\n",
       "      <td>0</td>\n",
       "      <td>Poshmark</td>\n",
       "      <td>Check out this listing I just added to my #Pos...</td>\n",
       "      <td>en</td>\n",
       "      <td>https://twitter.com/adrisa24/status/1587592568...</td>\n",
       "    </tr>\n",
       "    <tr>\n",
       "      <th>2</th>\n",
       "      <td>FortniteBoards</td>\n",
       "      <td>2022-11-01 23:42:09+00:00</td>\n",
       "      <td>0</td>\n",
       "      <td>0</td>\n",
       "      <td>FortniteBoards Social Auto Post</td>\n",
       "      <td>🔔 Fortnite's Polo Ralph Lauren Crossover Bring...</td>\n",
       "      <td>en</td>\n",
       "      <td>https://twitter.com/FortniteBoards/status/1587...</td>\n",
       "    </tr>\n",
       "    <tr>\n",
       "      <th>3</th>\n",
       "      <td>GeyiPoji</td>\n",
       "      <td>2022-11-01 23:41:08+00:00</td>\n",
       "      <td>0</td>\n",
       "      <td>0</td>\n",
       "      <td>Jetpack.com</td>\n",
       "      <td>The Fortnite Crossover Ralph Lauren Polo Bring...</td>\n",
       "      <td>en</td>\n",
       "      <td>https://twitter.com/GeyiPoji/status/1587590596...</td>\n",
       "    </tr>\n",
       "    <tr>\n",
       "      <th>4</th>\n",
       "      <td>modcontrollerz</td>\n",
       "      <td>2022-11-01 23:39:48+00:00</td>\n",
       "      <td>0</td>\n",
       "      <td>0</td>\n",
       "      <td>Jetpack.com</td>\n",
       "      <td>Fortnite’s Polo Ralph Lauren Crossover Brings ...</td>\n",
       "      <td>en</td>\n",
       "      <td>https://twitter.com/modcontrollerz/status/1587...</td>\n",
       "    </tr>\n",
       "  </tbody>\n",
       "</table>\n",
       "</div>"
      ],
      "text/plain": [
       "             User               Date Created  Number of Likes  \\\n",
       "0      RivalTimes  2022-11-01 23:52:17+00:00                0   \n",
       "1        adrisa24  2022-11-01 23:48:59+00:00                0   \n",
       "2  FortniteBoards  2022-11-01 23:42:09+00:00                0   \n",
       "3        GeyiPoji  2022-11-01 23:41:08+00:00                0   \n",
       "4  modcontrollerz  2022-11-01 23:39:48+00:00                0   \n",
       "\n",
       "   Number of Retweets                  Source of Tweet  \\\n",
       "0                   0                      Jetpack.com   \n",
       "1                   0                         Poshmark   \n",
       "2                   0  FortniteBoards Social Auto Post   \n",
       "3                   0                      Jetpack.com   \n",
       "4                   0                      Jetpack.com   \n",
       "\n",
       "                                               Tweet Language  \\\n",
       "0  Why is it not enough that Ralph Lauren has wit...       en   \n",
       "1  Check out this listing I just added to my #Pos...       en   \n",
       "2  🔔 Fortnite's Polo Ralph Lauren Crossover Bring...       en   \n",
       "3  The Fortnite Crossover Ralph Lauren Polo Bring...       en   \n",
       "4  Fortnite’s Polo Ralph Lauren Crossover Brings ...       en   \n",
       "\n",
       "                                                 URL  \n",
       "0  https://twitter.com/RivalTimes/status/15875934...  \n",
       "1  https://twitter.com/adrisa24/status/1587592568...  \n",
       "2  https://twitter.com/FortniteBoards/status/1587...  \n",
       "3  https://twitter.com/GeyiPoji/status/1587590596...  \n",
       "4  https://twitter.com/modcontrollerz/status/1587...  "
      ]
     },
     "execution_count": 35,
     "metadata": {},
     "output_type": "execute_result"
    }
   ],
   "source": [
    "tweets_df.head()"
   ]
  },
  {
   "cell_type": "code",
   "execution_count": 36,
   "id": "336c5418",
   "metadata": {},
   "outputs": [
    {
     "data": {
      "text/html": [
       "<div>\n",
       "<style scoped>\n",
       "    .dataframe tbody tr th:only-of-type {\n",
       "        vertical-align: middle;\n",
       "    }\n",
       "\n",
       "    .dataframe tbody tr th {\n",
       "        vertical-align: top;\n",
       "    }\n",
       "\n",
       "    .dataframe thead th {\n",
       "        text-align: right;\n",
       "    }\n",
       "</style>\n",
       "<table border=\"1\" class=\"dataframe\">\n",
       "  <thead>\n",
       "    <tr style=\"text-align: right;\">\n",
       "      <th></th>\n",
       "      <th>Date</th>\n",
       "      <th>Subreddit</th>\n",
       "      <th>Title</th>\n",
       "      <th>Post Text</th>\n",
       "      <th>Author</th>\n",
       "      <th>Upvotes</th>\n",
       "      <th>CommentsCount</th>\n",
       "      <th>URL</th>\n",
       "      <th>Data</th>\n",
       "    </tr>\n",
       "  </thead>\n",
       "  <tbody>\n",
       "    <tr>\n",
       "      <th>0</th>\n",
       "      <td>2022-11-04 17:57:33</td>\n",
       "      <td>1688Reps</td>\n",
       "      <td>QC on the 225 yuan Balenciaga Authentic jersey...</td>\n",
       "      <td>NaN</td>\n",
       "      <td>Paintballmania124</td>\n",
       "      <td>1</td>\n",
       "      <td>0</td>\n",
       "      <td>https://www.reddit.com//r/1688Reps/comments/ym...</td>\n",
       "      <td>nan QC on the 225 yuan Balenciaga Authentic je...</td>\n",
       "    </tr>\n",
       "    <tr>\n",
       "      <th>1</th>\n",
       "      <td>2022-11-04 17:20:55</td>\n",
       "      <td>FashionReps</td>\n",
       "      <td>Balenciaga Track Clear Sole CSJ [Good batch]</td>\n",
       "      <td>[removed]</td>\n",
       "      <td>MakeTheCut_fjp</td>\n",
       "      <td>1</td>\n",
       "      <td>0</td>\n",
       "      <td>https://www.reddit.com//r/FashionReps/comments...</td>\n",
       "      <td>[removed] Balenciaga Track Clear Sole CSJ [Goo...</td>\n",
       "    </tr>\n",
       "    <tr>\n",
       "      <th>2</th>\n",
       "      <td>2022-11-04 17:20:16</td>\n",
       "      <td>QualityReps</td>\n",
       "      <td>About BALENCIAGA CROSS BOOTS - WWTOP</td>\n",
       "      <td>NaN</td>\n",
       "      <td>Competitive-Guide651</td>\n",
       "      <td>1</td>\n",
       "      <td>0</td>\n",
       "      <td>https://www.reddit.com//r/QualityReps/comments...</td>\n",
       "      <td>nan About BALENCIAGA CROSS BOOTS - WWTOP</td>\n",
       "    </tr>\n",
       "    <tr>\n",
       "      <th>3</th>\n",
       "      <td>2022-11-04 17:16:13</td>\n",
       "      <td>QualityReps</td>\n",
       "      <td>About BALENCIAGA CROSS boots - WWTOP</td>\n",
       "      <td>NaN</td>\n",
       "      <td>Competitive-Guide651</td>\n",
       "      <td>1</td>\n",
       "      <td>0</td>\n",
       "      <td>https://www.reddit.com//r/QualityReps/comments...</td>\n",
       "      <td>nan About BALENCIAGA CROSS boots - WWTOP</td>\n",
       "    </tr>\n",
       "    <tr>\n",
       "      <th>4</th>\n",
       "      <td>2022-11-04 17:06:50</td>\n",
       "      <td>CryptoStock</td>\n",
       "      <td>Balenciaga Announces Bitcoin Payments – The BT...</td>\n",
       "      <td>NaN</td>\n",
       "      <td>asmajda</td>\n",
       "      <td>1</td>\n",
       "      <td>0</td>\n",
       "      <td>https://www.reddit.com//r/CryptoStock/comments...</td>\n",
       "      <td>nan Balenciaga Announces Bitcoin Payments – Th...</td>\n",
       "    </tr>\n",
       "  </tbody>\n",
       "</table>\n",
       "</div>"
      ],
      "text/plain": [
       "                  Date    Subreddit  \\\n",
       "0  2022-11-04 17:57:33     1688Reps   \n",
       "1  2022-11-04 17:20:55  FashionReps   \n",
       "2  2022-11-04 17:20:16  QualityReps   \n",
       "3  2022-11-04 17:16:13  QualityReps   \n",
       "4  2022-11-04 17:06:50  CryptoStock   \n",
       "\n",
       "                                               Title  Post Text  \\\n",
       "0  QC on the 225 yuan Balenciaga Authentic jersey...        NaN   \n",
       "1       Balenciaga Track Clear Sole CSJ [Good batch]  [removed]   \n",
       "2               About BALENCIAGA CROSS BOOTS - WWTOP        NaN   \n",
       "3               About BALENCIAGA CROSS boots - WWTOP        NaN   \n",
       "4  Balenciaga Announces Bitcoin Payments – The BT...        NaN   \n",
       "\n",
       "                 Author  Upvotes  CommentsCount  \\\n",
       "0     Paintballmania124        1              0   \n",
       "1        MakeTheCut_fjp        1              0   \n",
       "2  Competitive-Guide651        1              0   \n",
       "3  Competitive-Guide651        1              0   \n",
       "4               asmajda        1              0   \n",
       "\n",
       "                                                 URL  \\\n",
       "0  https://www.reddit.com//r/1688Reps/comments/ym...   \n",
       "1  https://www.reddit.com//r/FashionReps/comments...   \n",
       "2  https://www.reddit.com//r/QualityReps/comments...   \n",
       "3  https://www.reddit.com//r/QualityReps/comments...   \n",
       "4  https://www.reddit.com//r/CryptoStock/comments...   \n",
       "\n",
       "                                                Data  \n",
       "0  nan QC on the 225 yuan Balenciaga Authentic je...  \n",
       "1  [removed] Balenciaga Track Clear Sole CSJ [Goo...  \n",
       "2           nan About BALENCIAGA CROSS BOOTS - WWTOP  \n",
       "3           nan About BALENCIAGA CROSS boots - WWTOP  \n",
       "4  nan Balenciaga Announces Bitcoin Payments – Th...  "
      ]
     },
     "execution_count": 36,
     "metadata": {},
     "output_type": "execute_result"
    }
   ],
   "source": [
    "reddit_df['Data']=reddit_df['Post Text'].astype(str)+' '+reddit_df['Title']\n",
    "reddit_df.head()"
   ]
  },
  {
   "cell_type": "markdown",
   "id": "aacd13fa",
   "metadata": {},
   "source": [
    "#### Remove URLs"
   ]
  },
  {
   "cell_type": "code",
   "execution_count": 37,
   "id": "47c7af79",
   "metadata": {},
   "outputs": [
    {
     "name": "stderr",
     "output_type": "stream",
     "text": [
      "C:\\Users\\Administrator\\AppData\\Local\\Temp\\ipykernel_46028\\3407279054.py:1: FutureWarning: The default value of regex will change from True to False in a future version.\n",
      "  tweets_df['Tweet'] = tweets_df['Tweet'].str.replace('http[s]?://(?:[a-zA-Z]|[0-9]|[$-_@.&+]|[!*\\(\\),]|(?:%[0-9a-fA-F][0-9a-fA-F]))+', '')\n"
     ]
    }
   ],
   "source": [
    "tweets_df['Tweet'] = tweets_df['Tweet'].str.replace('http[s]?://(?:[a-zA-Z]|[0-9]|[$-_@.&+]|[!*\\(\\),]|(?:%[0-9a-fA-F][0-9a-fA-F]))+', '')"
   ]
  },
  {
   "cell_type": "code",
   "execution_count": 38,
   "id": "ff02f2e3",
   "metadata": {},
   "outputs": [
    {
     "name": "stderr",
     "output_type": "stream",
     "text": [
      "C:\\Users\\Administrator\\AppData\\Local\\Temp\\ipykernel_46028\\3483253370.py:1: FutureWarning: The default value of regex will change from True to False in a future version.\n",
      "  reddit_df['Data'] = reddit_df['Data'].str.replace('http[s]?://(?:[a-zA-Z]|[0-9]|[$-_@.&+]|[!*\\(\\),]|(?:%[0-9a-fA-F][0-9a-fA-F]))+', '')\n"
     ]
    }
   ],
   "source": [
    "reddit_df['Data'] = reddit_df['Data'].str.replace('http[s]?://(?:[a-zA-Z]|[0-9]|[$-_@.&+]|[!*\\(\\),]|(?:%[0-9a-fA-F][0-9a-fA-F]))+', '')"
   ]
  },
  {
   "cell_type": "markdown",
   "id": "1f609214",
   "metadata": {},
   "source": [
    "#### Remove emails"
   ]
  },
  {
   "cell_type": "code",
   "execution_count": 39,
   "id": "e9058d26",
   "metadata": {},
   "outputs": [
    {
     "name": "stderr",
     "output_type": "stream",
     "text": [
      "C:\\Users\\Administrator\\AppData\\Local\\Temp\\ipykernel_46028\\1134186376.py:1: FutureWarning: The default value of regex will change from True to False in a future version.\n",
      "  tweets_df['Tweet'] = tweets_df['Tweet'].str.replace(r'[\\w\\.-]+@[\\w\\.-]+', '')\n"
     ]
    }
   ],
   "source": [
    "tweets_df['Tweet'] = tweets_df['Tweet'].str.replace(r'[\\w\\.-]+@[\\w\\.-]+', '')"
   ]
  },
  {
   "cell_type": "code",
   "execution_count": 40,
   "id": "7d3711df",
   "metadata": {},
   "outputs": [
    {
     "name": "stderr",
     "output_type": "stream",
     "text": [
      "C:\\Users\\Administrator\\AppData\\Local\\Temp\\ipykernel_46028\\935654661.py:1: FutureWarning: The default value of regex will change from True to False in a future version.\n",
      "  reddit_df['Data']= reddit_df['Data'].str.replace(r'[\\w\\.-]+@[\\w\\.-]+', '')\n"
     ]
    }
   ],
   "source": [
    "reddit_df['Data']= reddit_df['Data'].str.replace(r'[\\w\\.-]+@[\\w\\.-]+', '')"
   ]
  },
  {
   "cell_type": "markdown",
   "id": "b1a54085",
   "metadata": {},
   "source": [
    "#### Remove punctuations"
   ]
  },
  {
   "cell_type": "code",
   "execution_count": 41,
   "id": "a2f24bd2",
   "metadata": {},
   "outputs": [
    {
     "name": "stderr",
     "output_type": "stream",
     "text": [
      "C:\\Users\\Administrator\\AppData\\Local\\Temp\\ipykernel_46028\\590015028.py:1: FutureWarning: The default value of regex will change from True to False in a future version.\n",
      "  tweets_df['Tweet'] = tweets_df['Tweet'].str.replace(r'[^\\w\\s]+', '')\n"
     ]
    }
   ],
   "source": [
    "tweets_df['Tweet'] = tweets_df['Tweet'].str.replace(r'[^\\w\\s]+', '')"
   ]
  },
  {
   "cell_type": "code",
   "execution_count": 42,
   "id": "52285fd3",
   "metadata": {},
   "outputs": [
    {
     "name": "stderr",
     "output_type": "stream",
     "text": [
      "C:\\Users\\Administrator\\AppData\\Local\\Temp\\ipykernel_46028\\2075563278.py:1: FutureWarning: The default value of regex will change from True to False in a future version.\n",
      "  reddit_df['Data'] = reddit_df['Data'].str.replace(r'[^\\w\\s]+', '')\n"
     ]
    }
   ],
   "source": [
    "reddit_df['Data'] = reddit_df['Data'].str.replace(r'[^\\w\\s]+', '')"
   ]
  },
  {
   "cell_type": "markdown",
   "id": "7aef60e1",
   "metadata": {},
   "source": [
    "#### Remove numbers"
   ]
  },
  {
   "cell_type": "code",
   "execution_count": 43,
   "id": "7b42ec6a",
   "metadata": {},
   "outputs": [
    {
     "name": "stderr",
     "output_type": "stream",
     "text": [
      "C:\\Users\\Administrator\\AppData\\Local\\Temp\\ipykernel_46028\\1599274398.py:1: FutureWarning: The default value of regex will change from True to False in a future version.\n",
      "  tweets_df['Tweet'] = tweets_df['Tweet'].str.replace(r'[0-9]+', '')\n"
     ]
    }
   ],
   "source": [
    "tweets_df['Tweet'] = tweets_df['Tweet'].str.replace(r'[0-9]+', '')"
   ]
  },
  {
   "cell_type": "code",
   "execution_count": 44,
   "id": "95509b36",
   "metadata": {},
   "outputs": [
    {
     "name": "stderr",
     "output_type": "stream",
     "text": [
      "C:\\Users\\Administrator\\AppData\\Local\\Temp\\ipykernel_46028\\2689639338.py:1: FutureWarning: The default value of regex will change from True to False in a future version.\n",
      "  reddit_df['Data']  = reddit_df['Data'].str.replace(r'[0-9]+', '')\n"
     ]
    }
   ],
   "source": [
    "reddit_df['Data']  = reddit_df['Data'].str.replace(r'[0-9]+', '')"
   ]
  },
  {
   "cell_type": "markdown",
   "id": "e7f1d72d",
   "metadata": {},
   "source": [
    "#### Remove stopwords"
   ]
  },
  {
   "cell_type": "code",
   "execution_count": 56,
   "id": "cc06eb8c",
   "metadata": {},
   "outputs": [],
   "source": [
    "stop_words = stopwords.words('english')\n",
    "stop_words.append('nan')\n",
    "stop_words.append('removed')\n",
    "stop_words.remove('not')\n",
    "stop_words.remove('no')"
   ]
  },
  {
   "cell_type": "code",
   "execution_count": 57,
   "id": "d04b79ee",
   "metadata": {},
   "outputs": [],
   "source": [
    "tweets_df['Cleaned Data'] = tweets_df['Tweet'].apply(lambda x: ' '.join([word for word in x.split() if word not in (stop_words)]))"
   ]
  },
  {
   "cell_type": "code",
   "execution_count": 58,
   "id": "70bd1089",
   "metadata": {},
   "outputs": [],
   "source": [
    "reddit_df['Cleaned Data'] =reddit_df['Data'].apply(lambda x: ' '.join([word for word in x.split() if word not in (stop_words)]))"
   ]
  },
  {
   "cell_type": "markdown",
   "id": "7e39c1f6",
   "metadata": {},
   "source": [
    "#### Tokenisation of text"
   ]
  },
  {
   "cell_type": "code",
   "execution_count": 59,
   "id": "850a3e09",
   "metadata": {},
   "outputs": [],
   "source": [
    "tweets_df['Tokenized Data'] = tweets_df['Tweet'].apply(word_tokenize)\n",
    "reddit_df['Tokenized Data'] = reddit_df['Data'].apply(word_tokenize)"
   ]
  },
  {
   "cell_type": "code",
   "execution_count": 60,
   "id": "f3d83c97",
   "metadata": {},
   "outputs": [],
   "source": [
    "tweets_df['Tokenized Clean Data'] = tweets_df['Cleaned Data'].apply(word_tokenize)\n",
    "reddit_df['Tokenized Clean Data'] = reddit_df['Cleaned Data'].apply(word_tokenize)"
   ]
  },
  {
   "cell_type": "code",
   "execution_count": 61,
   "id": "97584a34",
   "metadata": {},
   "outputs": [
    {
     "data": {
      "text/html": [
       "<div>\n",
       "<style scoped>\n",
       "    .dataframe tbody tr th:only-of-type {\n",
       "        vertical-align: middle;\n",
       "    }\n",
       "\n",
       "    .dataframe tbody tr th {\n",
       "        vertical-align: top;\n",
       "    }\n",
       "\n",
       "    .dataframe thead th {\n",
       "        text-align: right;\n",
       "    }\n",
       "</style>\n",
       "<table border=\"1\" class=\"dataframe\">\n",
       "  <thead>\n",
       "    <tr style=\"text-align: right;\">\n",
       "      <th></th>\n",
       "      <th>User</th>\n",
       "      <th>Date Created</th>\n",
       "      <th>Number of Likes</th>\n",
       "      <th>Number of Retweets</th>\n",
       "      <th>Source of Tweet</th>\n",
       "      <th>Tweet</th>\n",
       "      <th>Language</th>\n",
       "      <th>URL</th>\n",
       "      <th>Cleaned Data</th>\n",
       "      <th>Tokenized Data</th>\n",
       "      <th>Tokenized Clean Data</th>\n",
       "    </tr>\n",
       "  </thead>\n",
       "  <tbody>\n",
       "    <tr>\n",
       "      <th>0</th>\n",
       "      <td>RivalTimes</td>\n",
       "      <td>2022-11-01 23:52:17+00:00</td>\n",
       "      <td>0</td>\n",
       "      <td>0</td>\n",
       "      <td>Jetpack.com</td>\n",
       "      <td>Why is it not enough that Ralph Lauren has wit...</td>\n",
       "      <td>en</td>\n",
       "      <td>https://twitter.com/RivalTimes/status/15875934...</td>\n",
       "      <td>Why not enough Ralph Lauren withdrawn sacks co...</td>\n",
       "      <td>[Why, is, it, not, enough, that, Ralph, Lauren...</td>\n",
       "      <td>[Why, not, enough, Ralph, Lauren, withdrawn, s...</td>\n",
       "    </tr>\n",
       "    <tr>\n",
       "      <th>1</th>\n",
       "      <td>adrisa24</td>\n",
       "      <td>2022-11-01 23:48:59+00:00</td>\n",
       "      <td>0</td>\n",
       "      <td>0</td>\n",
       "      <td>Poshmark</td>\n",
       "      <td>Check out this listing I just added to my Posh...</td>\n",
       "      <td>en</td>\n",
       "      <td>https://twitter.com/adrisa24/status/1587592568...</td>\n",
       "      <td>Check listing I added Poshmark closet LAUREN R...</td>\n",
       "      <td>[Check, out, this, listing, I, just, added, to...</td>\n",
       "      <td>[Check, listing, I, added, Poshmark, closet, L...</td>\n",
       "    </tr>\n",
       "    <tr>\n",
       "      <th>2</th>\n",
       "      <td>FortniteBoards</td>\n",
       "      <td>2022-11-01 23:42:09+00:00</td>\n",
       "      <td>0</td>\n",
       "      <td>0</td>\n",
       "      <td>FortniteBoards Social Auto Post</td>\n",
       "      <td>Fortnites Polo Ralph Lauren Crossover Brings ...</td>\n",
       "      <td>en</td>\n",
       "      <td>https://twitter.com/FortniteBoards/status/1587...</td>\n",
       "      <td>Fortnites Polo Ralph Lauren Crossover Brings R...</td>\n",
       "      <td>[Fortnites, Polo, Ralph, Lauren, Crossover, Br...</td>\n",
       "      <td>[Fortnites, Polo, Ralph, Lauren, Crossover, Br...</td>\n",
       "    </tr>\n",
       "    <tr>\n",
       "      <th>3</th>\n",
       "      <td>GeyiPoji</td>\n",
       "      <td>2022-11-01 23:41:08+00:00</td>\n",
       "      <td>0</td>\n",
       "      <td>0</td>\n",
       "      <td>Jetpack.com</td>\n",
       "      <td>The Fortnite Crossover Ralph Lauren Polo Bring...</td>\n",
       "      <td>en</td>\n",
       "      <td>https://twitter.com/GeyiPoji/status/1587590596...</td>\n",
       "      <td>The Fortnite Crossover Ralph Lauren Polo Bring...</td>\n",
       "      <td>[The, Fortnite, Crossover, Ralph, Lauren, Polo...</td>\n",
       "      <td>[The, Fortnite, Crossover, Ralph, Lauren, Polo...</td>\n",
       "    </tr>\n",
       "    <tr>\n",
       "      <th>4</th>\n",
       "      <td>modcontrollerz</td>\n",
       "      <td>2022-11-01 23:39:48+00:00</td>\n",
       "      <td>0</td>\n",
       "      <td>0</td>\n",
       "      <td>Jetpack.com</td>\n",
       "      <td>Fortnites Polo Ralph Lauren Crossover Brings R...</td>\n",
       "      <td>en</td>\n",
       "      <td>https://twitter.com/modcontrollerz/status/1587...</td>\n",
       "      <td>Fortnites Polo Ralph Lauren Crossover Brings R...</td>\n",
       "      <td>[Fortnites, Polo, Ralph, Lauren, Crossover, Br...</td>\n",
       "      <td>[Fortnites, Polo, Ralph, Lauren, Crossover, Br...</td>\n",
       "    </tr>\n",
       "  </tbody>\n",
       "</table>\n",
       "</div>"
      ],
      "text/plain": [
       "             User               Date Created  Number of Likes  \\\n",
       "0      RivalTimes  2022-11-01 23:52:17+00:00                0   \n",
       "1        adrisa24  2022-11-01 23:48:59+00:00                0   \n",
       "2  FortniteBoards  2022-11-01 23:42:09+00:00                0   \n",
       "3        GeyiPoji  2022-11-01 23:41:08+00:00                0   \n",
       "4  modcontrollerz  2022-11-01 23:39:48+00:00                0   \n",
       "\n",
       "   Number of Retweets                  Source of Tweet  \\\n",
       "0                   0                      Jetpack.com   \n",
       "1                   0                         Poshmark   \n",
       "2                   0  FortniteBoards Social Auto Post   \n",
       "3                   0                      Jetpack.com   \n",
       "4                   0                      Jetpack.com   \n",
       "\n",
       "                                               Tweet Language  \\\n",
       "0  Why is it not enough that Ralph Lauren has wit...       en   \n",
       "1  Check out this listing I just added to my Posh...       en   \n",
       "2   Fortnites Polo Ralph Lauren Crossover Brings ...       en   \n",
       "3  The Fortnite Crossover Ralph Lauren Polo Bring...       en   \n",
       "4  Fortnites Polo Ralph Lauren Crossover Brings R...       en   \n",
       "\n",
       "                                                 URL  \\\n",
       "0  https://twitter.com/RivalTimes/status/15875934...   \n",
       "1  https://twitter.com/adrisa24/status/1587592568...   \n",
       "2  https://twitter.com/FortniteBoards/status/1587...   \n",
       "3  https://twitter.com/GeyiPoji/status/1587590596...   \n",
       "4  https://twitter.com/modcontrollerz/status/1587...   \n",
       "\n",
       "                                        Cleaned Data  \\\n",
       "0  Why not enough Ralph Lauren withdrawn sacks co...   \n",
       "1  Check listing I added Poshmark closet LAUREN R...   \n",
       "2  Fortnites Polo Ralph Lauren Crossover Brings R...   \n",
       "3  The Fortnite Crossover Ralph Lauren Polo Bring...   \n",
       "4  Fortnites Polo Ralph Lauren Crossover Brings R...   \n",
       "\n",
       "                                      Tokenized Data  \\\n",
       "0  [Why, is, it, not, enough, that, Ralph, Lauren...   \n",
       "1  [Check, out, this, listing, I, just, added, to...   \n",
       "2  [Fortnites, Polo, Ralph, Lauren, Crossover, Br...   \n",
       "3  [The, Fortnite, Crossover, Ralph, Lauren, Polo...   \n",
       "4  [Fortnites, Polo, Ralph, Lauren, Crossover, Br...   \n",
       "\n",
       "                                Tokenized Clean Data  \n",
       "0  [Why, not, enough, Ralph, Lauren, withdrawn, s...  \n",
       "1  [Check, listing, I, added, Poshmark, closet, L...  \n",
       "2  [Fortnites, Polo, Ralph, Lauren, Crossover, Br...  \n",
       "3  [The, Fortnite, Crossover, Ralph, Lauren, Polo...  \n",
       "4  [Fortnites, Polo, Ralph, Lauren, Crossover, Br...  "
      ]
     },
     "execution_count": 61,
     "metadata": {},
     "output_type": "execute_result"
    }
   ],
   "source": [
    "tweets_df.head()"
   ]
  },
  {
   "cell_type": "code",
   "execution_count": 62,
   "id": "f46147c6",
   "metadata": {},
   "outputs": [
    {
     "data": {
      "text/html": [
       "<div>\n",
       "<style scoped>\n",
       "    .dataframe tbody tr th:only-of-type {\n",
       "        vertical-align: middle;\n",
       "    }\n",
       "\n",
       "    .dataframe tbody tr th {\n",
       "        vertical-align: top;\n",
       "    }\n",
       "\n",
       "    .dataframe thead th {\n",
       "        text-align: right;\n",
       "    }\n",
       "</style>\n",
       "<table border=\"1\" class=\"dataframe\">\n",
       "  <thead>\n",
       "    <tr style=\"text-align: right;\">\n",
       "      <th></th>\n",
       "      <th>Date</th>\n",
       "      <th>Subreddit</th>\n",
       "      <th>Title</th>\n",
       "      <th>Post Text</th>\n",
       "      <th>Author</th>\n",
       "      <th>Upvotes</th>\n",
       "      <th>CommentsCount</th>\n",
       "      <th>URL</th>\n",
       "      <th>Data</th>\n",
       "      <th>Cleaned Data</th>\n",
       "      <th>Tokenized Data</th>\n",
       "      <th>Tokenized Clean Data</th>\n",
       "    </tr>\n",
       "  </thead>\n",
       "  <tbody>\n",
       "    <tr>\n",
       "      <th>0</th>\n",
       "      <td>2022-11-04 17:57:33</td>\n",
       "      <td>1688Reps</td>\n",
       "      <td>QC on the 225 yuan Balenciaga Authentic jersey...</td>\n",
       "      <td>NaN</td>\n",
       "      <td>Paintballmania124</td>\n",
       "      <td>1</td>\n",
       "      <td>0</td>\n",
       "      <td>https://www.reddit.com//r/1688Reps/comments/ym...</td>\n",
       "      <td>nan QC on the  yuan Balenciaga Authentic jerse...</td>\n",
       "      <td>QC yuan Balenciaga Authentic jersey apparel ho...</td>\n",
       "      <td>[nan, QC, on, the, yuan, Balenciaga, Authentic...</td>\n",
       "      <td>[QC, yuan, Balenciaga, Authentic, jersey, appa...</td>\n",
       "    </tr>\n",
       "    <tr>\n",
       "      <th>1</th>\n",
       "      <td>2022-11-04 17:20:55</td>\n",
       "      <td>FashionReps</td>\n",
       "      <td>Balenciaga Track Clear Sole CSJ [Good batch]</td>\n",
       "      <td>[removed]</td>\n",
       "      <td>MakeTheCut_fjp</td>\n",
       "      <td>1</td>\n",
       "      <td>0</td>\n",
       "      <td>https://www.reddit.com//r/FashionReps/comments...</td>\n",
       "      <td>removed Balenciaga Track Clear Sole CSJ Good b...</td>\n",
       "      <td>Balenciaga Track Clear Sole CSJ Good batch</td>\n",
       "      <td>[removed, Balenciaga, Track, Clear, Sole, CSJ,...</td>\n",
       "      <td>[Balenciaga, Track, Clear, Sole, CSJ, Good, ba...</td>\n",
       "    </tr>\n",
       "    <tr>\n",
       "      <th>2</th>\n",
       "      <td>2022-11-04 17:20:16</td>\n",
       "      <td>QualityReps</td>\n",
       "      <td>About BALENCIAGA CROSS BOOTS - WWTOP</td>\n",
       "      <td>NaN</td>\n",
       "      <td>Competitive-Guide651</td>\n",
       "      <td>1</td>\n",
       "      <td>0</td>\n",
       "      <td>https://www.reddit.com//r/QualityReps/comments...</td>\n",
       "      <td>nan About BALENCIAGA CROSS BOOTS  WWTOP</td>\n",
       "      <td>About BALENCIAGA CROSS BOOTS WWTOP</td>\n",
       "      <td>[nan, About, BALENCIAGA, CROSS, BOOTS, WWTOP]</td>\n",
       "      <td>[About, BALENCIAGA, CROSS, BOOTS, WWTOP]</td>\n",
       "    </tr>\n",
       "    <tr>\n",
       "      <th>3</th>\n",
       "      <td>2022-11-04 17:16:13</td>\n",
       "      <td>QualityReps</td>\n",
       "      <td>About BALENCIAGA CROSS boots - WWTOP</td>\n",
       "      <td>NaN</td>\n",
       "      <td>Competitive-Guide651</td>\n",
       "      <td>1</td>\n",
       "      <td>0</td>\n",
       "      <td>https://www.reddit.com//r/QualityReps/comments...</td>\n",
       "      <td>nan About BALENCIAGA CROSS boots  WWTOP</td>\n",
       "      <td>About BALENCIAGA CROSS boots WWTOP</td>\n",
       "      <td>[nan, About, BALENCIAGA, CROSS, boots, WWTOP]</td>\n",
       "      <td>[About, BALENCIAGA, CROSS, boots, WWTOP]</td>\n",
       "    </tr>\n",
       "    <tr>\n",
       "      <th>4</th>\n",
       "      <td>2022-11-04 17:06:50</td>\n",
       "      <td>CryptoStock</td>\n",
       "      <td>Balenciaga Announces Bitcoin Payments – The BT...</td>\n",
       "      <td>NaN</td>\n",
       "      <td>asmajda</td>\n",
       "      <td>1</td>\n",
       "      <td>0</td>\n",
       "      <td>https://www.reddit.com//r/CryptoStock/comments...</td>\n",
       "      <td>nan Balenciaga Announces Bitcoin Payments  The...</td>\n",
       "      <td>Balenciaga Announces Bitcoin Payments The BTC ...</td>\n",
       "      <td>[nan, Balenciaga, Announces, Bitcoin, Payments...</td>\n",
       "      <td>[Balenciaga, Announces, Bitcoin, Payments, The...</td>\n",
       "    </tr>\n",
       "  </tbody>\n",
       "</table>\n",
       "</div>"
      ],
      "text/plain": [
       "                  Date    Subreddit  \\\n",
       "0  2022-11-04 17:57:33     1688Reps   \n",
       "1  2022-11-04 17:20:55  FashionReps   \n",
       "2  2022-11-04 17:20:16  QualityReps   \n",
       "3  2022-11-04 17:16:13  QualityReps   \n",
       "4  2022-11-04 17:06:50  CryptoStock   \n",
       "\n",
       "                                               Title  Post Text  \\\n",
       "0  QC on the 225 yuan Balenciaga Authentic jersey...        NaN   \n",
       "1       Balenciaga Track Clear Sole CSJ [Good batch]  [removed]   \n",
       "2               About BALENCIAGA CROSS BOOTS - WWTOP        NaN   \n",
       "3               About BALENCIAGA CROSS boots - WWTOP        NaN   \n",
       "4  Balenciaga Announces Bitcoin Payments – The BT...        NaN   \n",
       "\n",
       "                 Author  Upvotes  CommentsCount  \\\n",
       "0     Paintballmania124        1              0   \n",
       "1        MakeTheCut_fjp        1              0   \n",
       "2  Competitive-Guide651        1              0   \n",
       "3  Competitive-Guide651        1              0   \n",
       "4               asmajda        1              0   \n",
       "\n",
       "                                                 URL  \\\n",
       "0  https://www.reddit.com//r/1688Reps/comments/ym...   \n",
       "1  https://www.reddit.com//r/FashionReps/comments...   \n",
       "2  https://www.reddit.com//r/QualityReps/comments...   \n",
       "3  https://www.reddit.com//r/QualityReps/comments...   \n",
       "4  https://www.reddit.com//r/CryptoStock/comments...   \n",
       "\n",
       "                                                Data  \\\n",
       "0  nan QC on the  yuan Balenciaga Authentic jerse...   \n",
       "1  removed Balenciaga Track Clear Sole CSJ Good b...   \n",
       "2            nan About BALENCIAGA CROSS BOOTS  WWTOP   \n",
       "3            nan About BALENCIAGA CROSS boots  WWTOP   \n",
       "4  nan Balenciaga Announces Bitcoin Payments  The...   \n",
       "\n",
       "                                        Cleaned Data  \\\n",
       "0  QC yuan Balenciaga Authentic jersey apparel ho...   \n",
       "1         Balenciaga Track Clear Sole CSJ Good batch   \n",
       "2                 About BALENCIAGA CROSS BOOTS WWTOP   \n",
       "3                 About BALENCIAGA CROSS boots WWTOP   \n",
       "4  Balenciaga Announces Bitcoin Payments The BTC ...   \n",
       "\n",
       "                                      Tokenized Data  \\\n",
       "0  [nan, QC, on, the, yuan, Balenciaga, Authentic...   \n",
       "1  [removed, Balenciaga, Track, Clear, Sole, CSJ,...   \n",
       "2      [nan, About, BALENCIAGA, CROSS, BOOTS, WWTOP]   \n",
       "3      [nan, About, BALENCIAGA, CROSS, boots, WWTOP]   \n",
       "4  [nan, Balenciaga, Announces, Bitcoin, Payments...   \n",
       "\n",
       "                                Tokenized Clean Data  \n",
       "0  [QC, yuan, Balenciaga, Authentic, jersey, appa...  \n",
       "1  [Balenciaga, Track, Clear, Sole, CSJ, Good, ba...  \n",
       "2           [About, BALENCIAGA, CROSS, BOOTS, WWTOP]  \n",
       "3           [About, BALENCIAGA, CROSS, boots, WWTOP]  \n",
       "4  [Balenciaga, Announces, Bitcoin, Payments, The...  "
      ]
     },
     "execution_count": 62,
     "metadata": {},
     "output_type": "execute_result"
    }
   ],
   "source": [
    "reddit_df.head()"
   ]
  },
  {
   "cell_type": "markdown",
   "id": "f3af4242",
   "metadata": {},
   "source": [
    "#### Save to new .csv file"
   ]
  },
  {
   "cell_type": "code",
   "execution_count": 63,
   "id": "5db184f5",
   "metadata": {},
   "outputs": [],
   "source": [
    "tweets_df.to_csv(\"Cleaned_Tweets.csv\", encoding=\"utf-8\", index=False)\n",
    "reddit_df.to_csv(\"Cleaned_Reddit.csv\", encoding=\"utf-8\", index=False)"
   ]
  },
  {
   "cell_type": "code",
   "execution_count": 64,
   "id": "e6686e1f",
   "metadata": {},
   "outputs": [
    {
     "data": {
      "text/plain": [
       "(10920, 11)"
      ]
     },
     "execution_count": 64,
     "metadata": {},
     "output_type": "execute_result"
    }
   ],
   "source": [
    "tweets_df.shape"
   ]
  },
  {
   "cell_type": "code",
   "execution_count": 65,
   "id": "62c93d4a",
   "metadata": {},
   "outputs": [
    {
     "data": {
      "text/plain": [
       "(32817, 12)"
      ]
     },
     "execution_count": 65,
     "metadata": {},
     "output_type": "execute_result"
    }
   ],
   "source": [
    "reddit_df.shape"
   ]
  },
  {
   "cell_type": "code",
   "execution_count": null,
   "id": "b0850b17",
   "metadata": {},
   "outputs": [],
   "source": []
  }
 ],
 "metadata": {
  "kernelspec": {
   "display_name": "Python 3 (ipykernel)",
   "language": "python",
   "name": "python3"
  },
  "language_info": {
   "codemirror_mode": {
    "name": "ipython",
    "version": 3
   },
   "file_extension": ".py",
   "mimetype": "text/x-python",
   "name": "python",
   "nbconvert_exporter": "python",
   "pygments_lexer": "ipython3",
   "version": "3.9.16"
  }
 },
 "nbformat": 4,
 "nbformat_minor": 5
}
