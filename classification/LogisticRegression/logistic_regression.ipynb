{
 "cells": [
  {
   "cell_type": "code",
   "execution_count": 44,
   "id": "2ffd94db",
   "metadata": {},
   "outputs": [
    {
     "name": "stderr",
     "output_type": "stream",
     "text": [
      "[nltk_data] Downloading package stopwords to\n",
      "[nltk_data]     C:\\Users\\14871\\AppData\\Roaming\\nltk_data...\n",
      "[nltk_data]   Package stopwords is already up-to-date!\n"
     ]
    }
   ],
   "source": [
    "import pandas as pd\n",
    "import nltk\n",
    "nltk.download('stopwords')\n",
    "from nltk.corpus import stopwords\n",
    "from sklearn.model_selection import train_test_split\n",
    "from sklearn.feature_extraction.text import TfidfVectorizer\n",
    "from sklearn.linear_model import LogisticRegression\n",
    "from sklearn.metrics import accuracy_score\n",
    "from sklearn.metrics import classification_report"
   ]
  },
  {
   "cell_type": "code",
   "execution_count": 45,
   "id": "029933e3",
   "metadata": {},
   "outputs": [
    {
     "data": {
      "text/html": [
       "<div>\n",
       "<style scoped>\n",
       "    .dataframe tbody tr th:only-of-type {\n",
       "        vertical-align: middle;\n",
       "    }\n",
       "\n",
       "    .dataframe tbody tr th {\n",
       "        vertical-align: top;\n",
       "    }\n",
       "\n",
       "    .dataframe thead th {\n",
       "        text-align: right;\n",
       "    }\n",
       "</style>\n",
       "<table border=\"1\" class=\"dataframe\">\n",
       "  <thead>\n",
       "    <tr style=\"text-align: right;\">\n",
       "      <th></th>\n",
       "      <th>1</th>\n",
       "      <th>Polarity</th>\n",
       "      <th>Data</th>\n",
       "    </tr>\n",
       "  </thead>\n",
       "  <tbody>\n",
       "    <tr>\n",
       "      <th>0</th>\n",
       "      <td>10500</td>\n",
       "      <td>1</td>\n",
       "      <td>__TiffanyAndCo Cousinnnn the return coming soon</td>\n",
       "    </tr>\n",
       "    <tr>\n",
       "      <th>1</th>\n",
       "      <td>3597</td>\n",
       "      <td>1</td>\n",
       "      <td>at the balenciaga thinking about my friends fa...</td>\n",
       "    </tr>\n",
       "    <tr>\n",
       "      <th>2</th>\n",
       "      <td>10044</td>\n",
       "      <td>-1</td>\n",
       "      <td>TiffanyAndCo bracelet I bought in Milan in Oct...</td>\n",
       "    </tr>\n",
       "    <tr>\n",
       "      <th>3</th>\n",
       "      <td>4712</td>\n",
       "      <td>0</td>\n",
       "      <td>QueenMoniB personifier channel_gibbs eccentric...</td>\n",
       "    </tr>\n",
       "    <tr>\n",
       "      <th>4</th>\n",
       "      <td>2925</td>\n",
       "      <td>1</td>\n",
       "      <td>Pup_Dior_ Happy Valentines Day  You are so gor...</td>\n",
       "    </tr>\n",
       "  </tbody>\n",
       "</table>\n",
       "</div>"
      ],
      "text/plain": [
       "       1  Polarity                                               Data\n",
       "0  10500         1   __TiffanyAndCo Cousinnnn the return coming soon \n",
       "1   3597         1  at the balenciaga thinking about my friends fa...\n",
       "2  10044        -1  TiffanyAndCo bracelet I bought in Milan in Oct...\n",
       "3   4712         0  QueenMoniB personifier channel_gibbs eccentric...\n",
       "4   2925         1  Pup_Dior_ Happy Valentines Day  You are so gor..."
      ]
     },
     "execution_count": 45,
     "metadata": {},
     "output_type": "execute_result"
    }
   ],
   "source": [
    "data_polarity = pd.read_excel('Polarity.xlsx')\n",
    "data_polarity.head()"
   ]
  },
  {
   "cell_type": "code",
   "execution_count": 46,
   "id": "8554562e",
   "metadata": {},
   "outputs": [
    {
     "name": "stderr",
     "output_type": "stream",
     "text": [
      "C:\\Users\\14871\\AppData\\Local\\Temp\\ipykernel_73916\\2324012567.py:3: FutureWarning: The default value of regex will change from True to False in a future version.\n",
      "  data_polarity['Data'] = data_polarity['Data'].str.replace(r'http\\S+', '')\n",
      "C:\\Users\\14871\\AppData\\Local\\Temp\\ipykernel_73916\\2324012567.py:5: FutureWarning: The default value of regex will change from True to False in a future version.\n",
      "  data_polarity['Data'] = data_polarity['Data'].str.replace(r'@\\S+', '')\n",
      "C:\\Users\\14871\\AppData\\Local\\Temp\\ipykernel_73916\\2324012567.py:7: FutureWarning: The default value of regex will change from True to False in a future version.\n",
      "  data_polarity['Data'] = data_polarity['Data'].str.replace(r'#\\S+', '')\n",
      "C:\\Users\\14871\\AppData\\Local\\Temp\\ipykernel_73916\\2324012567.py:9: FutureWarning: The default value of regex will change from True to False in a future version.\n",
      "  data_polarity['Data'] = data_polarity['Data'].str.replace(r'\\@\\w+', '')\n",
      "C:\\Users\\14871\\AppData\\Local\\Temp\\ipykernel_73916\\2324012567.py:11: FutureWarning: The default value of regex will change from True to False in a future version.\n",
      "  data_polarity['Data'] = data_polarity['Data'].str.replace(r'\\d+', '')\n",
      "C:\\Users\\14871\\AppData\\Local\\Temp\\ipykernel_73916\\2324012567.py:13: FutureWarning: The default value of regex will change from True to False in a future version.\n",
      "  data_polarity['Data'] = data_polarity['Data'].str.replace(r'[^\\w\\s]', '')\n"
     ]
    }
   ],
   "source": [
    "#preprocess the Data\n",
    "# Remove URLs\n",
    "data_polarity['Data'] = data_polarity['Data'].str.replace(r'http\\S+', '')\n",
    "# Remove @\n",
    "data_polarity['Data'] = data_polarity['Data'].str.replace(r'@\\S+', '')\n",
    "# Remove hashtags\n",
    "data_polarity['Data'] = data_polarity['Data'].str.replace(r'#\\S+', '')\n",
    "# Remove usernames\n",
    "data_polarity['Data'] = data_polarity['Data'].str.replace(r'\\@\\w+', '')\n",
    "# Remove numbers\n",
    "data_polarity['Data'] = data_polarity['Data'].str.replace(r'\\d+', '') \n",
    "# Remove punctuation\n",
    "data_polarity['Data'] = data_polarity['Data'].str.replace(r'[^\\w\\s]', '') \n",
    "# Convert to lowercase\n",
    "data_polarity['Data'] = data_polarity['Data'].str.lower()\n",
    "#remove storpwords\n",
    "stop_words = stopwords.words('english')"
   ]
  },
  {
   "cell_type": "code",
   "execution_count": 47,
   "id": "ea15ed4b",
   "metadata": {},
   "outputs": [
    {
     "data": {
      "text/html": [
       "<style>#sk-container-id-9 {color: black;background-color: white;}#sk-container-id-9 pre{padding: 0;}#sk-container-id-9 div.sk-toggleable {background-color: white;}#sk-container-id-9 label.sk-toggleable__label {cursor: pointer;display: block;width: 100%;margin-bottom: 0;padding: 0.3em;box-sizing: border-box;text-align: center;}#sk-container-id-9 label.sk-toggleable__label-arrow:before {content: \"▸\";float: left;margin-right: 0.25em;color: #696969;}#sk-container-id-9 label.sk-toggleable__label-arrow:hover:before {color: black;}#sk-container-id-9 div.sk-estimator:hover label.sk-toggleable__label-arrow:before {color: black;}#sk-container-id-9 div.sk-toggleable__content {max-height: 0;max-width: 0;overflow: hidden;text-align: left;background-color: #f0f8ff;}#sk-container-id-9 div.sk-toggleable__content pre {margin: 0.2em;color: black;border-radius: 0.25em;background-color: #f0f8ff;}#sk-container-id-9 input.sk-toggleable__control:checked~div.sk-toggleable__content {max-height: 200px;max-width: 100%;overflow: auto;}#sk-container-id-9 input.sk-toggleable__control:checked~label.sk-toggleable__label-arrow:before {content: \"▾\";}#sk-container-id-9 div.sk-estimator input.sk-toggleable__control:checked~label.sk-toggleable__label {background-color: #d4ebff;}#sk-container-id-9 div.sk-label input.sk-toggleable__control:checked~label.sk-toggleable__label {background-color: #d4ebff;}#sk-container-id-9 input.sk-hidden--visually {border: 0;clip: rect(1px 1px 1px 1px);clip: rect(1px, 1px, 1px, 1px);height: 1px;margin: -1px;overflow: hidden;padding: 0;position: absolute;width: 1px;}#sk-container-id-9 div.sk-estimator {font-family: monospace;background-color: #f0f8ff;border: 1px dotted black;border-radius: 0.25em;box-sizing: border-box;margin-bottom: 0.5em;}#sk-container-id-9 div.sk-estimator:hover {background-color: #d4ebff;}#sk-container-id-9 div.sk-parallel-item::after {content: \"\";width: 100%;border-bottom: 1px solid gray;flex-grow: 1;}#sk-container-id-9 div.sk-label:hover label.sk-toggleable__label {background-color: #d4ebff;}#sk-container-id-9 div.sk-serial::before {content: \"\";position: absolute;border-left: 1px solid gray;box-sizing: border-box;top: 0;bottom: 0;left: 50%;z-index: 0;}#sk-container-id-9 div.sk-serial {display: flex;flex-direction: column;align-items: center;background-color: white;padding-right: 0.2em;padding-left: 0.2em;position: relative;}#sk-container-id-9 div.sk-item {position: relative;z-index: 1;}#sk-container-id-9 div.sk-parallel {display: flex;align-items: stretch;justify-content: center;background-color: white;position: relative;}#sk-container-id-9 div.sk-item::before, #sk-container-id-9 div.sk-parallel-item::before {content: \"\";position: absolute;border-left: 1px solid gray;box-sizing: border-box;top: 0;bottom: 0;left: 50%;z-index: -1;}#sk-container-id-9 div.sk-parallel-item {display: flex;flex-direction: column;z-index: 1;position: relative;background-color: white;}#sk-container-id-9 div.sk-parallel-item:first-child::after {align-self: flex-end;width: 50%;}#sk-container-id-9 div.sk-parallel-item:last-child::after {align-self: flex-start;width: 50%;}#sk-container-id-9 div.sk-parallel-item:only-child::after {width: 0;}#sk-container-id-9 div.sk-dashed-wrapped {border: 1px dashed gray;margin: 0 0.4em 0.5em 0.4em;box-sizing: border-box;padding-bottom: 0.4em;background-color: white;}#sk-container-id-9 div.sk-label label {font-family: monospace;font-weight: bold;display: inline-block;line-height: 1.2em;}#sk-container-id-9 div.sk-label-container {text-align: center;}#sk-container-id-9 div.sk-container {/* jupyter's `normalize.less` sets `[hidden] { display: none; }` but bootstrap.min.css set `[hidden] { display: none !important; }` so we also need the `!important` here to be able to override the default hidden behavior on the sphinx rendered scikit-learn.org. See: https://github.com/scikit-learn/scikit-learn/issues/21755 */display: inline-block !important;position: relative;}#sk-container-id-9 div.sk-text-repr-fallback {display: none;}</style><div id=\"sk-container-id-9\" class=\"sk-top-container\"><div class=\"sk-text-repr-fallback\"><pre>LogisticRegression()</pre><b>In a Jupyter environment, please rerun this cell to show the HTML representation or trust the notebook. <br />On GitHub, the HTML representation is unable to render, please try loading this page with nbviewer.org.</b></div><div class=\"sk-container\" hidden><div class=\"sk-item\"><div class=\"sk-estimator sk-toggleable\"><input class=\"sk-toggleable__control sk-hidden--visually\" id=\"sk-estimator-id-9\" type=\"checkbox\" checked><label for=\"sk-estimator-id-9\" class=\"sk-toggleable__label sk-toggleable__label-arrow\">LogisticRegression</label><div class=\"sk-toggleable__content\"><pre>LogisticRegression()</pre></div></div></div></div></div>"
      ],
      "text/plain": [
       "LogisticRegression()"
      ]
     },
     "execution_count": 47,
     "metadata": {},
     "output_type": "execute_result"
    }
   ],
   "source": [
    "# Split the dataset into training and testing sets\n",
    "X_train, X_test, y_train, y_test = train_test_split(data_polarity['Data'], data_polarity['Polarity'], test_size=0.2, random_state=42)\n",
    "# Vectorize the text data using TF-IDF vectorizer\n",
    "vectorizer = TfidfVectorizer(max_features=5000)\n",
    "X_train_vectorized = vectorizer.fit_transform(X_train)\n",
    "X_test_vectorized = vectorizer.transform(X_test)\n",
    "# Create a logistic regression model\n",
    "model = LogisticRegression()\n",
    "# Train the model on the vectorized training data\n",
    "model.fit(X_train_vectorized, y_train)"
   ]
  },
  {
   "cell_type": "code",
   "execution_count": 48,
   "id": "58843d7a",
   "metadata": {},
   "outputs": [
    {
     "name": "stdout",
     "output_type": "stream",
     "text": [
      "Accuracy for polarity is: 0.6686046511627907\n",
      "              precision    recall  f1-score   support\n",
      "\n",
      "           0       0.58      0.14      0.22       103\n",
      "           2       0.68      0.94      0.79       540\n",
      "           4       0.61      0.25      0.35       217\n",
      "\n",
      "    accuracy                           0.67       860\n",
      "   macro avg       0.62      0.44      0.45       860\n",
      "weighted avg       0.65      0.67      0.61       860\n",
      "\n"
     ]
    }
   ],
   "source": [
    "# Predict the labels of the vectorized test data\n",
    "y_pred = model.predict(X_test_vectorized)\n",
    "\n",
    "# Calculate the accuracy of the model\n",
    "accuracy = accuracy_score(y_test, y_pred)\n",
    "\n",
    "print('Accuracy for polarity is:', accuracy)\n",
    "target_names = ['0', '2', '4']\n",
    "report = classification_report(y_test, y_pred, target_names=target_names)\n",
    "# Print the classification report\n",
    "print(report)"
   ]
  },
  {
   "cell_type": "code",
   "execution_count": 49,
   "id": "f752bfde",
   "metadata": {
    "scrolled": true
   },
   "outputs": [
    {
     "data": {
      "text/html": [
       "<div>\n",
       "<style scoped>\n",
       "    .dataframe tbody tr th:only-of-type {\n",
       "        vertical-align: middle;\n",
       "    }\n",
       "\n",
       "    .dataframe tbody tr th {\n",
       "        vertical-align: top;\n",
       "    }\n",
       "\n",
       "    .dataframe thead th {\n",
       "        text-align: right;\n",
       "    }\n",
       "</style>\n",
       "<table border=\"1\" class=\"dataframe\">\n",
       "  <thead>\n",
       "    <tr style=\"text-align: right;\">\n",
       "      <th></th>\n",
       "      <th>Relavance</th>\n",
       "      <th>Data</th>\n",
       "    </tr>\n",
       "  </thead>\n",
       "  <tbody>\n",
       "    <tr>\n",
       "      <th>0</th>\n",
       "      <td>R</td>\n",
       "      <td>__TiffanyAndCo Cousinnnn the return coming soon</td>\n",
       "    </tr>\n",
       "    <tr>\n",
       "      <th>1</th>\n",
       "      <td>I</td>\n",
       "      <td>at the balenciaga thinking about my friends fa...</td>\n",
       "    </tr>\n",
       "    <tr>\n",
       "      <th>2</th>\n",
       "      <td>R</td>\n",
       "      <td>TiffanyAndCo bracelet I bought in Milan in Oct...</td>\n",
       "    </tr>\n",
       "    <tr>\n",
       "      <th>3</th>\n",
       "      <td>I</td>\n",
       "      <td>QueenMoniB personifier channel_gibbs eccentric...</td>\n",
       "    </tr>\n",
       "    <tr>\n",
       "      <th>4</th>\n",
       "      <td>I</td>\n",
       "      <td>Pup_Dior_ Happy Valentines Day  You are so gor...</td>\n",
       "    </tr>\n",
       "  </tbody>\n",
       "</table>\n",
       "</div>"
      ],
      "text/plain": [
       "  Relavance                                               Data\n",
       "0         R   __TiffanyAndCo Cousinnnn the return coming soon \n",
       "1         I  at the balenciaga thinking about my friends fa...\n",
       "2         R  TiffanyAndCo bracelet I bought in Milan in Oct...\n",
       "3         I  QueenMoniB personifier channel_gibbs eccentric...\n",
       "4         I  Pup_Dior_ Happy Valentines Day  You are so gor..."
      ]
     },
     "execution_count": 49,
     "metadata": {},
     "output_type": "execute_result"
    }
   ],
   "source": [
    "data_relevance = pd.read_excel('Relavance.xlsx')\n",
    "data_relevance.head()"
   ]
  },
  {
   "cell_type": "code",
   "execution_count": 50,
   "id": "66611da1",
   "metadata": {},
   "outputs": [
    {
     "name": "stderr",
     "output_type": "stream",
     "text": [
      "C:\\Users\\14871\\AppData\\Local\\Temp\\ipykernel_73916\\2814140987.py:3: FutureWarning: The default value of regex will change from True to False in a future version.\n",
      "  data_relevance['Data'] = data_relevance['Data'].str.replace(r'http\\S+', '')\n",
      "C:\\Users\\14871\\AppData\\Local\\Temp\\ipykernel_73916\\2814140987.py:5: FutureWarning: The default value of regex will change from True to False in a future version.\n",
      "  data_relevance['Data'] = data_relevance['Data'].str.replace(r'@\\S+', '')\n",
      "C:\\Users\\14871\\AppData\\Local\\Temp\\ipykernel_73916\\2814140987.py:7: FutureWarning: The default value of regex will change from True to False in a future version.\n",
      "  data_relevance['Data'] = data_relevance['Data'].str.replace(r'#\\S+', '')\n",
      "C:\\Users\\14871\\AppData\\Local\\Temp\\ipykernel_73916\\2814140987.py:9: FutureWarning: The default value of regex will change from True to False in a future version.\n",
      "  data_relevance['Data'] = data_relevance['Data'].str.replace(r'\\@\\w+', '')\n",
      "C:\\Users\\14871\\AppData\\Local\\Temp\\ipykernel_73916\\2814140987.py:11: FutureWarning: The default value of regex will change from True to False in a future version.\n",
      "  data_relevance['Data'] = data_relevance['Data'].str.replace(r'\\d+', '')\n",
      "C:\\Users\\14871\\AppData\\Local\\Temp\\ipykernel_73916\\2814140987.py:13: FutureWarning: The default value of regex will change from True to False in a future version.\n",
      "  data_relevance['Data'] = data_relevance['Data'].str.replace(r'[^\\w\\s]', '')\n"
     ]
    },
    {
     "data": {
      "text/html": [
       "<div>\n",
       "<style scoped>\n",
       "    .dataframe tbody tr th:only-of-type {\n",
       "        vertical-align: middle;\n",
       "    }\n",
       "\n",
       "    .dataframe tbody tr th {\n",
       "        vertical-align: top;\n",
       "    }\n",
       "\n",
       "    .dataframe thead th {\n",
       "        text-align: right;\n",
       "    }\n",
       "</style>\n",
       "<table border=\"1\" class=\"dataframe\">\n",
       "  <thead>\n",
       "    <tr style=\"text-align: right;\">\n",
       "      <th></th>\n",
       "      <th>Relavance</th>\n",
       "      <th>Data</th>\n",
       "    </tr>\n",
       "  </thead>\n",
       "  <tbody>\n",
       "    <tr>\n",
       "      <th>0</th>\n",
       "      <td>R</td>\n",
       "      <td>__tiffanyandco cousinnnn return coming soon</td>\n",
       "    </tr>\n",
       "    <tr>\n",
       "      <th>1</th>\n",
       "      <td>I</td>\n",
       "      <td>balenciaga thinking friends family guy good ti...</td>\n",
       "    </tr>\n",
       "    <tr>\n",
       "      <th>2</th>\n",
       "      <td>R</td>\n",
       "      <td>tiffanyandco bracelet bought milan oct sent nd...</td>\n",
       "    </tr>\n",
       "    <tr>\n",
       "      <th>3</th>\n",
       "      <td>I</td>\n",
       "      <td>queenmonib personifier channel_gibbs eccentric...</td>\n",
       "    </tr>\n",
       "    <tr>\n",
       "      <th>4</th>\n",
       "      <td>I</td>\n",
       "      <td>pup_dior_ happy valentines day gorgeous</td>\n",
       "    </tr>\n",
       "  </tbody>\n",
       "</table>\n",
       "</div>"
      ],
      "text/plain": [
       "  Relavance                                               Data\n",
       "0         R        __tiffanyandco cousinnnn return coming soon\n",
       "1         I  balenciaga thinking friends family guy good ti...\n",
       "2         R  tiffanyandco bracelet bought milan oct sent nd...\n",
       "3         I  queenmonib personifier channel_gibbs eccentric...\n",
       "4         I            pup_dior_ happy valentines day gorgeous"
      ]
     },
     "execution_count": 50,
     "metadata": {},
     "output_type": "execute_result"
    }
   ],
   "source": [
    "#preprocess the Data\n",
    "# Remove URLs\n",
    "data_relevance['Data'] = data_relevance['Data'].str.replace(r'http\\S+', '')\n",
    "# Remove @\n",
    "data_relevance['Data'] = data_relevance['Data'].str.replace(r'@\\S+', '')\n",
    "# Remove hashtags\n",
    "data_relevance['Data'] = data_relevance['Data'].str.replace(r'#\\S+', '')\n",
    "# Remove usernames\n",
    "data_relevance['Data'] = data_relevance['Data'].str.replace(r'\\@\\w+', '')\n",
    "# Remove numbers\n",
    "data_relevance['Data'] = data_relevance['Data'].str.replace(r'\\d+', '') \n",
    "# Remove punctuation\n",
    "data_relevance['Data'] = data_relevance['Data'].str.replace(r'[^\\w\\s]', '') \n",
    "# Convert to lowercase\n",
    "data_relevance['Data'] = data_relevance['Data'].str.lower()\n",
    "#remove storpwords\n",
    "stop_words = stopwords.words('english')\n",
    "data_relevance['Data'] = data_relevance['Data'].apply(lambda x: ' '.join([word for word in x.split() if word not in (stop_words)]))\n",
    "data_relevance['Relavance'] = data_relevance['Relavance'].str.replace('1', 'R') \n",
    "data_relevance['Relavance'] = data_relevance['Relavance'].str.replace('0', 'I') \n",
    "data_relevance = data_relevance.dropna()\n",
    "data_relevance.head()"
   ]
  },
  {
   "cell_type": "code",
   "execution_count": 52,
   "id": "12f948b6",
   "metadata": {},
   "outputs": [
    {
     "data": {
      "text/html": [
       "<style>#sk-container-id-10 {color: black;background-color: white;}#sk-container-id-10 pre{padding: 0;}#sk-container-id-10 div.sk-toggleable {background-color: white;}#sk-container-id-10 label.sk-toggleable__label {cursor: pointer;display: block;width: 100%;margin-bottom: 0;padding: 0.3em;box-sizing: border-box;text-align: center;}#sk-container-id-10 label.sk-toggleable__label-arrow:before {content: \"▸\";float: left;margin-right: 0.25em;color: #696969;}#sk-container-id-10 label.sk-toggleable__label-arrow:hover:before {color: black;}#sk-container-id-10 div.sk-estimator:hover label.sk-toggleable__label-arrow:before {color: black;}#sk-container-id-10 div.sk-toggleable__content {max-height: 0;max-width: 0;overflow: hidden;text-align: left;background-color: #f0f8ff;}#sk-container-id-10 div.sk-toggleable__content pre {margin: 0.2em;color: black;border-radius: 0.25em;background-color: #f0f8ff;}#sk-container-id-10 input.sk-toggleable__control:checked~div.sk-toggleable__content {max-height: 200px;max-width: 100%;overflow: auto;}#sk-container-id-10 input.sk-toggleable__control:checked~label.sk-toggleable__label-arrow:before {content: \"▾\";}#sk-container-id-10 div.sk-estimator input.sk-toggleable__control:checked~label.sk-toggleable__label {background-color: #d4ebff;}#sk-container-id-10 div.sk-label input.sk-toggleable__control:checked~label.sk-toggleable__label {background-color: #d4ebff;}#sk-container-id-10 input.sk-hidden--visually {border: 0;clip: rect(1px 1px 1px 1px);clip: rect(1px, 1px, 1px, 1px);height: 1px;margin: -1px;overflow: hidden;padding: 0;position: absolute;width: 1px;}#sk-container-id-10 div.sk-estimator {font-family: monospace;background-color: #f0f8ff;border: 1px dotted black;border-radius: 0.25em;box-sizing: border-box;margin-bottom: 0.5em;}#sk-container-id-10 div.sk-estimator:hover {background-color: #d4ebff;}#sk-container-id-10 div.sk-parallel-item::after {content: \"\";width: 100%;border-bottom: 1px solid gray;flex-grow: 1;}#sk-container-id-10 div.sk-label:hover label.sk-toggleable__label {background-color: #d4ebff;}#sk-container-id-10 div.sk-serial::before {content: \"\";position: absolute;border-left: 1px solid gray;box-sizing: border-box;top: 0;bottom: 0;left: 50%;z-index: 0;}#sk-container-id-10 div.sk-serial {display: flex;flex-direction: column;align-items: center;background-color: white;padding-right: 0.2em;padding-left: 0.2em;position: relative;}#sk-container-id-10 div.sk-item {position: relative;z-index: 1;}#sk-container-id-10 div.sk-parallel {display: flex;align-items: stretch;justify-content: center;background-color: white;position: relative;}#sk-container-id-10 div.sk-item::before, #sk-container-id-10 div.sk-parallel-item::before {content: \"\";position: absolute;border-left: 1px solid gray;box-sizing: border-box;top: 0;bottom: 0;left: 50%;z-index: -1;}#sk-container-id-10 div.sk-parallel-item {display: flex;flex-direction: column;z-index: 1;position: relative;background-color: white;}#sk-container-id-10 div.sk-parallel-item:first-child::after {align-self: flex-end;width: 50%;}#sk-container-id-10 div.sk-parallel-item:last-child::after {align-self: flex-start;width: 50%;}#sk-container-id-10 div.sk-parallel-item:only-child::after {width: 0;}#sk-container-id-10 div.sk-dashed-wrapped {border: 1px dashed gray;margin: 0 0.4em 0.5em 0.4em;box-sizing: border-box;padding-bottom: 0.4em;background-color: white;}#sk-container-id-10 div.sk-label label {font-family: monospace;font-weight: bold;display: inline-block;line-height: 1.2em;}#sk-container-id-10 div.sk-label-container {text-align: center;}#sk-container-id-10 div.sk-container {/* jupyter's `normalize.less` sets `[hidden] { display: none; }` but bootstrap.min.css set `[hidden] { display: none !important; }` so we also need the `!important` here to be able to override the default hidden behavior on the sphinx rendered scikit-learn.org. See: https://github.com/scikit-learn/scikit-learn/issues/21755 */display: inline-block !important;position: relative;}#sk-container-id-10 div.sk-text-repr-fallback {display: none;}</style><div id=\"sk-container-id-10\" class=\"sk-top-container\"><div class=\"sk-text-repr-fallback\"><pre>LogisticRegression()</pre><b>In a Jupyter environment, please rerun this cell to show the HTML representation or trust the notebook. <br />On GitHub, the HTML representation is unable to render, please try loading this page with nbviewer.org.</b></div><div class=\"sk-container\" hidden><div class=\"sk-item\"><div class=\"sk-estimator sk-toggleable\"><input class=\"sk-toggleable__control sk-hidden--visually\" id=\"sk-estimator-id-10\" type=\"checkbox\" checked><label for=\"sk-estimator-id-10\" class=\"sk-toggleable__label sk-toggleable__label-arrow\">LogisticRegression</label><div class=\"sk-toggleable__content\"><pre>LogisticRegression()</pre></div></div></div></div></div>"
      ],
      "text/plain": [
       "LogisticRegression()"
      ]
     },
     "execution_count": 52,
     "metadata": {},
     "output_type": "execute_result"
    }
   ],
   "source": [
    "# Split the dataset into training and testing sets\n",
    "X_train, X_test, y_train, y_test = train_test_split(data_relevance['Data'], data_relevance['Relavance'], test_size=0.2, random_state=42)\n",
    "# Vectorize the text data using TF-IDF vectorizer\n",
    "vectorizer = TfidfVectorizer(max_features=5000)\n",
    "X_train_vectorized = vectorizer.fit_transform(X_train)\n",
    "X_test_vectorized = vectorizer.transform(X_test)\n",
    "# Create a logistic regression model\n",
    "model = LogisticRegression()\n",
    "# Train the model on the vectorized training data\n",
    "model.fit(X_train_vectorized, y_train)"
   ]
  },
  {
   "cell_type": "code",
   "execution_count": 53,
   "id": "962d7957",
   "metadata": {},
   "outputs": [
    {
     "name": "stdout",
     "output_type": "stream",
     "text": [
      "Accuracy for relevance is: 0.7412587412587412\n",
      "              precision    recall  f1-score   support\n",
      "\n",
      "           I       0.75      0.85      0.80       516\n",
      "           R       0.72      0.58      0.64       342\n",
      "\n",
      "    accuracy                           0.74       858\n",
      "   macro avg       0.74      0.71      0.72       858\n",
      "weighted avg       0.74      0.74      0.73       858\n",
      "\n"
     ]
    }
   ],
   "source": [
    "# Predict the labels of the vectorized test data\n",
    "y_pred = model.predict(X_test_vectorized)\n",
    "\n",
    "# Calculate the accuracy of the model\n",
    "accuracy = accuracy_score(y_test, y_pred)\n",
    "\n",
    "print('Accuracy for relevance is:', accuracy)\n",
    "\n",
    "target_names = ['I', 'R']\n",
    "report = classification_report(y_test, y_pred, target_names=target_names)\n",
    "# Print the classification report\n",
    "print(report)"
   ]
  },
  {
   "cell_type": "code",
   "execution_count": null,
   "id": "bc26f647",
   "metadata": {},
   "outputs": [],
   "source": []
  }
 ],
 "metadata": {
  "kernelspec": {
   "display_name": "Python 3 (ipykernel)",
   "language": "python",
   "name": "python3"
  },
  "language_info": {
   "codemirror_mode": {
    "name": "ipython",
    "version": 3
   },
   "file_extension": ".py",
   "mimetype": "text/x-python",
   "name": "python",
   "nbconvert_exporter": "python",
   "pygments_lexer": "ipython3",
   "version": "3.9.7"
  }
 },
 "nbformat": 4,
 "nbformat_minor": 5
}
