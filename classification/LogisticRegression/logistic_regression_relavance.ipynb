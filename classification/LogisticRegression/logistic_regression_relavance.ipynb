{
 "cells": [
  {
   "cell_type": "code",
   "execution_count": 11,
   "id": "b71ceecf",
   "metadata": {},
   "outputs": [
    {
     "name": "stderr",
     "output_type": "stream",
     "text": [
      "[nltk_data] Downloading package stopwords to\n",
      "[nltk_data]     C:\\Users\\14871\\AppData\\Roaming\\nltk_data...\n",
      "[nltk_data]   Package stopwords is already up-to-date!\n"
     ]
    }
   ],
   "source": [
    "import pandas as pd\n",
    "import nltk\n",
    "nltk.download('stopwords')\n",
    "from nltk.corpus import stopwords\n",
    "from sklearn.model_selection import train_test_split\n",
    "from sklearn.feature_extraction.text import TfidfVectorizer\n",
    "from sklearn.linear_model import LogisticRegression\n",
    "from sklearn.metrics import accuracy_score"
   ]
  },
  {
   "cell_type": "code",
   "execution_count": 20,
   "id": "367e2c76",
   "metadata": {},
   "outputs": [
    {
     "data": {
      "text/html": [
       "<div>\n",
       "<style scoped>\n",
       "    .dataframe tbody tr th:only-of-type {\n",
       "        vertical-align: middle;\n",
       "    }\n",
       "\n",
       "    .dataframe tbody tr th {\n",
       "        vertical-align: top;\n",
       "    }\n",
       "\n",
       "    .dataframe thead th {\n",
       "        text-align: right;\n",
       "    }\n",
       "</style>\n",
       "<table border=\"1\" class=\"dataframe\">\n",
       "  <thead>\n",
       "    <tr style=\"text-align: right;\">\n",
       "      <th></th>\n",
       "      <th>1</th>\n",
       "      <th>Relavance</th>\n",
       "      <th>Data</th>\n",
       "    </tr>\n",
       "  </thead>\n",
       "  <tbody>\n",
       "    <tr>\n",
       "      <th>0</th>\n",
       "      <td>10500</td>\n",
       "      <td>R</td>\n",
       "      <td>__TiffanyAndCo Cousinnnn the return coming soon</td>\n",
       "    </tr>\n",
       "    <tr>\n",
       "      <th>1</th>\n",
       "      <td>3597</td>\n",
       "      <td>I</td>\n",
       "      <td>at the balenciaga thinking about my friends fa...</td>\n",
       "    </tr>\n",
       "    <tr>\n",
       "      <th>2</th>\n",
       "      <td>10044</td>\n",
       "      <td>R</td>\n",
       "      <td>TiffanyAndCo bracelet I bought in Milan in Oct...</td>\n",
       "    </tr>\n",
       "    <tr>\n",
       "      <th>3</th>\n",
       "      <td>4712</td>\n",
       "      <td>I</td>\n",
       "      <td>QueenMoniB personifier channel_gibbs eccentric...</td>\n",
       "    </tr>\n",
       "    <tr>\n",
       "      <th>4</th>\n",
       "      <td>2925</td>\n",
       "      <td>I</td>\n",
       "      <td>Pup_Dior_ Happy Valentines Day  You are so gor...</td>\n",
       "    </tr>\n",
       "  </tbody>\n",
       "</table>\n",
       "</div>"
      ],
      "text/plain": [
       "       1 Relavance                                               Data\n",
       "0  10500         R   __TiffanyAndCo Cousinnnn the return coming soon \n",
       "1   3597         I  at the balenciaga thinking about my friends fa...\n",
       "2  10044         R  TiffanyAndCo bracelet I bought in Milan in Oct...\n",
       "3   4712         I  QueenMoniB personifier channel_gibbs eccentric...\n",
       "4   2925         I  Pup_Dior_ Happy Valentines Day  You are so gor..."
      ]
     },
     "execution_count": 20,
     "metadata": {},
     "output_type": "execute_result"
    }
   ],
   "source": [
    "data_relavance = pd.read_excel('Relavance.xlsx')\n",
    "data_relavance.head()"
   ]
  },
  {
   "cell_type": "code",
   "execution_count": 25,
   "id": "ea88b949",
   "metadata": {},
   "outputs": [
    {
     "name": "stderr",
     "output_type": "stream",
     "text": [
      "C:\\Users\\14871\\AppData\\Local\\Temp\\ipykernel_34080\\1732965489.py:3: FutureWarning: The default value of regex will change from True to False in a future version.\n",
      "  data_relavance['Data'] = data_relavance['Data'].str.replace(r'http\\S+', '')\n",
      "C:\\Users\\14871\\AppData\\Local\\Temp\\ipykernel_34080\\1732965489.py:5: FutureWarning: The default value of regex will change from True to False in a future version.\n",
      "  data_relavance['Data'] = data_relavance['Data'].str.replace(r'@\\S+', '')\n",
      "C:\\Users\\14871\\AppData\\Local\\Temp\\ipykernel_34080\\1732965489.py:7: FutureWarning: The default value of regex will change from True to False in a future version.\n",
      "  data_relavance['Data'] = data_relavance['Data'].str.replace(r'#\\S+', '')\n",
      "C:\\Users\\14871\\AppData\\Local\\Temp\\ipykernel_34080\\1732965489.py:9: FutureWarning: The default value of regex will change from True to False in a future version.\n",
      "  data_relavance['Data'] = data_relavance['Data'].str.replace(r'\\@\\w+', '')\n",
      "C:\\Users\\14871\\AppData\\Local\\Temp\\ipykernel_34080\\1732965489.py:11: FutureWarning: The default value of regex will change from True to False in a future version.\n",
      "  data_relavance['Data'] = data_relavance['Data'].str.replace(r'\\d+', '')\n",
      "C:\\Users\\14871\\AppData\\Local\\Temp\\ipykernel_34080\\1732965489.py:13: FutureWarning: The default value of regex will change from True to False in a future version.\n",
      "  data_relavance['Data'] = data_relavance['Data'].str.replace(r'[^\\w\\s]', '')\n"
     ]
    }
   ],
   "source": [
    "#preprocess the Data\n",
    "# Remove URLs\n",
    "data_relavance['Data'] = data_relavance['Data'].str.replace(r'http\\S+', '')\n",
    "# Remove @\n",
    "data_relavance['Data'] = data_relavance['Data'].str.replace(r'@\\S+', '')\n",
    "# Remove hashtags\n",
    "data_relavance['Data'] = data_relavance['Data'].str.replace(r'#\\S+', '')\n",
    "# Remove usernames\n",
    "data_relavance['Data'] = data_relavance['Data'].str.replace(r'\\@\\w+', '')\n",
    "# Remove numbers\n",
    "data_relavance['Data'] = data_relavance['Data'].str.replace(r'\\d+', '') \n",
    "# Remove punctuation\n",
    "data_relavance['Data'] = data_relavance['Data'].str.replace(r'[^\\w\\s]', '') \n",
    "# Convert to lowercase\n",
    "data_relavance['Data'] = data_relavance['Data'].str.lower()\n",
    "#remove storpwords\n",
    "stop_words = stopwords.words('english')\n",
    "data_relavance['Data'] = data_relavance['Data'].apply(lambda x: ' '.join([word for word in x.split() if word not in (stop_words)]))\n",
    "data_relavance['Relavance'] = data_relavance['Relavance'].str.replace('R', '1') \n",
    "data_relavance['Relavance'] = data_relavance['Relavance'].str.replace('I', '0') \n",
    "data_relavance.head()\n",
    "#null_cols = data_relavance.columns[data_relavance.isnull().any()]\n",
    "#print(null_cols)\n",
    "data_relavance = data_relavance.dropna()"
   ]
  },
  {
   "cell_type": "code",
   "execution_count": 26,
   "id": "f78f7412",
   "metadata": {},
   "outputs": [],
   "source": [
    "# Split the dataset into training and testing sets\n",
    "X_train, X_test, y_train, y_test = train_test_split(data_relavance['Data'], data_relavance['Relavance'], test_size=0.2, random_state=42)\n",
    "# Vectorize the text data using TF-IDF vectorizer\n",
    "vectorizer = TfidfVectorizer(max_features=5000)"
   ]
  },
  {
   "cell_type": "code",
   "execution_count": 27,
   "id": "6c8b0ba5",
   "metadata": {},
   "outputs": [
    {
     "data": {
      "text/html": [
       "<style>#sk-container-id-1 {color: black;background-color: white;}#sk-container-id-1 pre{padding: 0;}#sk-container-id-1 div.sk-toggleable {background-color: white;}#sk-container-id-1 label.sk-toggleable__label {cursor: pointer;display: block;width: 100%;margin-bottom: 0;padding: 0.3em;box-sizing: border-box;text-align: center;}#sk-container-id-1 label.sk-toggleable__label-arrow:before {content: \"▸\";float: left;margin-right: 0.25em;color: #696969;}#sk-container-id-1 label.sk-toggleable__label-arrow:hover:before {color: black;}#sk-container-id-1 div.sk-estimator:hover label.sk-toggleable__label-arrow:before {color: black;}#sk-container-id-1 div.sk-toggleable__content {max-height: 0;max-width: 0;overflow: hidden;text-align: left;background-color: #f0f8ff;}#sk-container-id-1 div.sk-toggleable__content pre {margin: 0.2em;color: black;border-radius: 0.25em;background-color: #f0f8ff;}#sk-container-id-1 input.sk-toggleable__control:checked~div.sk-toggleable__content {max-height: 200px;max-width: 100%;overflow: auto;}#sk-container-id-1 input.sk-toggleable__control:checked~label.sk-toggleable__label-arrow:before {content: \"▾\";}#sk-container-id-1 div.sk-estimator input.sk-toggleable__control:checked~label.sk-toggleable__label {background-color: #d4ebff;}#sk-container-id-1 div.sk-label input.sk-toggleable__control:checked~label.sk-toggleable__label {background-color: #d4ebff;}#sk-container-id-1 input.sk-hidden--visually {border: 0;clip: rect(1px 1px 1px 1px);clip: rect(1px, 1px, 1px, 1px);height: 1px;margin: -1px;overflow: hidden;padding: 0;position: absolute;width: 1px;}#sk-container-id-1 div.sk-estimator {font-family: monospace;background-color: #f0f8ff;border: 1px dotted black;border-radius: 0.25em;box-sizing: border-box;margin-bottom: 0.5em;}#sk-container-id-1 div.sk-estimator:hover {background-color: #d4ebff;}#sk-container-id-1 div.sk-parallel-item::after {content: \"\";width: 100%;border-bottom: 1px solid gray;flex-grow: 1;}#sk-container-id-1 div.sk-label:hover label.sk-toggleable__label {background-color: #d4ebff;}#sk-container-id-1 div.sk-serial::before {content: \"\";position: absolute;border-left: 1px solid gray;box-sizing: border-box;top: 0;bottom: 0;left: 50%;z-index: 0;}#sk-container-id-1 div.sk-serial {display: flex;flex-direction: column;align-items: center;background-color: white;padding-right: 0.2em;padding-left: 0.2em;position: relative;}#sk-container-id-1 div.sk-item {position: relative;z-index: 1;}#sk-container-id-1 div.sk-parallel {display: flex;align-items: stretch;justify-content: center;background-color: white;position: relative;}#sk-container-id-1 div.sk-item::before, #sk-container-id-1 div.sk-parallel-item::before {content: \"\";position: absolute;border-left: 1px solid gray;box-sizing: border-box;top: 0;bottom: 0;left: 50%;z-index: -1;}#sk-container-id-1 div.sk-parallel-item {display: flex;flex-direction: column;z-index: 1;position: relative;background-color: white;}#sk-container-id-1 div.sk-parallel-item:first-child::after {align-self: flex-end;width: 50%;}#sk-container-id-1 div.sk-parallel-item:last-child::after {align-self: flex-start;width: 50%;}#sk-container-id-1 div.sk-parallel-item:only-child::after {width: 0;}#sk-container-id-1 div.sk-dashed-wrapped {border: 1px dashed gray;margin: 0 0.4em 0.5em 0.4em;box-sizing: border-box;padding-bottom: 0.4em;background-color: white;}#sk-container-id-1 div.sk-label label {font-family: monospace;font-weight: bold;display: inline-block;line-height: 1.2em;}#sk-container-id-1 div.sk-label-container {text-align: center;}#sk-container-id-1 div.sk-container {/* jupyter's `normalize.less` sets `[hidden] { display: none; }` but bootstrap.min.css set `[hidden] { display: none !important; }` so we also need the `!important` here to be able to override the default hidden behavior on the sphinx rendered scikit-learn.org. See: https://github.com/scikit-learn/scikit-learn/issues/21755 */display: inline-block !important;position: relative;}#sk-container-id-1 div.sk-text-repr-fallback {display: none;}</style><div id=\"sk-container-id-1\" class=\"sk-top-container\"><div class=\"sk-text-repr-fallback\"><pre>LogisticRegression()</pre><b>In a Jupyter environment, please rerun this cell to show the HTML representation or trust the notebook. <br />On GitHub, the HTML representation is unable to render, please try loading this page with nbviewer.org.</b></div><div class=\"sk-container\" hidden><div class=\"sk-item\"><div class=\"sk-estimator sk-toggleable\"><input class=\"sk-toggleable__control sk-hidden--visually\" id=\"sk-estimator-id-1\" type=\"checkbox\" checked><label for=\"sk-estimator-id-1\" class=\"sk-toggleable__label sk-toggleable__label-arrow\">LogisticRegression</label><div class=\"sk-toggleable__content\"><pre>LogisticRegression()</pre></div></div></div></div></div>"
      ],
      "text/plain": [
       "LogisticRegression()"
      ]
     },
     "execution_count": 27,
     "metadata": {},
     "output_type": "execute_result"
    }
   ],
   "source": [
    "X_train_vectorized = vectorizer.fit_transform(X_train)\n",
    "X_test_vectorized = vectorizer.transform(X_test)\n",
    "# Create a logistic regression model\n",
    "model = LogisticRegression()\n",
    "# Train the model on the vectorized training data\n",
    "model.fit(X_train_vectorized, y_train)"
   ]
  },
  {
   "cell_type": "code",
   "execution_count": 28,
   "id": "03073525",
   "metadata": {},
   "outputs": [
    {
     "name": "stdout",
     "output_type": "stream",
     "text": [
      "Accuracy for relavance is: 0.7267441860465116\n"
     ]
    }
   ],
   "source": [
    "# Predict the labels of the vectorized test data\n",
    "y_pred = model.predict(X_test_vectorized)\n",
    "\n",
    "# Calculate the accuracy of the model\n",
    "accuracy = accuracy_score(y_test, y_pred)\n",
    "\n",
    "print('Accuracy for relavance is:', accuracy)"
   ]
  },
  {
   "cell_type": "code",
   "execution_count": null,
   "id": "c8f7d1c8",
   "metadata": {},
   "outputs": [],
   "source": []
  }
 ],
 "metadata": {
  "kernelspec": {
   "display_name": "Python 3 (ipykernel)",
   "language": "python",
   "name": "python3"
  },
  "language_info": {
   "codemirror_mode": {
    "name": "ipython",
    "version": 3
   },
   "file_extension": ".py",
   "mimetype": "text/x-python",
   "name": "python",
   "nbconvert_exporter": "python",
   "pygments_lexer": "ipython3",
   "version": "3.9.7"
  }
 },
 "nbformat": 4,
 "nbformat_minor": 5
}
