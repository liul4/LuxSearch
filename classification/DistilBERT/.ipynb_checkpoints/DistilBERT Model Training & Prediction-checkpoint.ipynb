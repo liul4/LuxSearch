{
 "cells": [
  {
   "cell_type": "markdown",
   "id": "0bbeeda7",
   "metadata": {},
   "source": [
    "## Training The Model"
   ]
  },
  {
   "cell_type": "code",
   "execution_count": null,
   "id": "Hk2uKLGqgS9G",
   "metadata": {
    "colab": {
     "base_uri": "https://localhost:8080/",
     "height": 206
    },
    "id": "Hk2uKLGqgS9G",
    "outputId": "54dc4016-ac35-4061-ee0f-ee36f4339fff"
   },
   "outputs": [
    {
     "data": {
      "text/html": [
       "\n",
       "  <div id=\"df-6cca8baf-d332-45e5-9287-436a744b0e6e\">\n",
       "    <div class=\"colab-df-container\">\n",
       "      <div>\n",
       "<style scoped>\n",
       "    .dataframe tbody tr th:only-of-type {\n",
       "        vertical-align: middle;\n",
       "    }\n",
       "\n",
       "    .dataframe tbody tr th {\n",
       "        vertical-align: top;\n",
       "    }\n",
       "\n",
       "    .dataframe thead th {\n",
       "        text-align: right;\n",
       "    }\n",
       "</style>\n",
       "<table border=\"1\" class=\"dataframe\">\n",
       "  <thead>\n",
       "    <tr style=\"text-align: right;\">\n",
       "      <th></th>\n",
       "      <th>1</th>\n",
       "      <th>target</th>\n",
       "      <th>Data</th>\n",
       "    </tr>\n",
       "  </thead>\n",
       "  <tbody>\n",
       "    <tr>\n",
       "      <th>0</th>\n",
       "      <td>10500</td>\n",
       "      <td>1</td>\n",
       "      <td>__TiffanyAndCo Cousinnnn the return coming soon</td>\n",
       "    </tr>\n",
       "    <tr>\n",
       "      <th>1</th>\n",
       "      <td>3597</td>\n",
       "      <td>0</td>\n",
       "      <td>at the balenciaga thinking about my friends fa...</td>\n",
       "    </tr>\n",
       "    <tr>\n",
       "      <th>2</th>\n",
       "      <td>10044</td>\n",
       "      <td>1</td>\n",
       "      <td>TiffanyAndCo bracelet I bought in Milan in Oct...</td>\n",
       "    </tr>\n",
       "    <tr>\n",
       "      <th>3</th>\n",
       "      <td>4712</td>\n",
       "      <td>0</td>\n",
       "      <td>QueenMoniB personifier channel_gibbs eccentric...</td>\n",
       "    </tr>\n",
       "    <tr>\n",
       "      <th>4</th>\n",
       "      <td>2925</td>\n",
       "      <td>0</td>\n",
       "      <td>Pup_Dior_ Happy Valentines Day  You are so gor...</td>\n",
       "    </tr>\n",
       "  </tbody>\n",
       "</table>\n",
       "</div>\n",
       "      <button class=\"colab-df-convert\" onclick=\"convertToInteractive('df-6cca8baf-d332-45e5-9287-436a744b0e6e')\"\n",
       "              title=\"Convert this dataframe to an interactive table.\"\n",
       "              style=\"display:none;\">\n",
       "        \n",
       "  <svg xmlns=\"http://www.w3.org/2000/svg\" height=\"24px\"viewBox=\"0 0 24 24\"\n",
       "       width=\"24px\">\n",
       "    <path d=\"M0 0h24v24H0V0z\" fill=\"none\"/>\n",
       "    <path d=\"M18.56 5.44l.94 2.06.94-2.06 2.06-.94-2.06-.94-.94-2.06-.94 2.06-2.06.94zm-11 1L8.5 8.5l.94-2.06 2.06-.94-2.06-.94L8.5 2.5l-.94 2.06-2.06.94zm10 10l.94 2.06.94-2.06 2.06-.94-2.06-.94-.94-2.06-.94 2.06-2.06.94z\"/><path d=\"M17.41 7.96l-1.37-1.37c-.4-.4-.92-.59-1.43-.59-.52 0-1.04.2-1.43.59L10.3 9.45l-7.72 7.72c-.78.78-.78 2.05 0 2.83L4 21.41c.39.39.9.59 1.41.59.51 0 1.02-.2 1.41-.59l7.78-7.78 2.81-2.81c.8-.78.8-2.07 0-2.86zM5.41 20L4 18.59l7.72-7.72 1.47 1.35L5.41 20z\"/>\n",
       "  </svg>\n",
       "      </button>\n",
       "      \n",
       "  <style>\n",
       "    .colab-df-container {\n",
       "      display:flex;\n",
       "      flex-wrap:wrap;\n",
       "      gap: 12px;\n",
       "    }\n",
       "\n",
       "    .colab-df-convert {\n",
       "      background-color: #E8F0FE;\n",
       "      border: none;\n",
       "      border-radius: 50%;\n",
       "      cursor: pointer;\n",
       "      display: none;\n",
       "      fill: #1967D2;\n",
       "      height: 32px;\n",
       "      padding: 0 0 0 0;\n",
       "      width: 32px;\n",
       "    }\n",
       "\n",
       "    .colab-df-convert:hover {\n",
       "      background-color: #E2EBFA;\n",
       "      box-shadow: 0px 1px 2px rgba(60, 64, 67, 0.3), 0px 1px 3px 1px rgba(60, 64, 67, 0.15);\n",
       "      fill: #174EA6;\n",
       "    }\n",
       "\n",
       "    [theme=dark] .colab-df-convert {\n",
       "      background-color: #3B4455;\n",
       "      fill: #D2E3FC;\n",
       "    }\n",
       "\n",
       "    [theme=dark] .colab-df-convert:hover {\n",
       "      background-color: #434B5C;\n",
       "      box-shadow: 0px 1px 3px 1px rgba(0, 0, 0, 0.15);\n",
       "      filter: drop-shadow(0px 1px 2px rgba(0, 0, 0, 0.3));\n",
       "      fill: #FFFFFF;\n",
       "    }\n",
       "  </style>\n",
       "\n",
       "      <script>\n",
       "        const buttonEl =\n",
       "          document.querySelector('#df-6cca8baf-d332-45e5-9287-436a744b0e6e button.colab-df-convert');\n",
       "        buttonEl.style.display =\n",
       "          google.colab.kernel.accessAllowed ? 'block' : 'none';\n",
       "\n",
       "        async function convertToInteractive(key) {\n",
       "          const element = document.querySelector('#df-6cca8baf-d332-45e5-9287-436a744b0e6e');\n",
       "          const dataTable =\n",
       "            await google.colab.kernel.invokeFunction('convertToInteractive',\n",
       "                                                     [key], {});\n",
       "          if (!dataTable) return;\n",
       "\n",
       "          const docLinkHtml = 'Like what you see? Visit the ' +\n",
       "            '<a target=\"_blank\" href=https://colab.research.google.com/notebooks/data_table.ipynb>data table notebook</a>'\n",
       "            + ' to learn more about interactive tables.';\n",
       "          element.innerHTML = '';\n",
       "          dataTable['output_type'] = 'display_data';\n",
       "          await google.colab.output.renderOutput(dataTable, element);\n",
       "          const docLink = document.createElement('div');\n",
       "          docLink.innerHTML = docLinkHtml;\n",
       "          element.appendChild(docLink);\n",
       "        }\n",
       "      </script>\n",
       "    </div>\n",
       "  </div>\n",
       "  "
      ],
      "text/plain": [
       "       1  target                                               Data\n",
       "0  10500       1   __TiffanyAndCo Cousinnnn the return coming soon \n",
       "1   3597       0  at the balenciaga thinking about my friends fa...\n",
       "2  10044       1  TiffanyAndCo bracelet I bought in Milan in Oct...\n",
       "3   4712       0  QueenMoniB personifier channel_gibbs eccentric...\n",
       "4   2925       0  Pup_Dior_ Happy Valentines Day  You are so gor..."
      ]
     },
     "execution_count": 8,
     "metadata": {},
     "output_type": "execute_result"
    }
   ],
   "source": [
    "# !pip install transformers\n",
    "from transformers import DistilBertTokenizer\n",
    "from transformers import TFDistilBertForSequenceClassification\n",
    "import tensorflow as tf\n",
    "import pandas as pd\n",
    "import json\n",
    "import gc\n",
    "df = pd.read_excel(\"Relevance.xlsx\")\n",
    "# df = pd.read_csv('eda_relevance.csv') # Change path to your download location\n",
    "df.rename(columns={\"Relavance\":\"target\"}, inplace=True)\n",
    "df['target'].replace([\"R\",\"I\"],[1,0], inplace =True)\n",
    "df.head()"
   ]
  },
  {
   "cell_type": "code",
   "execution_count": null,
   "id": "HfKFljT3B4d7",
   "metadata": {
    "id": "HfKFljT3B4d7"
   },
   "outputs": [],
   "source": [
    "data_texts = df[\"Data\"].to_list() # Features (not-tokenized yet)\n",
    "data_labels = df[\"target\"].to_list() # Lables"
   ]
  },
  {
   "cell_type": "code",
   "execution_count": null,
   "id": "cRBfDg5rCaQy",
   "metadata": {
    "id": "cRBfDg5rCaQy"
   },
   "outputs": [],
   "source": [
    "from sklearn.model_selection import train_test_split\n",
    "\n",
    "# Split Train and Validation data\n",
    "train_texts, test_texts, train_labels, test_labels = train_test_split(data_texts, data_labels, test_size=0.3, random_state=0)"
   ]
  },
  {
   "cell_type": "code",
   "execution_count": null,
   "id": "ZKNRJgzsCc-i",
   "metadata": {
    "colab": {
     "base_uri": "https://localhost:8080/",
     "height": 113,
     "referenced_widgets": [
      "58efa7eac3d743adba48032af4cb532c",
      "7ea0975f3d0a4418b3eb1a2a96a5f2b8",
      "6f3a0f51be2d44069f978b97ef468a94",
      "c76636bb0c504eea9217a0f4226d8cce",
      "ed77bb55f7674f799d934e0ed45698b6",
      "9956ac8a6ae740948dfd9004197fdda6",
      "2bcfa01d23e6412e8ee49f77712f3e97",
      "d062bf23f14b40778e2783a1a7aede81",
      "c4209254097c4f6bb0cf3ee7df917afc",
      "ba41c77f23a34be598bc6e7282640930",
      "de7ab6b5e1e346dc8378d8dd9941ad35",
      "5579b4bb31a0427f8ffdc3a265507f02",
      "18cf9f67b48842d2bd72b811f2651684",
      "ea5d58b4762d451dbcc9bff33ae9f449",
      "31d23d60f08c4c4c935974ee54e873b5",
      "6940ca88af6b4cb6b6e2b1f24704a4c2",
      "1282540cff6d44c6be80b499f7d5ccf4",
      "872f42de5e7f4a95977ff765549b880c",
      "35dc91fe04a54d6383a89605edf531cf",
      "ced78766c6cc49888f1a5452c78b7542",
      "4302a684bfa5480fb6ed65b8ff7defdf",
      "7afbfbbd42984b7f9714204681cff2f4",
      "9d957621c96c42a7a3706c3bd1292f1d",
      "f31ba76fc2644affb257b33ebec85c58",
      "d8f60eed41bc48fda7d00662455543c5",
      "cebd69917a4742d7b11b24fb96d95045",
      "f2e54a3d95984e8586ba23563d654052",
      "41d082e6cded4967991b1cdd1d464e3c",
      "8ea3808e435b451695c5222087ca91af",
      "d53761f0f0a145348f2865994212e9e7",
      "3b846d4dcdea43fa8202096483716d8f",
      "e6c4c9c28e124f5aa21ce47585764e8e",
      "dc50a93c76ef455496f45049762bfc45"
     ]
    },
    "id": "ZKNRJgzsCc-i",
    "outputId": "ad601b93-492b-4c01-baf5-ced049db64d5"
   },
   "outputs": [
    {
     "data": {
      "application/vnd.jupyter.widget-view+json": {
       "model_id": "58efa7eac3d743adba48032af4cb532c",
       "version_major": 2,
       "version_minor": 0
      },
      "text/plain": [
       "Downloading (…)solve/main/vocab.txt:   0%|          | 0.00/232k [00:00<?, ?B/s]"
      ]
     },
     "metadata": {},
     "output_type": "display_data"
    },
    {
     "data": {
      "application/vnd.jupyter.widget-view+json": {
       "model_id": "5579b4bb31a0427f8ffdc3a265507f02",
       "version_major": 2,
       "version_minor": 0
      },
      "text/plain": [
       "Downloading (…)okenizer_config.json:   0%|          | 0.00/28.0 [00:00<?, ?B/s]"
      ]
     },
     "metadata": {},
     "output_type": "display_data"
    },
    {
     "data": {
      "application/vnd.jupyter.widget-view+json": {
       "model_id": "9d957621c96c42a7a3706c3bd1292f1d",
       "version_major": 2,
       "version_minor": 0
      },
      "text/plain": [
       "Downloading (…)lve/main/config.json:   0%|          | 0.00/483 [00:00<?, ?B/s]"
      ]
     },
     "metadata": {},
     "output_type": "display_data"
    }
   ],
   "source": [
    "tokenizer = DistilBertTokenizer.from_pretrained('distilbert-base-uncased')\n",
    "train_encodings = tokenizer(train_texts, truncation=True, padding=True)\n",
    "test_encodings = tokenizer(test_texts, truncation=True, padding=True)"
   ]
  },
  {
   "cell_type": "code",
   "execution_count": null,
   "id": "t-QEIpvyCfIr",
   "metadata": {
    "id": "t-QEIpvyCfIr"
   },
   "outputs": [],
   "source": [
    "with tf.device('/GPU:0'):\n",
    "  train_dataset = tf.data.Dataset.from_tensor_slices((\n",
    "      dict(train_encodings),\n",
    "      train_labels\n",
    "  ))\n",
    "  test_dataset = tf.data.Dataset.from_tensor_slices((\n",
    "      dict(test_encodings),\n",
    "      test_labels\n",
    "  ))"
   ]
  },
  {
   "cell_type": "code",
   "execution_count": null,
   "id": "TextwD4lCkiw",
   "metadata": {
    "colab": {
     "base_uri": "https://localhost:8080/"
    },
    "id": "TextwD4lCkiw",
    "outputId": "53bc15d9-d496-4c15-f8fe-ce90d2870623"
   },
   "outputs": [
    {
     "name": "stderr",
     "output_type": "stream",
     "text": [
      "Some layers from the model checkpoint at distilbert-base-uncased were not used when initializing TFDistilBertForSequenceClassification: ['vocab_projector', 'activation_13', 'vocab_transform', 'vocab_layer_norm']\n",
      "- This IS expected if you are initializing TFDistilBertForSequenceClassification from the checkpoint of a model trained on another task or with another architecture (e.g. initializing a BertForSequenceClassification model from a BertForPreTraining model).\n",
      "- This IS NOT expected if you are initializing TFDistilBertForSequenceClassification from the checkpoint of a model that you expect to be exactly identical (initializing a BertForSequenceClassification model from a BertForSequenceClassification model).\n",
      "Some layers of TFDistilBertForSequenceClassification were not initialized from the model checkpoint at distilbert-base-uncased and are newly initialized: ['classifier', 'pre_classifier', 'dropout_39']\n",
      "You should probably TRAIN this model on a down-stream task to be able to use it for predictions and inference.\n"
     ]
    }
   ],
   "source": [
    "model = TFDistilBertForSequenceClassification.from_pretrained('distilbert-base-uncased', num_labels=3)\n",
    "\n",
    "optimizer = tf.keras.optimizers.legacy.Adam(learning_rate=5e-5)\n",
    "model.compile(optimizer=optimizer, loss=model.hf_compute_loss, metrics=['accuracy'])"
   ]
  },
  {
   "cell_type": "code",
   "execution_count": null,
   "id": "Wr5AaOK9CsPu",
   "metadata": {
    "colab": {
     "base_uri": "https://localhost:8080/"
    },
    "id": "Wr5AaOK9CsPu",
    "outputId": "8b0d69ed-794e-47a8-d334-49e966c7ec77"
   },
   "outputs": [
    {
     "name": "stdout",
     "output_type": "stream",
     "text": [
      "Epoch 1/3\n",
      "189/189 [==============================] - 215s 1s/step - loss: 0.5926 - accuracy: 0.6977 - val_loss: 0.4900 - val_accuracy: 0.7597\n",
      "Epoch 2/3\n",
      "189/189 [==============================] - 188s 993ms/step - loss: 0.4133 - accuracy: 0.8236 - val_loss: 0.4848 - val_accuracy: 0.7605\n",
      "Epoch 3/3\n",
      "189/189 [==============================] - 187s 992ms/step - loss: 0.2471 - accuracy: 0.9066 - val_loss: 0.7454 - val_accuracy: 0.7395\n"
     ]
    }
   ],
   "source": [
    "with tf.device('/GPU:0'):\n",
    "  model.fit(train_dataset.shuffle(1000).batch(16), epochs=3, batch_size=16,validation_data=test_dataset.shuffle(1000).batch(16))"
   ]
  },
  {
   "cell_type": "code",
   "execution_count": null,
   "id": "0guaXJYFCvMK",
   "metadata": {
    "colab": {
     "base_uri": "https://localhost:8080/"
    },
    "id": "0guaXJYFCvMK",
    "outputId": "05cba0fb-fa60-4adc-c880-de6799ca0ba1"
   },
   "outputs": [
    {
     "data": {
      "text/plain": [
       "('/content/drive/MyDrive/CZ4024 Information Retrieval/normalData1_Relevance/tokenizer_config.json',\n",
       " '/content/drive/MyDrive/CZ4024 Information Retrieval/normalData1_Relevance/special_tokens_map.json',\n",
       " '/content/drive/MyDrive/CZ4024 Information Retrieval/normalData1_Relevance/vocab.txt',\n",
       " '/content/drive/MyDrive/CZ4024 Information Retrieval/normalData1_Relevance/added_tokens.json')"
      ]
     },
     "execution_count": 17,
     "metadata": {},
     "output_type": "execute_result"
    }
   ],
   "source": [
    "save_directory = \"/content/drive/MyDrive/CZ4024 Information Retrieval/normalData1_Relevance\" # change this to your preferred location\n",
    "\n",
    "model.save_pretrained(save_directory)\n",
    "tokenizer.save_pretrained(save_directory)"
   ]
  },
  {
   "cell_type": "code",
   "execution_count": null,
   "id": "ytevmJLSDDlk",
   "metadata": {
    "colab": {
     "base_uri": "https://localhost:8080/"
    },
    "id": "ytevmJLSDDlk",
    "outputId": "5df6b674-68ee-4550-e1f5-84173079ad0a"
   },
   "outputs": [
    {
     "name": "stderr",
     "output_type": "stream",
     "text": [
      "Some layers from the model checkpoint at /content/drive/MyDrive/CZ4024 Information Retrieval/normalData1_Relevance were not used when initializing TFDistilBertForSequenceClassification: ['dropout_39']\n",
      "- This IS expected if you are initializing TFDistilBertForSequenceClassification from the checkpoint of a model trained on another task or with another architecture (e.g. initializing a BertForSequenceClassification model from a BertForPreTraining model).\n",
      "- This IS NOT expected if you are initializing TFDistilBertForSequenceClassification from the checkpoint of a model that you expect to be exactly identical (initializing a BertForSequenceClassification model from a BertForSequenceClassification model).\n",
      "Some layers of TFDistilBertForSequenceClassification were not initialized from the model checkpoint at /content/drive/MyDrive/CZ4024 Information Retrieval/normalData1_Relevance and are newly initialized: ['dropout_59']\n",
      "You should probably TRAIN this model on a down-stream task to be able to use it for predictions and inference.\n"
     ]
    }
   ],
   "source": [
    "# save_directory = \"/content/drive/MyDrive/CZ4024 Information Retrieval/normalData_Polarity\"\n",
    "loaded_tokenizer = DistilBertTokenizer.from_pretrained(save_directory)\n",
    "loaded_model = TFDistilBertForSequenceClassification.from_pretrained(save_directory, output_attentions=True)"
   ]
  },
  {
   "cell_type": "code",
   "execution_count": null,
   "id": "oB4JLHABbDgy",
   "metadata": {
    "colab": {
     "base_uri": "https://localhost:8080/"
    },
    "id": "oB4JLHABbDgy",
    "outputId": "e930a48c-7d66-43fc-8752-182d1a3621a1"
   },
   "outputs": [
    {
     "name": "stdout",
     "output_type": "stream",
     "text": [
      "   target                                               Data\n",
      "0       0    balenciaga and the rise of trash by umair haque\n",
      "1       0               removed the balenciaga scandal broke\n",
      "2       0  omega aqua terra i really wanted an explorer p...\n",
      "3       0  they seem to have a life of their own crazy di...\n",
      "4       0  since i dont twitter and shoe only put up a mi...\n"
     ]
    }
   ],
   "source": [
    "# !pip install transformers\n",
    "\n",
    "from sklearn.model_selection import train_test_split\n",
    "from transformers import DistilBertTokenizer\n",
    "import tensorflow as tf\n",
    "import pandas as pd\n",
    "\n",
    "\n",
    "df = pd.read_csv('eda_polarity.csv') # Change path to your download location\n",
    "# df = pd.read_excel(\"Relevance.xlsx\")\n",
    "# print(df.head())\n",
    "# For Relevance Data\n",
    "# df.rename(columns={\"Relevance\":\"target\"}, inplace=True)\n",
    "# df['target'].replace([\"R\",\"I\"],[1,0], inplace =True)\n",
    "\n",
    "# For Polarity Data\n",
    "df.rename(columns={\"Polarity\":\"target\"}, inplace=True)\n",
    "df['target'].replace([0,2,4],[0,1,2], inplace =True)\n",
    "df = df[[\"target\", \"Data\"]]\n",
    "# df['target'].replace([-1,0,1],[0,1,2], inplace =True)\n",
    "\n",
    "print(df.head())\n",
    "\n",
    "data_texts = df[\"Data\"].to_list() # Features (not-tokenized yet)\n",
    "data_labels = df[\"target\"].to_list() # Lables\n",
    "\n",
    "# Split Train and Validation data\n",
    "train_texts, test_texts, train_labels, test_labels = train_test_split(data_texts, data_labels, test_size=0.3, random_state=7)\n",
    "\n",
    "tokenizer = DistilBertTokenizer.from_pretrained('distilbert-base-uncased')\n",
    "train_encodings = tokenizer(train_texts, truncation=True, padding=True)\n",
    "test_encodings = tokenizer(test_texts, truncation=True, padding=True)"
   ]
  },
  {
   "cell_type": "code",
   "execution_count": null,
   "id": "7VNICAMRQPpI",
   "metadata": {
    "colab": {
     "base_uri": "https://localhost:8080/"
    },
    "id": "7VNICAMRQPpI",
    "outputId": "93ceaef9-fad9-4ebb-a73a-d6aa905237fd"
   },
   "outputs": [
    {
     "name": "stderr",
     "output_type": "stream",
     "text": [
      "All TF 2.0 model weights were used when initializing DistilBertForSequenceClassification.\n",
      "\n",
      "All the weights of DistilBertForSequenceClassification were initialized from the TF 2.0 model.\n",
      "If your task is similar to the task the model of the checkpoint was trained on, you can already use DistilBertForSequenceClassification for predictions without further training.\n"
     ]
    }
   ],
   "source": [
    "# !pip install transformers\n",
    "from transformers import DistilBertTokenizer\n",
    "from transformers import DistilBertForSequenceClassification\n",
    "import numpy as np\n",
    "from sklearn.metrics import classification_report\n",
    "import torch\n",
    "save_directory = \"/content/drive/MyDrive/CZ4024 Information Retrieval/normalData1_Relevance\"\n",
    "loaded_tokenizer = DistilBertTokenizer.from_pretrained(save_directory)\n",
    "loaded_model = DistilBertForSequenceClassification.from_pretrained(save_directory, from_tf=True)"
   ]
  },
  {
   "cell_type": "code",
   "execution_count": null,
   "id": "kB6M27fDDePH",
   "metadata": {
    "colab": {
     "base_uri": "https://localhost:8080/"
    },
    "id": "kB6M27fDDePH",
    "outputId": "c958d7a4-4f53-4109-f2a4-f4244c10d072"
   },
   "outputs": [
    {
     "name": "stdout",
     "output_type": "stream",
     "text": [
      "0 / 1290\n",
      "50 / 1290\n",
      "100 / 1290\n",
      "150 / 1290\n",
      "200 / 1290\n",
      "250 / 1290\n",
      "300 / 1290\n",
      "350 / 1290\n",
      "400 / 1290\n",
      "450 / 1290\n",
      "500 / 1290\n",
      "550 / 1290\n",
      "600 / 1290\n",
      "650 / 1290\n",
      "700 / 1290\n",
      "750 / 1290\n",
      "800 / 1290\n",
      "850 / 1290\n",
      "900 / 1290\n",
      "950 / 1290\n",
      "1000 / 1290\n",
      "1050 / 1290\n",
      "1100 / 1290\n",
      "1150 / 1290\n",
      "1200 / 1290\n",
      "1250 / 1290\n"
     ]
    }
   ],
   "source": [
    "pred_values = []\n",
    "for i,test_text in enumerate(test_texts):\n",
    "  predict_input = loaded_tokenizer.encode(test_text,truncation=True,padding=True,return_tensors=\"pt\")\n",
    "  output = loaded_model(predict_input)[0]\n",
    "  prediction_value = torch.argmax(output[0], dim=-1).item()\n",
    "  pred_values.append(prediction_value)\n",
    "  if(i%50==0):\n",
    "    print(i,\"/\",len(test_texts))\n",
    "# print(classification_report(test_labels, prediction_value))"
   ]
  },
  {
   "cell_type": "code",
   "execution_count": null,
   "id": "eZ-yrkp0QQu8",
   "metadata": {
    "colab": {
     "base_uri": "https://localhost:8080/"
    },
    "id": "eZ-yrkp0QQu8",
    "outputId": "2da37101-9b05-48f7-d783-93eb07039d3e"
   },
   "outputs": [
    {
     "name": "stdout",
     "output_type": "stream",
     "text": [
      "              precision    recall  f1-score   support\n",
      "\n",
      "         Irr       0.74      0.88      0.81       792\n",
      "         Rel       0.73      0.52      0.60       498\n",
      "\n",
      "    accuracy                           0.74      1290\n",
      "   macro avg       0.74      0.70      0.71      1290\n",
      "weighted avg       0.74      0.74      0.73      1290\n",
      "\n"
     ]
    }
   ],
   "source": [
    "# print(classification_report(test_labels, pred_values, target_names=[\"Neg\",\"Neut\",\"Pos\"]))\n",
    "print(classification_report(test_labels, pred_values, target_names=[\"Irr\",\"Rel\"]))"
   ]
  },
  {
   "cell_type": "code",
   "execution_count": null,
   "id": "R2BYdtSRZz06",
   "metadata": {
    "id": "R2BYdtSRZz06"
   },
   "outputs": [],
   "source": [
    "for i,label in enumerate(test_labels):\n",
    "  if label!=1 and label!=0:\n",
    "    test_labels[i] = 0"
   ]
  },
  {
   "cell_type": "code",
   "execution_count": null,
   "id": "9jLodimbeu1S",
   "metadata": {
    "colab": {
     "base_uri": "https://localhost:8080/"
    },
    "id": "9jLodimbeu1S",
    "outputId": "8c350eb7-1b75-4e94-b845-265656198ffb"
   },
   "outputs": [
    {
     "data": {
      "text/plain": [
       "4614"
      ]
     },
     "execution_count": 130,
     "metadata": {},
     "output_type": "execute_result"
    }
   ],
   "source": [
    "# df[df['target'] == 0]\n",
    "len(test_labels)"
   ]
  },
  {
   "cell_type": "code",
   "execution_count": null,
   "id": "kyZOVptaGA4k",
   "metadata": {
    "colab": {
     "base_uri": "https://localhost:8080/",
     "height": 423
    },
    "id": "kyZOVptaGA4k",
    "outputId": "422ec58d-ef0d-41d3-9a06-c756897f39dd"
   },
   "outputs": [
    {
     "data": {
      "text/html": [
       "\n",
       "  <div id=\"df-d60c4807-c895-486b-a983-57ffd816eb4f\">\n",
       "    <div class=\"colab-df-container\">\n",
       "      <div>\n",
       "<style scoped>\n",
       "    .dataframe tbody tr th:only-of-type {\n",
       "        vertical-align: middle;\n",
       "    }\n",
       "\n",
       "    .dataframe tbody tr th {\n",
       "        vertical-align: top;\n",
       "    }\n",
       "\n",
       "    .dataframe thead th {\n",
       "        text-align: right;\n",
       "    }\n",
       "</style>\n",
       "<table border=\"1\" class=\"dataframe\">\n",
       "  <thead>\n",
       "    <tr style=\"text-align: right;\">\n",
       "      <th></th>\n",
       "      <th>Data</th>\n",
       "      <th>target</th>\n",
       "    </tr>\n",
       "  </thead>\n",
       "  <tbody>\n",
       "    <tr>\n",
       "      <th>0</th>\n",
       "      <td>ksorbs pdaug by now we should have profile pic...</td>\n",
       "      <td>0</td>\n",
       "    </tr>\n",
       "    <tr>\n",
       "      <th>1</th>\n",
       "      <td>ksorbs pdaug by now we should have profile pic...</td>\n",
       "      <td>0</td>\n",
       "    </tr>\n",
       "    <tr>\n",
       "      <th>2</th>\n",
       "      <td>ksorbs pdaug by now we should profile with spe...</td>\n",
       "      <td>0</td>\n",
       "    </tr>\n",
       "    <tr>\n",
       "      <th>3</th>\n",
       "      <td>ksorbs pdaug by now we should have profile pic...</td>\n",
       "      <td>0</td>\n",
       "    </tr>\n",
       "    <tr>\n",
       "      <th>4</th>\n",
       "      <td>ksorbs pdaug by now we should have profile pic...</td>\n",
       "      <td>0</td>\n",
       "    </tr>\n",
       "    <tr>\n",
       "      <th>...</th>\n",
       "      <td>...</td>\n",
       "      <td>...</td>\n",
       "    </tr>\n",
       "    <tr>\n",
       "      <th>34161</th>\n",
       "      <td>hermes would like you to know that alternate s...</td>\n",
       "      <td>1</td>\n",
       "    </tr>\n",
       "    <tr>\n",
       "      <th>34162</th>\n",
       "      <td>what this at rolex precision is fake help me pls</td>\n",
       "      <td>1</td>\n",
       "    </tr>\n",
       "    <tr>\n",
       "      <th>34163</th>\n",
       "      <td>this is a for something please dont kill me lo...</td>\n",
       "      <td>1</td>\n",
       "    </tr>\n",
       "    <tr>\n",
       "      <th>34164</th>\n",
       "      <td>balenciaga handbag logo brown no</td>\n",
       "      <td>1</td>\n",
       "    </tr>\n",
       "    <tr>\n",
       "      <th>34165</th>\n",
       "      <td>is balenciaga in disaster modality objects are...</td>\n",
       "      <td>1</td>\n",
       "    </tr>\n",
       "  </tbody>\n",
       "</table>\n",
       "<p>34166 rows × 2 columns</p>\n",
       "</div>\n",
       "      <button class=\"colab-df-convert\" onclick=\"convertToInteractive('df-d60c4807-c895-486b-a983-57ffd816eb4f')\"\n",
       "              title=\"Convert this dataframe to an interactive table.\"\n",
       "              style=\"display:none;\">\n",
       "        \n",
       "  <svg xmlns=\"http://www.w3.org/2000/svg\" height=\"24px\"viewBox=\"0 0 24 24\"\n",
       "       width=\"24px\">\n",
       "    <path d=\"M0 0h24v24H0V0z\" fill=\"none\"/>\n",
       "    <path d=\"M18.56 5.44l.94 2.06.94-2.06 2.06-.94-2.06-.94-.94-2.06-.94 2.06-2.06.94zm-11 1L8.5 8.5l.94-2.06 2.06-.94-2.06-.94L8.5 2.5l-.94 2.06-2.06.94zm10 10l.94 2.06.94-2.06 2.06-.94-2.06-.94-.94-2.06-.94 2.06-2.06.94z\"/><path d=\"M17.41 7.96l-1.37-1.37c-.4-.4-.92-.59-1.43-.59-.52 0-1.04.2-1.43.59L10.3 9.45l-7.72 7.72c-.78.78-.78 2.05 0 2.83L4 21.41c.39.39.9.59 1.41.59.51 0 1.02-.2 1.41-.59l7.78-7.78 2.81-2.81c.8-.78.8-2.07 0-2.86zM5.41 20L4 18.59l7.72-7.72 1.47 1.35L5.41 20z\"/>\n",
       "  </svg>\n",
       "      </button>\n",
       "      \n",
       "  <style>\n",
       "    .colab-df-container {\n",
       "      display:flex;\n",
       "      flex-wrap:wrap;\n",
       "      gap: 12px;\n",
       "    }\n",
       "\n",
       "    .colab-df-convert {\n",
       "      background-color: #E8F0FE;\n",
       "      border: none;\n",
       "      border-radius: 50%;\n",
       "      cursor: pointer;\n",
       "      display: none;\n",
       "      fill: #1967D2;\n",
       "      height: 32px;\n",
       "      padding: 0 0 0 0;\n",
       "      width: 32px;\n",
       "    }\n",
       "\n",
       "    .colab-df-convert:hover {\n",
       "      background-color: #E2EBFA;\n",
       "      box-shadow: 0px 1px 2px rgba(60, 64, 67, 0.3), 0px 1px 3px 1px rgba(60, 64, 67, 0.15);\n",
       "      fill: #174EA6;\n",
       "    }\n",
       "\n",
       "    [theme=dark] .colab-df-convert {\n",
       "      background-color: #3B4455;\n",
       "      fill: #D2E3FC;\n",
       "    }\n",
       "\n",
       "    [theme=dark] .colab-df-convert:hover {\n",
       "      background-color: #434B5C;\n",
       "      box-shadow: 0px 1px 3px 1px rgba(0, 0, 0, 0.15);\n",
       "      filter: drop-shadow(0px 1px 2px rgba(0, 0, 0, 0.3));\n",
       "      fill: #FFFFFF;\n",
       "    }\n",
       "  </style>\n",
       "\n",
       "      <script>\n",
       "        const buttonEl =\n",
       "          document.querySelector('#df-d60c4807-c895-486b-a983-57ffd816eb4f button.colab-df-convert');\n",
       "        buttonEl.style.display =\n",
       "          google.colab.kernel.accessAllowed ? 'block' : 'none';\n",
       "\n",
       "        async function convertToInteractive(key) {\n",
       "          const element = document.querySelector('#df-d60c4807-c895-486b-a983-57ffd816eb4f');\n",
       "          const dataTable =\n",
       "            await google.colab.kernel.invokeFunction('convertToInteractive',\n",
       "                                                     [key], {});\n",
       "          if (!dataTable) return;\n",
       "\n",
       "          const docLinkHtml = 'Like what you see? Visit the ' +\n",
       "            '<a target=\"_blank\" href=https://colab.research.google.com/notebooks/data_table.ipynb>data table notebook</a>'\n",
       "            + ' to learn more about interactive tables.';\n",
       "          element.innerHTML = '';\n",
       "          dataTable['output_type'] = 'display_data';\n",
       "          await google.colab.output.renderOutput(dataTable, element);\n",
       "          const docLink = document.createElement('div');\n",
       "          docLink.innerHTML = docLinkHtml;\n",
       "          element.appendChild(docLink);\n",
       "        }\n",
       "      </script>\n",
       "    </div>\n",
       "  </div>\n",
       "  "
      ],
      "text/plain": [
       "                                                    Data  target\n",
       "0      ksorbs pdaug by now we should have profile pic...       0\n",
       "1      ksorbs pdaug by now we should have profile pic...       0\n",
       "2      ksorbs pdaug by now we should profile with spe...       0\n",
       "3      ksorbs pdaug by now we should have profile pic...       0\n",
       "4      ksorbs pdaug by now we should have profile pic...       0\n",
       "...                                                  ...     ...\n",
       "34161  hermes would like you to know that alternate s...       1\n",
       "34162   what this at rolex precision is fake help me pls       1\n",
       "34163  this is a for something please dont kill me lo...       1\n",
       "34164                   balenciaga handbag logo brown no       1\n",
       "34165  is balenciaga in disaster modality objects are...       1\n",
       "\n",
       "[34166 rows x 2 columns]"
      ]
     },
     "execution_count": 99,
     "metadata": {},
     "output_type": "execute_result"
    }
   ],
   "source": [
    "df = pd.read_csv('eda_relevance.csv')\n",
    "df['Relevance'].replace([\"R\",\"I\"],[1,0], inplace =True)\n",
    "df.rename(columns = {\"Relevance\":\"target\"}, inplace = True)\n",
    "df"
   ]
  },
  {
   "cell_type": "markdown",
   "id": "Q33kuHbc3m6Y",
   "metadata": {
    "id": "Q33kuHbc3m6Y"
   },
   "source": [
    "## Predicting All Data"
   ]
  },
  {
   "cell_type": "code",
   "execution_count": null,
   "id": "7U-jrRpq3vSH",
   "metadata": {
    "colab": {
     "base_uri": "https://localhost:8080/"
    },
    "id": "7U-jrRpq3vSH",
    "outputId": "22e6af32-1850-4c84-9b60-977516885325"
   },
   "outputs": [
    {
     "name": "stdout",
     "output_type": "stream",
     "text": [
      "Looking in indexes: https://pypi.org/simple, https://us-python.pkg.dev/colab-wheels/public/simple/\n",
      "Requirement already satisfied: transformers in /usr/local/lib/python3.9/dist-packages (4.27.4)\n",
      "Requirement already satisfied: pyyaml>=5.1 in /usr/local/lib/python3.9/dist-packages (from transformers) (6.0)\n",
      "Requirement already satisfied: tqdm>=4.27 in /usr/local/lib/python3.9/dist-packages (from transformers) (4.65.0)\n",
      "Requirement already satisfied: huggingface-hub<1.0,>=0.11.0 in /usr/local/lib/python3.9/dist-packages (from transformers) (0.13.3)\n",
      "Requirement already satisfied: tokenizers!=0.11.3,<0.14,>=0.11.1 in /usr/local/lib/python3.9/dist-packages (from transformers) (0.13.2)\n",
      "Requirement already satisfied: numpy>=1.17 in /usr/local/lib/python3.9/dist-packages (from transformers) (1.22.4)\n",
      "Requirement already satisfied: filelock in /usr/local/lib/python3.9/dist-packages (from transformers) (3.10.7)\n",
      "Requirement already satisfied: packaging>=20.0 in /usr/local/lib/python3.9/dist-packages (from transformers) (23.0)\n",
      "Requirement already satisfied: requests in /usr/local/lib/python3.9/dist-packages (from transformers) (2.27.1)\n",
      "Requirement already satisfied: regex!=2019.12.17 in /usr/local/lib/python3.9/dist-packages (from transformers) (2022.10.31)\n",
      "Requirement already satisfied: typing-extensions>=3.7.4.3 in /usr/local/lib/python3.9/dist-packages (from huggingface-hub<1.0,>=0.11.0->transformers) (4.5.0)\n",
      "Requirement already satisfied: certifi>=2017.4.17 in /usr/local/lib/python3.9/dist-packages (from requests->transformers) (2022.12.7)\n",
      "Requirement already satisfied: idna<4,>=2.5 in /usr/local/lib/python3.9/dist-packages (from requests->transformers) (3.4)\n",
      "Requirement already satisfied: urllib3<1.27,>=1.21.1 in /usr/local/lib/python3.9/dist-packages (from requests->transformers) (1.26.15)\n",
      "Requirement already satisfied: charset-normalizer~=2.0.0 in /usr/local/lib/python3.9/dist-packages (from requests->transformers) (2.0.12)\n"
     ]
    }
   ],
   "source": [
    "!pip install transformers\n",
    "from sklearn.model_selection import train_test_split\n",
    "from transformers import DistilBertTokenizer\n",
    "import tensorflow as tf\n",
    "import pandas as pd\n",
    "\n",
    "# twitter_df = pd.read_csv('Cleaned_Tweets.csv') # Change path to your download location\n",
    "reddit_df = pd.read_csv('Cleaned_Reddit.csv') # Change path to your download location\n",
    "# Replace NaN with \"\"\n",
    "reddit_df.loc[reddit_df[\"Cleaned Data\"].isna(), \"Cleaned Data\"] = \"\"\n",
    "\n",
    "#sample testing\n",
    "# twitter_df = twitter_df.iloc[:5]\n",
    "# reddit_df = reddit_df.iloc[:5]\n"
   ]
  },
  {
   "cell_type": "code",
   "execution_count": null,
   "id": "R9inhBvw9lTW",
   "metadata": {
    "id": "R9inhBvw9lTW"
   },
   "outputs": [],
   "source": [
    "# twitter_data_texts = twitter_df[\"Cleaned Data\"].to_list() # Features (not-tokenized yet)\n",
    "reddit_data_texts = reddit_df[\"Cleaned Data\"].to_list() # Features (not-tokenized yet)"
   ]
  },
  {
   "cell_type": "code",
   "execution_count": null,
   "id": "H3axsQ-B4UuM",
   "metadata": {
    "colab": {
     "base_uri": "https://localhost:8080/"
    },
    "id": "H3axsQ-B4UuM",
    "outputId": "a6a27747-d394-4315-9176-e0ab599e1b5d"
   },
   "outputs": [
    {
     "name": "stderr",
     "output_type": "stream",
     "text": [
      "All TF 2.0 model weights were used when initializing DistilBertForSequenceClassification.\n",
      "\n",
      "All the weights of DistilBertForSequenceClassification were initialized from the TF 2.0 model.\n",
      "If your task is similar to the task the model of the checkpoint was trained on, you can already use DistilBertForSequenceClassification for predictions without further training.\n"
     ]
    }
   ],
   "source": [
    "# !pip install transformers\n",
    "from transformers import DistilBertTokenizer\n",
    "from transformers import DistilBertForSequenceClassification\n",
    "import numpy as np\n",
    "from sklearn.metrics import classification_report\n",
    "import torch\n",
    "save_directory = \"/content/drive/MyDrive/CZ4024 Information Retrieval/DistilBERT_undersampledData_Relevance\"\n",
    "loaded_tokenizer = DistilBertTokenizer.from_pretrained(save_directory)\n",
    "loaded_model = DistilBertForSequenceClassification.from_pretrained(save_directory, from_tf=True)"
   ]
  },
  {
   "cell_type": "code",
   "execution_count": null,
   "id": "BcKuh8Ir6ZKH",
   "metadata": {
    "colab": {
     "base_uri": "https://localhost:8080/"
    },
    "id": "BcKuh8Ir6ZKH",
    "outputId": "b93f99ea-6090-47a5-c12d-c76eb127a98d"
   },
   "outputs": [
    {
     "name": "stdout",
     "output_type": "stream",
     "text": [
      "0/25503 || \n",
      "50/25503 || 100/25503 || 150/25503 || 200/25503 || 250/25503 || 300/25503 || \n",
      "350/25503 || 400/25503 || 450/25503 || 500/25503 || 550/25503 || 600/25503 || \n",
      "650/25503 || 700/25503 || 750/25503 || 800/25503 || 850/25503 || 900/25503 || \n",
      "950/25503 || 1000/25503 || 1050/25503 || 1100/25503 || 1150/25503 || 1200/25503 || \n",
      "1250/25503 || 1300/25503 || 1350/25503 || 1400/25503 || 1450/25503 || 1500/25503 || \n",
      "1550/25503 || 1600/25503 || 1650/25503 || 1700/25503 || 1750/25503 || 1800/25503 || \n",
      "1850/25503 || 1900/25503 || 1950/25503 || 2000/25503 || 2050/25503 || 2100/25503 || \n",
      "2150/25503 || 2200/25503 || 2250/25503 || 2300/25503 || 2350/25503 || 2400/25503 || \n",
      "2450/25503 || 2500/25503 || 2550/25503 || 2600/25503 || 2650/25503 || 2700/25503 || \n",
      "2750/25503 || 2800/25503 || 2850/25503 || 2900/25503 || 2950/25503 || 3000/25503 || \n",
      "3050/25503 || 3100/25503 || 3150/25503 || 3200/25503 || 3250/25503 || 3300/25503 || \n",
      "3350/25503 || 3400/25503 || 3450/25503 || 3500/25503 || 3550/25503 || 3600/25503 || \n",
      "3650/25503 || 3700/25503 || 3750/25503 || 3800/25503 || 3850/25503 || 3900/25503 || \n",
      "3950/25503 || 4000/25503 || 4050/25503 || 4100/25503 || 4150/25503 || 4200/25503 || \n",
      "4250/25503 || 4300/25503 || 4350/25503 || 4400/25503 || 4450/25503 || 4500/25503 || \n",
      "4550/25503 || 4600/25503 || 4650/25503 || 4700/25503 || 4750/25503 || 4800/25503 || \n",
      "4850/25503 || 4900/25503 || 4950/25503 || 5000/25503 || 5050/25503 || 5100/25503 || \n",
      "5150/25503 || 5200/25503 || 5250/25503 || 5300/25503 || 5350/25503 || 5400/25503 || \n",
      "5450/25503 || 5500/25503 || 5550/25503 || 5600/25503 || 5650/25503 || 5700/25503 || \n",
      "5750/25503 || 5800/25503 || 5850/25503 || 5900/25503 || 5950/25503 || 6000/25503 || \n",
      "6050/25503 || 6100/25503 || 6150/25503 || 6200/25503 || 6250/25503 || 6300/25503 || \n",
      "6350/25503 || 6400/25503 || 6450/25503 || 6500/25503 || 6550/25503 || 6600/25503 || \n",
      "6650/25503 || 6700/25503 || 6750/25503 || 6800/25503 || 6850/25503 || 6900/25503 || \n",
      "6950/25503 || 7000/25503 || 7050/25503 || 7100/25503 || 7150/25503 || 7200/25503 || \n",
      "7250/25503 || 7300/25503 || 7350/25503 || 7400/25503 || 7450/25503 || 7500/25503 || \n",
      "7550/25503 || 7600/25503 || 7650/25503 || 7700/25503 || 7750/25503 || 7800/25503 || \n",
      "7850/25503 || 7900/25503 || 7950/25503 || 8000/25503 || 8050/25503 || 8100/25503 || \n",
      "8150/25503 || 8200/25503 || 8250/25503 || 8300/25503 || 8350/25503 || 8400/25503 || \n",
      "8450/25503 || 8500/25503 || 8550/25503 || 8600/25503 || 8650/25503 || 8700/25503 || \n",
      "8750/25503 || 8800/25503 || 8850/25503 || 8900/25503 || 8950/25503 || 9000/25503 || \n",
      "9050/25503 || 9100/25503 || 9150/25503 || 9200/25503 || 9250/25503 || 9300/25503 || \n",
      "9350/25503 || 9400/25503 || 9450/25503 || 9500/25503 || 9550/25503 || 9600/25503 || \n",
      "9650/25503 || 9700/25503 || 9750/25503 || 9800/25503 || 9850/25503 || 9900/25503 || \n",
      "9950/25503 || 10000/25503 || 10050/25503 || 10100/25503 || 10150/25503 || 10200/25503 || \n",
      "10250/25503 || 10300/25503 || 10350/25503 || 10400/25503 || 10450/25503 || 10500/25503 || \n",
      "10550/25503 || 10600/25503 || 10650/25503 || 10700/25503 || 10750/25503 || 10800/25503 || \n",
      "10850/25503 || 10900/25503 || 10950/25503 || 11000/25503 || 11050/25503 || 11100/25503 || \n",
      "11150/25503 || 11200/25503 || 11250/25503 || 11300/25503 || 11350/25503 || 11400/25503 || \n",
      "11450/25503 || 11500/25503 || 11550/25503 || 11600/25503 || 11650/25503 || 11700/25503 || \n",
      "11750/25503 || 11800/25503 || 11850/25503 || 11900/25503 || 11950/25503 || 12000/25503 || \n",
      "12050/25503 || 12100/25503 || 12150/25503 || 12200/25503 || 12250/25503 || 12300/25503 || \n",
      "12350/25503 || 12400/25503 || 12450/25503 || 12500/25503 || 12550/25503 || 12600/25503 || \n",
      "12650/25503 || 12700/25503 || 12750/25503 || 12800/25503 || 12850/25503 || 12900/25503 || \n",
      "12950/25503 || 13000/25503 || 13050/25503 || 13100/25503 || 13150/25503 || 13200/25503 || \n",
      "13250/25503 || 13300/25503 || 13350/25503 || 13400/25503 || 13450/25503 || 13500/25503 || \n",
      "13550/25503 || 13600/25503 || 13650/25503 || 13700/25503 || 13750/25503 || 13800/25503 || \n",
      "13850/25503 || 13900/25503 || 13950/25503 || 14000/25503 || 14050/25503 || 14100/25503 || \n",
      "14150/25503 || 14200/25503 || 14250/25503 || 14300/25503 || 14350/25503 || 14400/25503 || \n",
      "14450/25503 || 14500/25503 || 14550/25503 || 14600/25503 || 14650/25503 || 14700/25503 || \n",
      "14750/25503 || 14800/25503 || 14850/25503 || 14900/25503 || 14950/25503 || 15000/25503 || \n",
      "15050/25503 || 15100/25503 || 15150/25503 || 15200/25503 || 15250/25503 || 15300/25503 || \n",
      "15350/25503 || 15400/25503 || 15450/25503 || 15500/25503 || 15550/25503 || 15600/25503 || \n",
      "15650/25503 || 15700/25503 || 15750/25503 || 15800/25503 || 15850/25503 || 15900/25503 || \n",
      "15950/25503 || 16000/25503 || 16050/25503 || 16100/25503 || 16150/25503 || 16200/25503 || \n",
      "16250/25503 || 16300/25503 || 16350/25503 || 16400/25503 || 16450/25503 || 16500/25503 || \n",
      "16550/25503 || 16600/25503 || 16650/25503 || 16700/25503 || 16750/25503 || 16800/25503 || \n",
      "16850/25503 || 16900/25503 || 16950/25503 || 17000/25503 || 17050/25503 || 17100/25503 || \n",
      "17150/25503 || 17200/25503 || 17250/25503 || 17300/25503 || 17350/25503 || 17400/25503 || \n",
      "17450/25503 || 17500/25503 || 17550/25503 || 17600/25503 || 17650/25503 || 17700/25503 || \n",
      "17750/25503 || 17800/25503 || 17850/25503 || 17900/25503 || 17950/25503 || 18000/25503 || \n",
      "18050/25503 || 18100/25503 || 18150/25503 || 18200/25503 || 18250/25503 || 18300/25503 || \n",
      "18350/25503 || 18400/25503 || 18450/25503 || 18500/25503 || 18550/25503 || 18600/25503 || \n",
      "18650/25503 || 18700/25503 || 18750/25503 || 18800/25503 || 18850/25503 || 18900/25503 || \n",
      "18950/25503 || 19000/25503 || 19050/25503 || 19100/25503 || 19150/25503 || 19200/25503 || \n",
      "19250/25503 || 19300/25503 || 19350/25503 || 19400/25503 || 19450/25503 || 19500/25503 || \n",
      "19550/25503 || 19600/25503 || 19650/25503 || 19700/25503 || 19750/25503 || 19800/25503 || \n",
      "19850/25503 || 19900/25503 || 19950/25503 || 20000/25503 || 20050/25503 || 20100/25503 || \n",
      "20150/25503 || 20200/25503 || 20250/25503 || 20300/25503 || 20350/25503 || 20400/25503 || \n",
      "20450/25503 || 20500/25503 || 20550/25503 || 20600/25503 || 20650/25503 || 20700/25503 || \n",
      "20750/25503 || 20800/25503 || 20850/25503 || 20900/25503 || 20950/25503 || 21000/25503 || \n",
      "21050/25503 || 21100/25503 || 21150/25503 || 21200/25503 || 21250/25503 || 21300/25503 || \n",
      "21350/25503 || 21400/25503 || 21450/25503 || 21500/25503 || 21550/25503 || 21600/25503 || \n",
      "21650/25503 || 21700/25503 || 21750/25503 || 21800/25503 || 21850/25503 || 21900/25503 || \n",
      "21950/25503 || 22000/25503 || 22050/25503 || 22100/25503 || 22150/25503 || 22200/25503 || \n",
      "22250/25503 || 22300/25503 || 22350/25503 || 22400/25503 || 22450/25503 || 22500/25503 || \n",
      "22550/25503 || 22600/25503 || 22650/25503 || 22700/25503 || 22750/25503 || 22800/25503 || \n",
      "22850/25503 || 22900/25503 || 22950/25503 || 23000/25503 || 23050/25503 || 23100/25503 || \n",
      "23150/25503 || 23200/25503 || 23250/25503 || 23300/25503 || 23350/25503 || 23400/25503 || \n",
      "23450/25503 || 23500/25503 || 23550/25503 || 23600/25503 || 23650/25503 || 23700/25503 || \n",
      "23750/25503 || 23800/25503 || 23850/25503 || 23900/25503 || 23950/25503 || 24000/25503 || \n",
      "24050/25503 || 24100/25503 || 24150/25503 || 24200/25503 || 24250/25503 || 24300/25503 || \n",
      "24350/25503 || 24400/25503 || 24450/25503 || 24500/25503 || 24550/25503 || 24600/25503 || \n",
      "24650/25503 || 24700/25503 || 24750/25503 || 24800/25503 || 24850/25503 || 24900/25503 || \n",
      "24950/25503 || 25000/25503 || 25050/25503 || 25100/25503 || 25150/25503 || 25200/25503 || \n",
      "25250/25503 || 25300/25503 || 25350/25503 || 25400/25503 || 25450/25503 || 25500/25503 || \n",
      "DONE\n",
      "Time Taken: 8694.41508769989\n"
     ]
    }
   ],
   "source": [
    "import time\n",
    "\n",
    "dfs =[reddit_data_texts] #twitter_data_texts]#\n",
    "# dfs = [[\"\"], reddit_data_texts]\n",
    "for n,test_texts in enumerate(dfs):\n",
    "  start = time.time()\n",
    "  pred_values = []\n",
    "  for i,test_text in enumerate(test_texts):\n",
    "    predict_input = loaded_tokenizer.encode(test_text,truncation=True,padding=True,return_tensors=\"pt\")\n",
    "    output = loaded_model(predict_input)[0]\n",
    "    prediction_value = torch.argmax(output[0], dim=-1).item()\n",
    "    pred_values.append(prediction_value)\n",
    "    if(i%50==0):\n",
    "      print(str(i)+\"/\"+str(len(test_texts)), end=\" || \")\n",
    "    if(i%300==0):\n",
    "      print(\"\")\n",
    "  end = time.time()\n",
    "  print(\"DONE\")\n",
    "  if False: # twitter_data\n",
    "    twitter_df[\"Relevance\"] = pred_values\n",
    "    twitter_df.to_csv(\"/content/drive/MyDrive/CZ4024 Information Retrieval/twitter_df1(with_prediction).csv\")\n",
    "    twitter_df_relevant = twitter_df[twitter_df[\"Relevance\"] == 1]\n",
    "    twitter_df_relevant.to_csv(\"/content/drive/MyDrive/CZ4024 Information Retrieval/twitter_df_relevant1.csv\")\n",
    "  else: # reddit_data\n",
    "    reddit_df[\"Relevance\"] = pred_values\n",
    "    reddit_df.to_csv(\"/content/drive/MyDrive/CZ4024 Information Retrieval/reddit_df_undersampled(with_prediction).csv\")\n",
    "    reddit_df_relevant = reddit_df[reddit_df[\"Relevance\"] == 1]\n",
    "    reddit_df_relevant.to_csv(\"/content/drive/MyDrive/CZ4024 Information Retrieval/reddit_df_undersampled_relevant.csv\")\n",
    "  print(\"Time Taken:\", end-start)"
   ]
  }
 ],
 "metadata": {
  "colab": {
   "provenance": []
  },
  "gpuClass": "standard",
  "kernelspec": {
   "display_name": "Python 3 (ipykernel)",
   "language": "python",
   "name": "python3"
  },
  "language_info": {
   "codemirror_mode": {
    "name": "ipython",
    "version": 3
   },
   "file_extension": ".py",
   "mimetype": "text/x-python",
   "name": "python",
   "nbconvert_exporter": "python",
   "pygments_lexer": "ipython3",
   "version": "3.10.5"
  },
  "widgets": {
   "application/vnd.jupyter.widget-state+json": {
    "1282540cff6d44c6be80b499f7d5ccf4": {
     "model_module": "@jupyter-widgets/base",
     "model_module_version": "1.2.0",
     "model_name": "LayoutModel",
     "state": {
      "_model_module": "@jupyter-widgets/base",
      "_model_module_version": "1.2.0",
      "_model_name": "LayoutModel",
      "_view_count": null,
      "_view_module": "@jupyter-widgets/base",
      "_view_module_version": "1.2.0",
      "_view_name": "LayoutView",
      "align_content": null,
      "align_items": null,
      "align_self": null,
      "border": null,
      "bottom": null,
      "display": null,
      "flex": null,
      "flex_flow": null,
      "grid_area": null,
      "grid_auto_columns": null,
      "grid_auto_flow": null,
      "grid_auto_rows": null,
      "grid_column": null,
      "grid_gap": null,
      "grid_row": null,
      "grid_template_areas": null,
      "grid_template_columns": null,
      "grid_template_rows": null,
      "height": null,
      "justify_content": null,
      "justify_items": null,
      "left": null,
      "margin": null,
      "max_height": null,
      "max_width": null,
      "min_height": null,
      "min_width": null,
      "object_fit": null,
      "object_position": null,
      "order": null,
      "overflow": null,
      "overflow_x": null,
      "overflow_y": null,
      "padding": null,
      "right": null,
      "top": null,
      "visibility": null,
      "width": null
     }
    },
    "18cf9f67b48842d2bd72b811f2651684": {
     "model_module": "@jupyter-widgets/controls",
     "model_module_version": "1.5.0",
     "model_name": "HTMLModel",
     "state": {
      "_dom_classes": [],
      "_model_module": "@jupyter-widgets/controls",
      "_model_module_version": "1.5.0",
      "_model_name": "HTMLModel",
      "_view_count": null,
      "_view_module": "@jupyter-widgets/controls",
      "_view_module_version": "1.5.0",
      "_view_name": "HTMLView",
      "description": "",
      "description_tooltip": null,
      "layout": "IPY_MODEL_1282540cff6d44c6be80b499f7d5ccf4",
      "placeholder": "​",
      "style": "IPY_MODEL_872f42de5e7f4a95977ff765549b880c",
      "value": "Downloading (…)okenizer_config.json: 100%"
     }
    },
    "2bcfa01d23e6412e8ee49f77712f3e97": {
     "model_module": "@jupyter-widgets/controls",
     "model_module_version": "1.5.0",
     "model_name": "DescriptionStyleModel",
     "state": {
      "_model_module": "@jupyter-widgets/controls",
      "_model_module_version": "1.5.0",
      "_model_name": "DescriptionStyleModel",
      "_view_count": null,
      "_view_module": "@jupyter-widgets/base",
      "_view_module_version": "1.2.0",
      "_view_name": "StyleView",
      "description_width": ""
     }
    },
    "31d23d60f08c4c4c935974ee54e873b5": {
     "model_module": "@jupyter-widgets/controls",
     "model_module_version": "1.5.0",
     "model_name": "HTMLModel",
     "state": {
      "_dom_classes": [],
      "_model_module": "@jupyter-widgets/controls",
      "_model_module_version": "1.5.0",
      "_model_name": "HTMLModel",
      "_view_count": null,
      "_view_module": "@jupyter-widgets/controls",
      "_view_module_version": "1.5.0",
      "_view_name": "HTMLView",
      "description": "",
      "description_tooltip": null,
      "layout": "IPY_MODEL_4302a684bfa5480fb6ed65b8ff7defdf",
      "placeholder": "​",
      "style": "IPY_MODEL_7afbfbbd42984b7f9714204681cff2f4",
      "value": " 28.0/28.0 [00:00&lt;00:00, 493B/s]"
     }
    },
    "35dc91fe04a54d6383a89605edf531cf": {
     "model_module": "@jupyter-widgets/base",
     "model_module_version": "1.2.0",
     "model_name": "LayoutModel",
     "state": {
      "_model_module": "@jupyter-widgets/base",
      "_model_module_version": "1.2.0",
      "_model_name": "LayoutModel",
      "_view_count": null,
      "_view_module": "@jupyter-widgets/base",
      "_view_module_version": "1.2.0",
      "_view_name": "LayoutView",
      "align_content": null,
      "align_items": null,
      "align_self": null,
      "border": null,
      "bottom": null,
      "display": null,
      "flex": null,
      "flex_flow": null,
      "grid_area": null,
      "grid_auto_columns": null,
      "grid_auto_flow": null,
      "grid_auto_rows": null,
      "grid_column": null,
      "grid_gap": null,
      "grid_row": null,
      "grid_template_areas": null,
      "grid_template_columns": null,
      "grid_template_rows": null,
      "height": null,
      "justify_content": null,
      "justify_items": null,
      "left": null,
      "margin": null,
      "max_height": null,
      "max_width": null,
      "min_height": null,
      "min_width": null,
      "object_fit": null,
      "object_position": null,
      "order": null,
      "overflow": null,
      "overflow_x": null,
      "overflow_y": null,
      "padding": null,
      "right": null,
      "top": null,
      "visibility": null,
      "width": null
     }
    },
    "3b846d4dcdea43fa8202096483716d8f": {
     "model_module": "@jupyter-widgets/controls",
     "model_module_version": "1.5.0",
     "model_name": "ProgressStyleModel",
     "state": {
      "_model_module": "@jupyter-widgets/controls",
      "_model_module_version": "1.5.0",
      "_model_name": "ProgressStyleModel",
      "_view_count": null,
      "_view_module": "@jupyter-widgets/base",
      "_view_module_version": "1.2.0",
      "_view_name": "StyleView",
      "bar_color": null,
      "description_width": ""
     }
    },
    "41d082e6cded4967991b1cdd1d464e3c": {
     "model_module": "@jupyter-widgets/base",
     "model_module_version": "1.2.0",
     "model_name": "LayoutModel",
     "state": {
      "_model_module": "@jupyter-widgets/base",
      "_model_module_version": "1.2.0",
      "_model_name": "LayoutModel",
      "_view_count": null,
      "_view_module": "@jupyter-widgets/base",
      "_view_module_version": "1.2.0",
      "_view_name": "LayoutView",
      "align_content": null,
      "align_items": null,
      "align_self": null,
      "border": null,
      "bottom": null,
      "display": null,
      "flex": null,
      "flex_flow": null,
      "grid_area": null,
      "grid_auto_columns": null,
      "grid_auto_flow": null,
      "grid_auto_rows": null,
      "grid_column": null,
      "grid_gap": null,
      "grid_row": null,
      "grid_template_areas": null,
      "grid_template_columns": null,
      "grid_template_rows": null,
      "height": null,
      "justify_content": null,
      "justify_items": null,
      "left": null,
      "margin": null,
      "max_height": null,
      "max_width": null,
      "min_height": null,
      "min_width": null,
      "object_fit": null,
      "object_position": null,
      "order": null,
      "overflow": null,
      "overflow_x": null,
      "overflow_y": null,
      "padding": null,
      "right": null,
      "top": null,
      "visibility": null,
      "width": null
     }
    },
    "4302a684bfa5480fb6ed65b8ff7defdf": {
     "model_module": "@jupyter-widgets/base",
     "model_module_version": "1.2.0",
     "model_name": "LayoutModel",
     "state": {
      "_model_module": "@jupyter-widgets/base",
      "_model_module_version": "1.2.0",
      "_model_name": "LayoutModel",
      "_view_count": null,
      "_view_module": "@jupyter-widgets/base",
      "_view_module_version": "1.2.0",
      "_view_name": "LayoutView",
      "align_content": null,
      "align_items": null,
      "align_self": null,
      "border": null,
      "bottom": null,
      "display": null,
      "flex": null,
      "flex_flow": null,
      "grid_area": null,
      "grid_auto_columns": null,
      "grid_auto_flow": null,
      "grid_auto_rows": null,
      "grid_column": null,
      "grid_gap": null,
      "grid_row": null,
      "grid_template_areas": null,
      "grid_template_columns": null,
      "grid_template_rows": null,
      "height": null,
      "justify_content": null,
      "justify_items": null,
      "left": null,
      "margin": null,
      "max_height": null,
      "max_width": null,
      "min_height": null,
      "min_width": null,
      "object_fit": null,
      "object_position": null,
      "order": null,
      "overflow": null,
      "overflow_x": null,
      "overflow_y": null,
      "padding": null,
      "right": null,
      "top": null,
      "visibility": null,
      "width": null
     }
    },
    "5579b4bb31a0427f8ffdc3a265507f02": {
     "model_module": "@jupyter-widgets/controls",
     "model_module_version": "1.5.0",
     "model_name": "HBoxModel",
     "state": {
      "_dom_classes": [],
      "_model_module": "@jupyter-widgets/controls",
      "_model_module_version": "1.5.0",
      "_model_name": "HBoxModel",
      "_view_count": null,
      "_view_module": "@jupyter-widgets/controls",
      "_view_module_version": "1.5.0",
      "_view_name": "HBoxView",
      "box_style": "",
      "children": [
       "IPY_MODEL_18cf9f67b48842d2bd72b811f2651684",
       "IPY_MODEL_ea5d58b4762d451dbcc9bff33ae9f449",
       "IPY_MODEL_31d23d60f08c4c4c935974ee54e873b5"
      ],
      "layout": "IPY_MODEL_6940ca88af6b4cb6b6e2b1f24704a4c2"
     }
    },
    "58efa7eac3d743adba48032af4cb532c": {
     "model_module": "@jupyter-widgets/controls",
     "model_module_version": "1.5.0",
     "model_name": "HBoxModel",
     "state": {
      "_dom_classes": [],
      "_model_module": "@jupyter-widgets/controls",
      "_model_module_version": "1.5.0",
      "_model_name": "HBoxModel",
      "_view_count": null,
      "_view_module": "@jupyter-widgets/controls",
      "_view_module_version": "1.5.0",
      "_view_name": "HBoxView",
      "box_style": "",
      "children": [
       "IPY_MODEL_7ea0975f3d0a4418b3eb1a2a96a5f2b8",
       "IPY_MODEL_6f3a0f51be2d44069f978b97ef468a94",
       "IPY_MODEL_c76636bb0c504eea9217a0f4226d8cce"
      ],
      "layout": "IPY_MODEL_ed77bb55f7674f799d934e0ed45698b6"
     }
    },
    "6940ca88af6b4cb6b6e2b1f24704a4c2": {
     "model_module": "@jupyter-widgets/base",
     "model_module_version": "1.2.0",
     "model_name": "LayoutModel",
     "state": {
      "_model_module": "@jupyter-widgets/base",
      "_model_module_version": "1.2.0",
      "_model_name": "LayoutModel",
      "_view_count": null,
      "_view_module": "@jupyter-widgets/base",
      "_view_module_version": "1.2.0",
      "_view_name": "LayoutView",
      "align_content": null,
      "align_items": null,
      "align_self": null,
      "border": null,
      "bottom": null,
      "display": null,
      "flex": null,
      "flex_flow": null,
      "grid_area": null,
      "grid_auto_columns": null,
      "grid_auto_flow": null,
      "grid_auto_rows": null,
      "grid_column": null,
      "grid_gap": null,
      "grid_row": null,
      "grid_template_areas": null,
      "grid_template_columns": null,
      "grid_template_rows": null,
      "height": null,
      "justify_content": null,
      "justify_items": null,
      "left": null,
      "margin": null,
      "max_height": null,
      "max_width": null,
      "min_height": null,
      "min_width": null,
      "object_fit": null,
      "object_position": null,
      "order": null,
      "overflow": null,
      "overflow_x": null,
      "overflow_y": null,
      "padding": null,
      "right": null,
      "top": null,
      "visibility": null,
      "width": null
     }
    },
    "6f3a0f51be2d44069f978b97ef468a94": {
     "model_module": "@jupyter-widgets/controls",
     "model_module_version": "1.5.0",
     "model_name": "FloatProgressModel",
     "state": {
      "_dom_classes": [],
      "_model_module": "@jupyter-widgets/controls",
      "_model_module_version": "1.5.0",
      "_model_name": "FloatProgressModel",
      "_view_count": null,
      "_view_module": "@jupyter-widgets/controls",
      "_view_module_version": "1.5.0",
      "_view_name": "ProgressView",
      "bar_style": "success",
      "description": "",
      "description_tooltip": null,
      "layout": "IPY_MODEL_d062bf23f14b40778e2783a1a7aede81",
      "max": 231508,
      "min": 0,
      "orientation": "horizontal",
      "style": "IPY_MODEL_c4209254097c4f6bb0cf3ee7df917afc",
      "value": 231508
     }
    },
    "7afbfbbd42984b7f9714204681cff2f4": {
     "model_module": "@jupyter-widgets/controls",
     "model_module_version": "1.5.0",
     "model_name": "DescriptionStyleModel",
     "state": {
      "_model_module": "@jupyter-widgets/controls",
      "_model_module_version": "1.5.0",
      "_model_name": "DescriptionStyleModel",
      "_view_count": null,
      "_view_module": "@jupyter-widgets/base",
      "_view_module_version": "1.2.0",
      "_view_name": "StyleView",
      "description_width": ""
     }
    },
    "7ea0975f3d0a4418b3eb1a2a96a5f2b8": {
     "model_module": "@jupyter-widgets/controls",
     "model_module_version": "1.5.0",
     "model_name": "HTMLModel",
     "state": {
      "_dom_classes": [],
      "_model_module": "@jupyter-widgets/controls",
      "_model_module_version": "1.5.0",
      "_model_name": "HTMLModel",
      "_view_count": null,
      "_view_module": "@jupyter-widgets/controls",
      "_view_module_version": "1.5.0",
      "_view_name": "HTMLView",
      "description": "",
      "description_tooltip": null,
      "layout": "IPY_MODEL_9956ac8a6ae740948dfd9004197fdda6",
      "placeholder": "​",
      "style": "IPY_MODEL_2bcfa01d23e6412e8ee49f77712f3e97",
      "value": "Downloading (…)solve/main/vocab.txt: 100%"
     }
    },
    "872f42de5e7f4a95977ff765549b880c": {
     "model_module": "@jupyter-widgets/controls",
     "model_module_version": "1.5.0",
     "model_name": "DescriptionStyleModel",
     "state": {
      "_model_module": "@jupyter-widgets/controls",
      "_model_module_version": "1.5.0",
      "_model_name": "DescriptionStyleModel",
      "_view_count": null,
      "_view_module": "@jupyter-widgets/base",
      "_view_module_version": "1.2.0",
      "_view_name": "StyleView",
      "description_width": ""
     }
    },
    "8ea3808e435b451695c5222087ca91af": {
     "model_module": "@jupyter-widgets/controls",
     "model_module_version": "1.5.0",
     "model_name": "DescriptionStyleModel",
     "state": {
      "_model_module": "@jupyter-widgets/controls",
      "_model_module_version": "1.5.0",
      "_model_name": "DescriptionStyleModel",
      "_view_count": null,
      "_view_module": "@jupyter-widgets/base",
      "_view_module_version": "1.2.0",
      "_view_name": "StyleView",
      "description_width": ""
     }
    },
    "9956ac8a6ae740948dfd9004197fdda6": {
     "model_module": "@jupyter-widgets/base",
     "model_module_version": "1.2.0",
     "model_name": "LayoutModel",
     "state": {
      "_model_module": "@jupyter-widgets/base",
      "_model_module_version": "1.2.0",
      "_model_name": "LayoutModel",
      "_view_count": null,
      "_view_module": "@jupyter-widgets/base",
      "_view_module_version": "1.2.0",
      "_view_name": "LayoutView",
      "align_content": null,
      "align_items": null,
      "align_self": null,
      "border": null,
      "bottom": null,
      "display": null,
      "flex": null,
      "flex_flow": null,
      "grid_area": null,
      "grid_auto_columns": null,
      "grid_auto_flow": null,
      "grid_auto_rows": null,
      "grid_column": null,
      "grid_gap": null,
      "grid_row": null,
      "grid_template_areas": null,
      "grid_template_columns": null,
      "grid_template_rows": null,
      "height": null,
      "justify_content": null,
      "justify_items": null,
      "left": null,
      "margin": null,
      "max_height": null,
      "max_width": null,
      "min_height": null,
      "min_width": null,
      "object_fit": null,
      "object_position": null,
      "order": null,
      "overflow": null,
      "overflow_x": null,
      "overflow_y": null,
      "padding": null,
      "right": null,
      "top": null,
      "visibility": null,
      "width": null
     }
    },
    "9d957621c96c42a7a3706c3bd1292f1d": {
     "model_module": "@jupyter-widgets/controls",
     "model_module_version": "1.5.0",
     "model_name": "HBoxModel",
     "state": {
      "_dom_classes": [],
      "_model_module": "@jupyter-widgets/controls",
      "_model_module_version": "1.5.0",
      "_model_name": "HBoxModel",
      "_view_count": null,
      "_view_module": "@jupyter-widgets/controls",
      "_view_module_version": "1.5.0",
      "_view_name": "HBoxView",
      "box_style": "",
      "children": [
       "IPY_MODEL_f31ba76fc2644affb257b33ebec85c58",
       "IPY_MODEL_d8f60eed41bc48fda7d00662455543c5",
       "IPY_MODEL_cebd69917a4742d7b11b24fb96d95045"
      ],
      "layout": "IPY_MODEL_f2e54a3d95984e8586ba23563d654052"
     }
    },
    "ba41c77f23a34be598bc6e7282640930": {
     "model_module": "@jupyter-widgets/base",
     "model_module_version": "1.2.0",
     "model_name": "LayoutModel",
     "state": {
      "_model_module": "@jupyter-widgets/base",
      "_model_module_version": "1.2.0",
      "_model_name": "LayoutModel",
      "_view_count": null,
      "_view_module": "@jupyter-widgets/base",
      "_view_module_version": "1.2.0",
      "_view_name": "LayoutView",
      "align_content": null,
      "align_items": null,
      "align_self": null,
      "border": null,
      "bottom": null,
      "display": null,
      "flex": null,
      "flex_flow": null,
      "grid_area": null,
      "grid_auto_columns": null,
      "grid_auto_flow": null,
      "grid_auto_rows": null,
      "grid_column": null,
      "grid_gap": null,
      "grid_row": null,
      "grid_template_areas": null,
      "grid_template_columns": null,
      "grid_template_rows": null,
      "height": null,
      "justify_content": null,
      "justify_items": null,
      "left": null,
      "margin": null,
      "max_height": null,
      "max_width": null,
      "min_height": null,
      "min_width": null,
      "object_fit": null,
      "object_position": null,
      "order": null,
      "overflow": null,
      "overflow_x": null,
      "overflow_y": null,
      "padding": null,
      "right": null,
      "top": null,
      "visibility": null,
      "width": null
     }
    },
    "c4209254097c4f6bb0cf3ee7df917afc": {
     "model_module": "@jupyter-widgets/controls",
     "model_module_version": "1.5.0",
     "model_name": "ProgressStyleModel",
     "state": {
      "_model_module": "@jupyter-widgets/controls",
      "_model_module_version": "1.5.0",
      "_model_name": "ProgressStyleModel",
      "_view_count": null,
      "_view_module": "@jupyter-widgets/base",
      "_view_module_version": "1.2.0",
      "_view_name": "StyleView",
      "bar_color": null,
      "description_width": ""
     }
    },
    "c76636bb0c504eea9217a0f4226d8cce": {
     "model_module": "@jupyter-widgets/controls",
     "model_module_version": "1.5.0",
     "model_name": "HTMLModel",
     "state": {
      "_dom_classes": [],
      "_model_module": "@jupyter-widgets/controls",
      "_model_module_version": "1.5.0",
      "_model_name": "HTMLModel",
      "_view_count": null,
      "_view_module": "@jupyter-widgets/controls",
      "_view_module_version": "1.5.0",
      "_view_name": "HTMLView",
      "description": "",
      "description_tooltip": null,
      "layout": "IPY_MODEL_ba41c77f23a34be598bc6e7282640930",
      "placeholder": "​",
      "style": "IPY_MODEL_de7ab6b5e1e346dc8378d8dd9941ad35",
      "value": " 232k/232k [00:00&lt;00:00, 2.12MB/s]"
     }
    },
    "cebd69917a4742d7b11b24fb96d95045": {
     "model_module": "@jupyter-widgets/controls",
     "model_module_version": "1.5.0",
     "model_name": "HTMLModel",
     "state": {
      "_dom_classes": [],
      "_model_module": "@jupyter-widgets/controls",
      "_model_module_version": "1.5.0",
      "_model_name": "HTMLModel",
      "_view_count": null,
      "_view_module": "@jupyter-widgets/controls",
      "_view_module_version": "1.5.0",
      "_view_name": "HTMLView",
      "description": "",
      "description_tooltip": null,
      "layout": "IPY_MODEL_e6c4c9c28e124f5aa21ce47585764e8e",
      "placeholder": "​",
      "style": "IPY_MODEL_dc50a93c76ef455496f45049762bfc45",
      "value": " 483/483 [00:00&lt;00:00, 10.7kB/s]"
     }
    },
    "ced78766c6cc49888f1a5452c78b7542": {
     "model_module": "@jupyter-widgets/controls",
     "model_module_version": "1.5.0",
     "model_name": "ProgressStyleModel",
     "state": {
      "_model_module": "@jupyter-widgets/controls",
      "_model_module_version": "1.5.0",
      "_model_name": "ProgressStyleModel",
      "_view_count": null,
      "_view_module": "@jupyter-widgets/base",
      "_view_module_version": "1.2.0",
      "_view_name": "StyleView",
      "bar_color": null,
      "description_width": ""
     }
    },
    "d062bf23f14b40778e2783a1a7aede81": {
     "model_module": "@jupyter-widgets/base",
     "model_module_version": "1.2.0",
     "model_name": "LayoutModel",
     "state": {
      "_model_module": "@jupyter-widgets/base",
      "_model_module_version": "1.2.0",
      "_model_name": "LayoutModel",
      "_view_count": null,
      "_view_module": "@jupyter-widgets/base",
      "_view_module_version": "1.2.0",
      "_view_name": "LayoutView",
      "align_content": null,
      "align_items": null,
      "align_self": null,
      "border": null,
      "bottom": null,
      "display": null,
      "flex": null,
      "flex_flow": null,
      "grid_area": null,
      "grid_auto_columns": null,
      "grid_auto_flow": null,
      "grid_auto_rows": null,
      "grid_column": null,
      "grid_gap": null,
      "grid_row": null,
      "grid_template_areas": null,
      "grid_template_columns": null,
      "grid_template_rows": null,
      "height": null,
      "justify_content": null,
      "justify_items": null,
      "left": null,
      "margin": null,
      "max_height": null,
      "max_width": null,
      "min_height": null,
      "min_width": null,
      "object_fit": null,
      "object_position": null,
      "order": null,
      "overflow": null,
      "overflow_x": null,
      "overflow_y": null,
      "padding": null,
      "right": null,
      "top": null,
      "visibility": null,
      "width": null
     }
    },
    "d53761f0f0a145348f2865994212e9e7": {
     "model_module": "@jupyter-widgets/base",
     "model_module_version": "1.2.0",
     "model_name": "LayoutModel",
     "state": {
      "_model_module": "@jupyter-widgets/base",
      "_model_module_version": "1.2.0",
      "_model_name": "LayoutModel",
      "_view_count": null,
      "_view_module": "@jupyter-widgets/base",
      "_view_module_version": "1.2.0",
      "_view_name": "LayoutView",
      "align_content": null,
      "align_items": null,
      "align_self": null,
      "border": null,
      "bottom": null,
      "display": null,
      "flex": null,
      "flex_flow": null,
      "grid_area": null,
      "grid_auto_columns": null,
      "grid_auto_flow": null,
      "grid_auto_rows": null,
      "grid_column": null,
      "grid_gap": null,
      "grid_row": null,
      "grid_template_areas": null,
      "grid_template_columns": null,
      "grid_template_rows": null,
      "height": null,
      "justify_content": null,
      "justify_items": null,
      "left": null,
      "margin": null,
      "max_height": null,
      "max_width": null,
      "min_height": null,
      "min_width": null,
      "object_fit": null,
      "object_position": null,
      "order": null,
      "overflow": null,
      "overflow_x": null,
      "overflow_y": null,
      "padding": null,
      "right": null,
      "top": null,
      "visibility": null,
      "width": null
     }
    },
    "d8f60eed41bc48fda7d00662455543c5": {
     "model_module": "@jupyter-widgets/controls",
     "model_module_version": "1.5.0",
     "model_name": "FloatProgressModel",
     "state": {
      "_dom_classes": [],
      "_model_module": "@jupyter-widgets/controls",
      "_model_module_version": "1.5.0",
      "_model_name": "FloatProgressModel",
      "_view_count": null,
      "_view_module": "@jupyter-widgets/controls",
      "_view_module_version": "1.5.0",
      "_view_name": "ProgressView",
      "bar_style": "success",
      "description": "",
      "description_tooltip": null,
      "layout": "IPY_MODEL_d53761f0f0a145348f2865994212e9e7",
      "max": 483,
      "min": 0,
      "orientation": "horizontal",
      "style": "IPY_MODEL_3b846d4dcdea43fa8202096483716d8f",
      "value": 483
     }
    },
    "dc50a93c76ef455496f45049762bfc45": {
     "model_module": "@jupyter-widgets/controls",
     "model_module_version": "1.5.0",
     "model_name": "DescriptionStyleModel",
     "state": {
      "_model_module": "@jupyter-widgets/controls",
      "_model_module_version": "1.5.0",
      "_model_name": "DescriptionStyleModel",
      "_view_count": null,
      "_view_module": "@jupyter-widgets/base",
      "_view_module_version": "1.2.0",
      "_view_name": "StyleView",
      "description_width": ""
     }
    },
    "de7ab6b5e1e346dc8378d8dd9941ad35": {
     "model_module": "@jupyter-widgets/controls",
     "model_module_version": "1.5.0",
     "model_name": "DescriptionStyleModel",
     "state": {
      "_model_module": "@jupyter-widgets/controls",
      "_model_module_version": "1.5.0",
      "_model_name": "DescriptionStyleModel",
      "_view_count": null,
      "_view_module": "@jupyter-widgets/base",
      "_view_module_version": "1.2.0",
      "_view_name": "StyleView",
      "description_width": ""
     }
    },
    "e6c4c9c28e124f5aa21ce47585764e8e": {
     "model_module": "@jupyter-widgets/base",
     "model_module_version": "1.2.0",
     "model_name": "LayoutModel",
     "state": {
      "_model_module": "@jupyter-widgets/base",
      "_model_module_version": "1.2.0",
      "_model_name": "LayoutModel",
      "_view_count": null,
      "_view_module": "@jupyter-widgets/base",
      "_view_module_version": "1.2.0",
      "_view_name": "LayoutView",
      "align_content": null,
      "align_items": null,
      "align_self": null,
      "border": null,
      "bottom": null,
      "display": null,
      "flex": null,
      "flex_flow": null,
      "grid_area": null,
      "grid_auto_columns": null,
      "grid_auto_flow": null,
      "grid_auto_rows": null,
      "grid_column": null,
      "grid_gap": null,
      "grid_row": null,
      "grid_template_areas": null,
      "grid_template_columns": null,
      "grid_template_rows": null,
      "height": null,
      "justify_content": null,
      "justify_items": null,
      "left": null,
      "margin": null,
      "max_height": null,
      "max_width": null,
      "min_height": null,
      "min_width": null,
      "object_fit": null,
      "object_position": null,
      "order": null,
      "overflow": null,
      "overflow_x": null,
      "overflow_y": null,
      "padding": null,
      "right": null,
      "top": null,
      "visibility": null,
      "width": null
     }
    },
    "ea5d58b4762d451dbcc9bff33ae9f449": {
     "model_module": "@jupyter-widgets/controls",
     "model_module_version": "1.5.0",
     "model_name": "FloatProgressModel",
     "state": {
      "_dom_classes": [],
      "_model_module": "@jupyter-widgets/controls",
      "_model_module_version": "1.5.0",
      "_model_name": "FloatProgressModel",
      "_view_count": null,
      "_view_module": "@jupyter-widgets/controls",
      "_view_module_version": "1.5.0",
      "_view_name": "ProgressView",
      "bar_style": "success",
      "description": "",
      "description_tooltip": null,
      "layout": "IPY_MODEL_35dc91fe04a54d6383a89605edf531cf",
      "max": 28,
      "min": 0,
      "orientation": "horizontal",
      "style": "IPY_MODEL_ced78766c6cc49888f1a5452c78b7542",
      "value": 28
     }
    },
    "ed77bb55f7674f799d934e0ed45698b6": {
     "model_module": "@jupyter-widgets/base",
     "model_module_version": "1.2.0",
     "model_name": "LayoutModel",
     "state": {
      "_model_module": "@jupyter-widgets/base",
      "_model_module_version": "1.2.0",
      "_model_name": "LayoutModel",
      "_view_count": null,
      "_view_module": "@jupyter-widgets/base",
      "_view_module_version": "1.2.0",
      "_view_name": "LayoutView",
      "align_content": null,
      "align_items": null,
      "align_self": null,
      "border": null,
      "bottom": null,
      "display": null,
      "flex": null,
      "flex_flow": null,
      "grid_area": null,
      "grid_auto_columns": null,
      "grid_auto_flow": null,
      "grid_auto_rows": null,
      "grid_column": null,
      "grid_gap": null,
      "grid_row": null,
      "grid_template_areas": null,
      "grid_template_columns": null,
      "grid_template_rows": null,
      "height": null,
      "justify_content": null,
      "justify_items": null,
      "left": null,
      "margin": null,
      "max_height": null,
      "max_width": null,
      "min_height": null,
      "min_width": null,
      "object_fit": null,
      "object_position": null,
      "order": null,
      "overflow": null,
      "overflow_x": null,
      "overflow_y": null,
      "padding": null,
      "right": null,
      "top": null,
      "visibility": null,
      "width": null
     }
    },
    "f2e54a3d95984e8586ba23563d654052": {
     "model_module": "@jupyter-widgets/base",
     "model_module_version": "1.2.0",
     "model_name": "LayoutModel",
     "state": {
      "_model_module": "@jupyter-widgets/base",
      "_model_module_version": "1.2.0",
      "_model_name": "LayoutModel",
      "_view_count": null,
      "_view_module": "@jupyter-widgets/base",
      "_view_module_version": "1.2.0",
      "_view_name": "LayoutView",
      "align_content": null,
      "align_items": null,
      "align_self": null,
      "border": null,
      "bottom": null,
      "display": null,
      "flex": null,
      "flex_flow": null,
      "grid_area": null,
      "grid_auto_columns": null,
      "grid_auto_flow": null,
      "grid_auto_rows": null,
      "grid_column": null,
      "grid_gap": null,
      "grid_row": null,
      "grid_template_areas": null,
      "grid_template_columns": null,
      "grid_template_rows": null,
      "height": null,
      "justify_content": null,
      "justify_items": null,
      "left": null,
      "margin": null,
      "max_height": null,
      "max_width": null,
      "min_height": null,
      "min_width": null,
      "object_fit": null,
      "object_position": null,
      "order": null,
      "overflow": null,
      "overflow_x": null,
      "overflow_y": null,
      "padding": null,
      "right": null,
      "top": null,
      "visibility": null,
      "width": null
     }
    },
    "f31ba76fc2644affb257b33ebec85c58": {
     "model_module": "@jupyter-widgets/controls",
     "model_module_version": "1.5.0",
     "model_name": "HTMLModel",
     "state": {
      "_dom_classes": [],
      "_model_module": "@jupyter-widgets/controls",
      "_model_module_version": "1.5.0",
      "_model_name": "HTMLModel",
      "_view_count": null,
      "_view_module": "@jupyter-widgets/controls",
      "_view_module_version": "1.5.0",
      "_view_name": "HTMLView",
      "description": "",
      "description_tooltip": null,
      "layout": "IPY_MODEL_41d082e6cded4967991b1cdd1d464e3c",
      "placeholder": "​",
      "style": "IPY_MODEL_8ea3808e435b451695c5222087ca91af",
      "value": "Downloading (…)lve/main/config.json: 100%"
     }
    }
   }
  }
 },
 "nbformat": 4,
 "nbformat_minor": 5
}
