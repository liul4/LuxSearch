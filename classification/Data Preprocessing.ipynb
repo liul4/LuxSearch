{
 "cells": [
  {
   "cell_type": "markdown",
   "id": "ce99496e",
   "metadata": {},
   "source": [
    "## Data Preprocessing"
   ]
  },
  {
   "cell_type": "markdown",
   "id": "3f3fff6a",
   "metadata": {},
   "source": [
    "### Import libraries"
   ]
  },
  {
   "cell_type": "code",
   "execution_count": 1,
   "id": "dc0b2677",
   "metadata": {},
   "outputs": [
    {
     "name": "stderr",
     "output_type": "stream",
     "text": [
      "[nltk_data] Downloading package punkt to\n",
      "[nltk_data]     C:\\Users\\titus\\AppData\\Roaming\\nltk_data...\n",
      "[nltk_data]   Package punkt is already up-to-date!\n",
      "[nltk_data] Downloading package stopwords to\n",
      "[nltk_data]     C:\\Users\\titus\\AppData\\Roaming\\nltk_data...\n",
      "[nltk_data]   Package stopwords is already up-to-date!\n"
     ]
    },
    {
     "data": {
      "text/plain": [
       "True"
      ]
     },
     "execution_count": 1,
     "metadata": {},
     "output_type": "execute_result"
    }
   ],
   "source": [
    "import pandas as pd\n",
    "import numpy as np\n",
    "import seaborn as sns\n",
    "import matplotlib.pyplot as plt\n",
    "from nltk.tokenize import sent_tokenize, word_tokenize\n",
    "from nltk.corpus import stopwords\n",
    "import nltk \n",
    "import string\n",
    "\n",
    "nltk.download('punkt')\n",
    "nltk.download('stopwords')"
   ]
  },
  {
   "cell_type": "markdown",
   "id": "175edb15",
   "metadata": {},
   "source": [
    "### Import Dataset"
   ]
  },
  {
   "cell_type": "code",
   "execution_count": 2,
   "id": "c4fd6774",
   "metadata": {},
   "outputs": [],
   "source": [
    "tweets_df = pd.read_csv('data\\\\tweets.csv',index_col = False)\n",
    "reddit_df = pd.read_excel('data\\\\PushShiftAPI.xlsx',index_col = False)"
   ]
  },
  {
   "cell_type": "code",
   "execution_count": 4,
   "id": "8da87869",
   "metadata": {},
   "outputs": [
    {
     "data": {
      "text/plain": [
       "'@__TiffanyAndCo Cousinnnn the return coming soon! ❤️'"
      ]
     },
     "execution_count": 4,
     "metadata": {},
     "output_type": "execute_result"
    }
   ],
   "source": [
    "tweets_df.head()"
   ]
  },
  {
   "cell_type": "code",
   "execution_count": 7,
   "id": "336c5418",
   "metadata": {},
   "outputs": [
    {
     "data": {
      "text/html": [
       "<div>\n",
       "<style scoped>\n",
       "    .dataframe tbody tr th:only-of-type {\n",
       "        vertical-align: middle;\n",
       "    }\n",
       "\n",
       "    .dataframe tbody tr th {\n",
       "        vertical-align: top;\n",
       "    }\n",
       "\n",
       "    .dataframe thead th {\n",
       "        text-align: right;\n",
       "    }\n",
       "</style>\n",
       "<table border=\"1\" class=\"dataframe\">\n",
       "  <thead>\n",
       "    <tr style=\"text-align: right;\">\n",
       "      <th></th>\n",
       "      <th>Date</th>\n",
       "      <th>Subreddit</th>\n",
       "      <th>Title</th>\n",
       "      <th>Post Text</th>\n",
       "      <th>Author</th>\n",
       "      <th>Upvotes</th>\n",
       "      <th>CommentsCount</th>\n",
       "      <th>URL</th>\n",
       "      <th>Data</th>\n",
       "    </tr>\n",
       "  </thead>\n",
       "  <tbody>\n",
       "    <tr>\n",
       "      <th>0</th>\n",
       "      <td>2022-11-04 17:57:33</td>\n",
       "      <td>1688Reps</td>\n",
       "      <td>QC on the 225 yuan Balenciaga Authentic jersey...</td>\n",
       "      <td>NaN</td>\n",
       "      <td>Paintballmania124</td>\n",
       "      <td>1</td>\n",
       "      <td>0</td>\n",
       "      <td>https://www.reddit.com//r/1688Reps/comments/ym...</td>\n",
       "      <td>nan QC on the 225 yuan Balenciaga Authentic je...</td>\n",
       "    </tr>\n",
       "    <tr>\n",
       "      <th>1</th>\n",
       "      <td>2022-11-04 17:20:55</td>\n",
       "      <td>FashionReps</td>\n",
       "      <td>Balenciaga Track Clear Sole CSJ [Good batch]</td>\n",
       "      <td>[removed]</td>\n",
       "      <td>MakeTheCut_fjp</td>\n",
       "      <td>1</td>\n",
       "      <td>0</td>\n",
       "      <td>https://www.reddit.com//r/FashionReps/comments...</td>\n",
       "      <td>[removed] Balenciaga Track Clear Sole CSJ [Goo...</td>\n",
       "    </tr>\n",
       "    <tr>\n",
       "      <th>2</th>\n",
       "      <td>2022-11-04 17:20:16</td>\n",
       "      <td>QualityReps</td>\n",
       "      <td>About BALENCIAGA CROSS BOOTS - WWTOP</td>\n",
       "      <td>NaN</td>\n",
       "      <td>Competitive-Guide651</td>\n",
       "      <td>1</td>\n",
       "      <td>0</td>\n",
       "      <td>https://www.reddit.com//r/QualityReps/comments...</td>\n",
       "      <td>nan About BALENCIAGA CROSS BOOTS - WWTOP</td>\n",
       "    </tr>\n",
       "    <tr>\n",
       "      <th>3</th>\n",
       "      <td>2022-11-04 17:16:13</td>\n",
       "      <td>QualityReps</td>\n",
       "      <td>About BALENCIAGA CROSS boots - WWTOP</td>\n",
       "      <td>NaN</td>\n",
       "      <td>Competitive-Guide651</td>\n",
       "      <td>1</td>\n",
       "      <td>0</td>\n",
       "      <td>https://www.reddit.com//r/QualityReps/comments...</td>\n",
       "      <td>nan About BALENCIAGA CROSS boots - WWTOP</td>\n",
       "    </tr>\n",
       "    <tr>\n",
       "      <th>4</th>\n",
       "      <td>2022-11-04 17:06:50</td>\n",
       "      <td>CryptoStock</td>\n",
       "      <td>Balenciaga Announces Bitcoin Payments – The BT...</td>\n",
       "      <td>NaN</td>\n",
       "      <td>asmajda</td>\n",
       "      <td>1</td>\n",
       "      <td>0</td>\n",
       "      <td>https://www.reddit.com//r/CryptoStock/comments...</td>\n",
       "      <td>nan Balenciaga Announces Bitcoin Payments – Th...</td>\n",
       "    </tr>\n",
       "  </tbody>\n",
       "</table>\n",
       "</div>"
      ],
      "text/plain": [
       "                  Date    Subreddit  \\\n",
       "0  2022-11-04 17:57:33     1688Reps   \n",
       "1  2022-11-04 17:20:55  FashionReps   \n",
       "2  2022-11-04 17:20:16  QualityReps   \n",
       "3  2022-11-04 17:16:13  QualityReps   \n",
       "4  2022-11-04 17:06:50  CryptoStock   \n",
       "\n",
       "                                               Title  Post Text  \\\n",
       "0  QC on the 225 yuan Balenciaga Authentic jersey...        NaN   \n",
       "1       Balenciaga Track Clear Sole CSJ [Good batch]  [removed]   \n",
       "2               About BALENCIAGA CROSS BOOTS - WWTOP        NaN   \n",
       "3               About BALENCIAGA CROSS boots - WWTOP        NaN   \n",
       "4  Balenciaga Announces Bitcoin Payments – The BT...        NaN   \n",
       "\n",
       "                 Author  Upvotes  CommentsCount  \\\n",
       "0     Paintballmania124        1              0   \n",
       "1        MakeTheCut_fjp        1              0   \n",
       "2  Competitive-Guide651        1              0   \n",
       "3  Competitive-Guide651        1              0   \n",
       "4               asmajda        1              0   \n",
       "\n",
       "                                                 URL  \\\n",
       "0  https://www.reddit.com//r/1688Reps/comments/ym...   \n",
       "1  https://www.reddit.com//r/FashionReps/comments...   \n",
       "2  https://www.reddit.com//r/QualityReps/comments...   \n",
       "3  https://www.reddit.com//r/QualityReps/comments...   \n",
       "4  https://www.reddit.com//r/CryptoStock/comments...   \n",
       "\n",
       "                                                Data  \n",
       "0  nan QC on the 225 yuan Balenciaga Authentic je...  \n",
       "1  [removed] Balenciaga Track Clear Sole CSJ [Goo...  \n",
       "2           nan About BALENCIAGA CROSS BOOTS - WWTOP  \n",
       "3           nan About BALENCIAGA CROSS boots - WWTOP  \n",
       "4  nan Balenciaga Announces Bitcoin Payments – Th...  "
      ]
     },
     "execution_count": 7,
     "metadata": {},
     "output_type": "execute_result"
    }
   ],
   "source": [
    "reddit_df['Data']=reddit_df['Post Text'].astype(str)+' '+reddit_df['Title']\n",
    "reddit_df.head()"
   ]
  },
  {
   "cell_type": "markdown",
   "id": "0a4471b8",
   "metadata": {},
   "source": [
    "#### Remove URLs"
   ]
  },
  {
   "cell_type": "code",
   "execution_count": 5,
   "id": "47c7af79",
   "metadata": {},
   "outputs": [
    {
     "name": "stderr",
     "output_type": "stream",
     "text": [
      "C:\\Users\\titus\\AppData\\Local\\Temp\\ipykernel_6424\\3407279054.py:1: FutureWarning: The default value of regex will change from True to False in a future version.\n",
      "  tweets_df['Tweet'] = tweets_df['Tweet'].str.replace('http[s]?://(?:[a-zA-Z]|[0-9]|[$-_@.&+]|[!*\\(\\),]|(?:%[0-9a-fA-F][0-9a-fA-F]))+', '')\n"
     ]
    }
   ],
   "source": [
    "tweets_df['Tweet'] = tweets_df['Tweet'].str.replace('http[s]?://(?:[a-zA-Z]|[0-9]|[$-_@.&+]|[!*\\(\\),]|(?:%[0-9a-fA-F][0-9a-fA-F]))+', '')"
   ]
  },
  {
   "cell_type": "code",
   "execution_count": 8,
   "id": "ff02f2e3",
   "metadata": {},
   "outputs": [
    {
     "name": "stderr",
     "output_type": "stream",
     "text": [
      "C:\\Users\\titus\\AppData\\Local\\Temp\\ipykernel_6424\\3483253370.py:1: FutureWarning: The default value of regex will change from True to False in a future version.\n",
      "  reddit_df['Data'] = reddit_df['Data'].str.replace('http[s]?://(?:[a-zA-Z]|[0-9]|[$-_@.&+]|[!*\\(\\),]|(?:%[0-9a-fA-F][0-9a-fA-F]))+', '')\n"
     ]
    }
   ],
   "source": [
    "reddit_df['Data'] = reddit_df['Data'].str.replace('http[s]?://(?:[a-zA-Z]|[0-9]|[$-_@.&+]|[!*\\(\\),]|(?:%[0-9a-fA-F][0-9a-fA-F]))+', '')"
   ]
  },
  {
   "cell_type": "markdown",
   "id": "6347a0b5",
   "metadata": {},
   "source": [
    "#### Remove emails"
   ]
  },
  {
   "cell_type": "code",
   "execution_count": 9,
   "id": "e9058d26",
   "metadata": {},
   "outputs": [
    {
     "name": "stderr",
     "output_type": "stream",
     "text": [
      "C:\\Users\\titus\\AppData\\Local\\Temp\\ipykernel_6424\\1134186376.py:1: FutureWarning: The default value of regex will change from True to False in a future version.\n",
      "  tweets_df['Tweet'] = tweets_df['Tweet'].str.replace(r'[\\w\\.-]+@[\\w\\.-]+', '')\n"
     ]
    }
   ],
   "source": [
    "tweets_df['Tweet'] = tweets_df['Tweet'].str.replace(r'[\\w\\.-]+@[\\w\\.-]+', '')"
   ]
  },
  {
   "cell_type": "code",
   "execution_count": 10,
   "id": "7d3711df",
   "metadata": {},
   "outputs": [
    {
     "name": "stderr",
     "output_type": "stream",
     "text": [
      "C:\\Users\\titus\\AppData\\Local\\Temp\\ipykernel_6424\\935654661.py:1: FutureWarning: The default value of regex will change from True to False in a future version.\n",
      "  reddit_df['Data']= reddit_df['Data'].str.replace(r'[\\w\\.-]+@[\\w\\.-]+', '')\n"
     ]
    }
   ],
   "source": [
    "reddit_df['Data']= reddit_df['Data'].str.replace(r'[\\w\\.-]+@[\\w\\.-]+', '')"
   ]
  },
  {
   "cell_type": "markdown",
   "id": "f5520657",
   "metadata": {},
   "source": [
    "#### Remove punctuations"
   ]
  },
  {
   "cell_type": "code",
   "execution_count": 11,
   "id": "a2f24bd2",
   "metadata": {},
   "outputs": [
    {
     "name": "stderr",
     "output_type": "stream",
     "text": [
      "C:\\Users\\titus\\AppData\\Local\\Temp\\ipykernel_6424\\590015028.py:1: FutureWarning: The default value of regex will change from True to False in a future version.\n",
      "  tweets_df['Tweet'] = tweets_df['Tweet'].str.replace(r'[^\\w\\s]+', '')\n"
     ]
    }
   ],
   "source": [
    "tweets_df['Tweet'] = tweets_df['Tweet'].str.replace(r'[^\\w\\s]+', '')"
   ]
  },
  {
   "cell_type": "code",
   "execution_count": 12,
   "id": "52285fd3",
   "metadata": {},
   "outputs": [
    {
     "name": "stderr",
     "output_type": "stream",
     "text": [
      "C:\\Users\\titus\\AppData\\Local\\Temp\\ipykernel_6424\\2075563278.py:1: FutureWarning: The default value of regex will change from True to False in a future version.\n",
      "  reddit_df['Data'] = reddit_df['Data'].str.replace(r'[^\\w\\s]+', '')\n"
     ]
    }
   ],
   "source": [
    "reddit_df['Data'] = reddit_df['Data'].str.replace(r'[^\\w\\s]+', '')"
   ]
  },
  {
   "cell_type": "markdown",
   "id": "a9985b7b",
   "metadata": {},
   "source": [
    "#### Remove numbers"
   ]
  },
  {
   "cell_type": "code",
   "execution_count": 13,
   "id": "7b42ec6a",
   "metadata": {},
   "outputs": [
    {
     "name": "stderr",
     "output_type": "stream",
     "text": [
      "C:\\Users\\titus\\AppData\\Local\\Temp\\ipykernel_6424\\1599274398.py:1: FutureWarning: The default value of regex will change from True to False in a future version.\n",
      "  tweets_df['Tweet'] = tweets_df['Tweet'].str.replace(r'[0-9]+', '')\n"
     ]
    }
   ],
   "source": [
    "tweets_df['Tweet'] = tweets_df['Tweet'].str.replace(r'[0-9]+', '')"
   ]
  },
  {
   "cell_type": "code",
   "execution_count": 14,
   "id": "95509b36",
   "metadata": {},
   "outputs": [
    {
     "name": "stderr",
     "output_type": "stream",
     "text": [
      "C:\\Users\\titus\\AppData\\Local\\Temp\\ipykernel_6424\\2689639338.py:1: FutureWarning: The default value of regex will change from True to False in a future version.\n",
      "  reddit_df['Data']  = reddit_df['Data'].str.replace(r'[0-9]+', '')\n"
     ]
    }
   ],
   "source": [
    "reddit_df['Data']  = reddit_df['Data'].str.replace(r'[0-9]+', '')"
   ]
  },
  {
   "cell_type": "markdown",
   "id": "e8157aac",
   "metadata": {},
   "source": [
    "#### Remove \"nan\" and \"/n\""
   ]
  },
  {
   "cell_type": "code",
   "execution_count": 15,
   "id": "179ec74a",
   "metadata": {},
   "outputs": [],
   "source": [
    "tweets_df = tweets_df.replace(\"nan\", \"\", regex=True)\n",
    "tweets_df = tweets_df.replace(\"\\n\", \"\", regex=True)"
   ]
  },
  {
   "cell_type": "code",
   "execution_count": 16,
   "id": "7a056bb7",
   "metadata": {},
   "outputs": [],
   "source": [
    "reddit_df = reddit_df.replace(\"nan\", \"\", regex=True)\n",
    "reddit_df = reddit_df.replace(\"\\n\", \" \", regex=True)"
   ]
  },
  {
   "cell_type": "markdown",
   "id": "e7f1d72d",
   "metadata": {},
   "source": [
    "#### Remove stopwords"
   ]
  },
  {
   "cell_type": "code",
   "execution_count": 17,
   "id": "cc06eb8c",
   "metadata": {},
   "outputs": [],
   "source": [
    "stop_words = stopwords.words('english')\n",
    "stop_words.append('nan')\n",
    "stop_words.append('removed')\n",
    "stop_words.remove('not')\n",
    "stop_words.remove('no')"
   ]
  },
  {
   "cell_type": "code",
   "execution_count": 18,
   "id": "d04b79ee",
   "metadata": {},
   "outputs": [],
   "source": [
    "tweets_df['Cleaned Data'] = tweets_df['Tweet'].apply(lambda x: ' '.join([word for word in x.split() if word not in (stop_words)]))"
   ]
  },
  {
   "cell_type": "code",
   "execution_count": 19,
   "id": "70bd1089",
   "metadata": {},
   "outputs": [],
   "source": [
    "reddit_df['Cleaned Data'] =reddit_df['Data'].apply(lambda x: ' '.join([word for word in x.split() if word not in (stop_words)]))"
   ]
  },
  {
   "cell_type": "markdown",
   "id": "6fbb66bc",
   "metadata": {},
   "source": [
    "#### Remove Ads"
   ]
  },
  {
   "cell_type": "code",
   "execution_count": 22,
   "id": "3077e21f",
   "metadata": {},
   "outputs": [
    {
     "name": "stdout",
     "output_type": "stream",
     "text": [
      "BEFORE:  32626\n"
     ]
    },
    {
     "name": "stderr",
     "output_type": "stream",
     "text": [
      "C:\\Users\\titus\\AppData\\Local\\Temp\\ipykernel_16388\\231508483.py:8: FutureWarning: The frame.append method is deprecated and will be removed from pandas in a future version. Use pandas.concat instead.\n",
      "  reddit_ads_df = reddit_ads_df.append(reddit_df[reddit_df[\"Data\"].str.contains(word)], ignore_index = True)\n"
     ]
    },
    {
     "name": "stdout",
     "output_type": "stream",
     "text": [
      "AFTER:  25503\n"
     ]
    }
   ],
   "source": [
    "reddit_ads_words = [\"WTB\", \"WTS\", \"WTT\", \"QC\", \"FS\", \"FT\", \"WTC\", \"LC\", \"PC\"]\n",
    "print(\"BEFORE: \",len(reddit_df))\n",
    "reddit_ads_df = pd.DataFrame()\n",
    "for word in reddit_ads_words:\n",
    "    if reddit_ads_df.empty:\n",
    "        reddit_ads_df = reddit_df[reddit_df[\"Data\"].str.contains(word)]\n",
    "    else:\n",
    "        reddit_ads_df = reddit_ads_df.append(reddit_df[reddit_df[\"Data\"].str.contains(word)], ignore_index = True)\n",
    "    reddit_df = reddit_df[~reddit_df[\"Data\"].str.contains(word)]\n",
    "print(\"AFTER: \",len(reddit_df))"
   ]
  },
  {
   "cell_type": "code",
   "execution_count": 24,
   "id": "da59ab3f",
   "metadata": {},
   "outputs": [
    {
     "name": "stdout",
     "output_type": "stream",
     "text": [
      "BEFORE:  10920\n",
      "AFTER:  9705\n"
     ]
    },
    {
     "name": "stderr",
     "output_type": "stream",
     "text": [
      "C:\\Users\\titus\\AppData\\Local\\Temp\\ipykernel_16388\\1670352580.py:8: FutureWarning: The frame.append method is deprecated and will be removed from pandas in a future version. Use pandas.concat instead.\n",
      "  twitter_ads_df = twitter_ads_df.append(tweets_df[tweets_df[\"Tweet\"].str.contains(word)], ignore_index = True)\n"
     ]
    }
   ],
   "source": [
    "tweets_ads_words = [\"Check out this listing\", \"So good I had to share\"]\n",
    "print(\"BEFORE: \",len(tweets_df))\n",
    "twitter_ads_df = pd.DataFrame()\n",
    "for word in tweets_ads_words:\n",
    "    if twitter_ads_df.empty:\n",
    "        twitter_ads_df = tweets_df[tweets_df[\"Tweet\"].str.contains(word)]\n",
    "    else:\n",
    "        twitter_ads_df = twitter_ads_df.append(tweets_df[tweets_df[\"Tweet\"].str.contains(word)], ignore_index = True)\n",
    "    tweets_df = tweets_df[~tweets_df[\"Tweet\"].str.contains(word)]\n",
    "print(\"AFTER: \",len(tweets_df))"
   ]
  },
  {
   "cell_type": "code",
   "execution_count": null,
   "id": "6af31ec8",
   "metadata": {},
   "outputs": [],
   "source": [
    "#To Export\n",
    "reddit_ads_df.to_excel(\"PossibleRedditAds.xlsx\")\n",
    "twitter_ads_df.to_excel(\"PossibleTwitterAds.xlsx\")"
   ]
  },
  {
   "cell_type": "markdown",
   "id": "7e39c1f6",
   "metadata": {},
   "source": [
    "#### Tokenisation of text"
   ]
  },
  {
   "cell_type": "code",
   "execution_count": 25,
   "id": "850a3e09",
   "metadata": {},
   "outputs": [],
   "source": [
    "tweets_df['Tokenized Data'] = tweets_df['Tweet'].apply(word_tokenize)\n",
    "#reddit_df['Tokenized Data'] = reddit_df['Data'].apply(word_tokenize)"
   ]
  },
  {
   "cell_type": "code",
   "execution_count": 26,
   "id": "cfe3c182",
   "metadata": {},
   "outputs": [],
   "source": [
    "tweets_df['Tokenized LowerCase Data'] = tweets_df['Tweet'].apply(str.lower).apply(word_tokenize)\n",
    "#reddit_df['Tokenized LowerCase Data'] = reddit_df['Data'].apply(str.lower).apply(word_tokenize)"
   ]
  },
  {
   "cell_type": "code",
   "execution_count": 27,
   "id": "f3d83c97",
   "metadata": {},
   "outputs": [],
   "source": [
    "tweets_df['Tokenized Clean Data'] = tweets_df['Cleaned Data'].apply(word_tokenize)\n",
    "#reddit_df['Tokenized Clean Data'] = reddit_df['Cleaned Data'].apply(word_tokenize)"
   ]
  },
  {
   "cell_type": "code",
   "execution_count": 20,
   "id": "da9e7502",
   "metadata": {},
   "outputs": [],
   "source": [
    "tweets_df['Tokenized Clean LowerCase Data'] = tweets_df['Cleaned Data'].apply(str.lower).apply(word_tokenize)\n",
    "reddit_df['Tokenized Clean LowerCase Data'] = reddit_df['Cleaned Data'].apply(str.lower).apply(word_tokenize)"
   ]
  },
  {
   "cell_type": "code",
   "execution_count": 29,
   "id": "97584a34",
   "metadata": {},
   "outputs": [
    {
     "data": {
      "text/html": [
       "<div>\n",
       "<style scoped>\n",
       "    .dataframe tbody tr th:only-of-type {\n",
       "        vertical-align: middle;\n",
       "    }\n",
       "\n",
       "    .dataframe tbody tr th {\n",
       "        vertical-align: top;\n",
       "    }\n",
       "\n",
       "    .dataframe thead th {\n",
       "        text-align: right;\n",
       "    }\n",
       "</style>\n",
       "<table border=\"1\" class=\"dataframe\">\n",
       "  <thead>\n",
       "    <tr style=\"text-align: right;\">\n",
       "      <th></th>\n",
       "      <th>User</th>\n",
       "      <th>Date Created</th>\n",
       "      <th>Number of Likes</th>\n",
       "      <th>Number of Retweets</th>\n",
       "      <th>Source of Tweet</th>\n",
       "      <th>Tweet</th>\n",
       "      <th>Language</th>\n",
       "      <th>URL</th>\n",
       "      <th>Cleaned Data</th>\n",
       "      <th>Tokenized Data</th>\n",
       "      <th>Tokenized LowerCase Data</th>\n",
       "      <th>Tokenized Clean Data</th>\n",
       "      <th>Tokenized Clean LowerCase Data</th>\n",
       "    </tr>\n",
       "  </thead>\n",
       "  <tbody>\n",
       "    <tr>\n",
       "      <td>0</td>\n",
       "      <td>RivalTimes</td>\n",
       "      <td>2022-11-01 23:52:17+00:00</td>\n",
       "      <td>0</td>\n",
       "      <td>0</td>\n",
       "      <td>Jetpack.com</td>\n",
       "      <td>Why is it not enough that Ralph Lauren has wit...</td>\n",
       "      <td>en</td>\n",
       "      <td>https://twitter.com/RivalTimes/status/15875934...</td>\n",
       "      <td>Why not enough Ralph Lauren withdrawn sacks co...</td>\n",
       "      <td>[Why, is, it, not, enough, that, Ralph, Lauren...</td>\n",
       "      <td>[why, is, it, not, enough, that, ralph, lauren...</td>\n",
       "      <td>[Why, not, enough, Ralph, Lauren, withdrawn, s...</td>\n",
       "      <td>[why, not, enough, ralph, lauren, withdrawn, s...</td>\n",
       "    </tr>\n",
       "    <tr>\n",
       "      <th>2</th>\n",
       "      <td>FortniteBoards</td>\n",
       "      <td>2022-11-01 23:42:09+00:00</td>\n",
       "      <td>0</td>\n",
       "      <td>0</td>\n",
       "      <td>FortniteBoards Social Auto Post</td>\n",
       "      <td>Fortnites Polo Ralph Lauren Crossover Brings ...</td>\n",
       "      <td>en</td>\n",
       "      <td>https://twitter.com/FortniteBoards/status/1587...</td>\n",
       "      <td>Fortnites Polo Ralph Lauren Crossover Brings R...</td>\n",
       "      <td>[Fortnites, Polo, Ralph, Lauren, Crossover, Br...</td>\n",
       "      <td>[fortnites, polo, ralph, lauren, crossover, br...</td>\n",
       "      <td>[Fortnites, Polo, Ralph, Lauren, Crossover, Br...</td>\n",
       "      <td>[fortnites, polo, ralph, lauren, crossover, br...</td>\n",
       "    </tr>\n",
       "    <tr>\n",
       "      <td>3</td>\n",
       "      <td>GeyiPoji</td>\n",
       "      <td>2022-11-01 23:41:08+00:00</td>\n",
       "      <td>0</td>\n",
       "      <td>0</td>\n",
       "      <td>Jetpack.com</td>\n",
       "      <td>The Fortnite Crossover Ralph Lauren Polo Bring...</td>\n",
       "      <td>en</td>\n",
       "      <td>https://twitter.com/GeyiPoji/status/1587590596...</td>\n",
       "      <td>The Fortnite Crossover Ralph Lauren Polo Bring...</td>\n",
       "      <td>[The, Fortnite, Crossover, Ralph, Lauren, Polo...</td>\n",
       "      <td>[the, fortnite, crossover, ralph, lauren, polo...</td>\n",
       "      <td>[The, Fortnite, Crossover, Ralph, Lauren, Polo...</td>\n",
       "      <td>[the, fortnite, crossover, ralph, lauren, polo...</td>\n",
       "    </tr>\n",
       "    <tr>\n",
       "      <td>4</td>\n",
       "      <td>modcontrollerz</td>\n",
       "      <td>2022-11-01 23:39:48+00:00</td>\n",
       "      <td>0</td>\n",
       "      <td>0</td>\n",
       "      <td>Jetpack.com</td>\n",
       "      <td>Fortnites Polo Ralph Lauren Crossover Brings R...</td>\n",
       "      <td>en</td>\n",
       "      <td>https://twitter.com/modcontrollerz/status/1587...</td>\n",
       "      <td>Fortnites Polo Ralph Lauren Crossover Brings R...</td>\n",
       "      <td>[Fortnites, Polo, Ralph, Lauren, Crossover, Br...</td>\n",
       "      <td>[fortnites, polo, ralph, lauren, crossover, br...</td>\n",
       "      <td>[Fortnites, Polo, Ralph, Lauren, Crossover, Br...</td>\n",
       "      <td>[fortnites, polo, ralph, lauren, crossover, br...</td>\n",
       "    </tr>\n",
       "    <tr>\n",
       "      <th>5</th>\n",
       "      <td>fuzzcassette</td>\n",
       "      <td>2022-11-01 23:39:16+00:00</td>\n",
       "      <td>6</td>\n",
       "      <td>0</td>\n",
       "      <td>Twitter for iPhone</td>\n",
       "      <td>need the fortnite ralph lauren polo</td>\n",
       "      <td>en</td>\n",
       "      <td>https://twitter.com/fuzzcassette/status/158759...</td>\n",
       "      <td>need fortnite ralph lauren polo</td>\n",
       "      <td>[need, the, fortnite, ralph, lauren, polo]</td>\n",
       "      <td>[need, the, fortnite, ralph, lauren, polo]</td>\n",
       "      <td>[need, fortnite, ralph, lauren, polo]</td>\n",
       "      <td>[need, fortnite, ralph, lauren, polo]</td>\n",
       "    </tr>\n",
       "  </tbody>\n",
       "</table>\n",
       "</div>"
      ],
      "text/plain": [
       "             User               Date Created  Number of Likes  \\\n",
       "0      RivalTimes  2022-11-01 23:52:17+00:00                0   \n",
       "2  FortniteBoards  2022-11-01 23:42:09+00:00                0   \n",
       "3        GeyiPoji  2022-11-01 23:41:08+00:00                0   \n",
       "4  modcontrollerz  2022-11-01 23:39:48+00:00                0   \n",
       "5    fuzzcassette  2022-11-01 23:39:16+00:00                6   \n",
       "\n",
       "   Number of Retweets                  Source of Tweet  \\\n",
       "0                   0                      Jetpack.com   \n",
       "2                   0  FortniteBoards Social Auto Post   \n",
       "3                   0                      Jetpack.com   \n",
       "4                   0                      Jetpack.com   \n",
       "5                   0               Twitter for iPhone   \n",
       "\n",
       "                                               Tweet Language  \\\n",
       "0  Why is it not enough that Ralph Lauren has wit...       en   \n",
       "2   Fortnites Polo Ralph Lauren Crossover Brings ...       en   \n",
       "3  The Fortnite Crossover Ralph Lauren Polo Bring...       en   \n",
       "4  Fortnites Polo Ralph Lauren Crossover Brings R...       en   \n",
       "5               need the fortnite ralph lauren polo        en   \n",
       "\n",
       "                                                 URL  \\\n",
       "0  https://twitter.com/RivalTimes/status/15875934...   \n",
       "2  https://twitter.com/FortniteBoards/status/1587...   \n",
       "3  https://twitter.com/GeyiPoji/status/1587590596...   \n",
       "4  https://twitter.com/modcontrollerz/status/1587...   \n",
       "5  https://twitter.com/fuzzcassette/status/158759...   \n",
       "\n",
       "                                        Cleaned Data  \\\n",
       "0  Why not enough Ralph Lauren withdrawn sacks co...   \n",
       "2  Fortnites Polo Ralph Lauren Crossover Brings R...   \n",
       "3  The Fortnite Crossover Ralph Lauren Polo Bring...   \n",
       "4  Fortnites Polo Ralph Lauren Crossover Brings R...   \n",
       "5                    need fortnite ralph lauren polo   \n",
       "\n",
       "                                      Tokenized Data  \\\n",
       "0  [Why, is, it, not, enough, that, Ralph, Lauren...   \n",
       "2  [Fortnites, Polo, Ralph, Lauren, Crossover, Br...   \n",
       "3  [The, Fortnite, Crossover, Ralph, Lauren, Polo...   \n",
       "4  [Fortnites, Polo, Ralph, Lauren, Crossover, Br...   \n",
       "5         [need, the, fortnite, ralph, lauren, polo]   \n",
       "\n",
       "                            Tokenized LowerCase Data  \\\n",
       "0  [why, is, it, not, enough, that, ralph, lauren...   \n",
       "2  [fortnites, polo, ralph, lauren, crossover, br...   \n",
       "3  [the, fortnite, crossover, ralph, lauren, polo...   \n",
       "4  [fortnites, polo, ralph, lauren, crossover, br...   \n",
       "5         [need, the, fortnite, ralph, lauren, polo]   \n",
       "\n",
       "                                Tokenized Clean Data  \\\n",
       "0  [Why, not, enough, Ralph, Lauren, withdrawn, s...   \n",
       "2  [Fortnites, Polo, Ralph, Lauren, Crossover, Br...   \n",
       "3  [The, Fortnite, Crossover, Ralph, Lauren, Polo...   \n",
       "4  [Fortnites, Polo, Ralph, Lauren, Crossover, Br...   \n",
       "5              [need, fortnite, ralph, lauren, polo]   \n",
       "\n",
       "                                Tokenized Clean Data  \\\n",
       "0  [Why, not, enough, Ralph, Lauren, withdrawn, s...   \n",
       "1  [Check, listing, I, added, Poshmark, closet, L...   \n",
       "2  [Fortnites, Polo, Ralph, Lauren, Crossover, Br...   \n",
       "3  [The, Fortnite, Crossover, Ralph, Lauren, Polo...   \n",
       "4  [Fortnites, Polo, Ralph, Lauren, Crossover, Br...   \n",
       "\n",
       "                      Tokenized Clean LowerCase Data  \n",
       "0  [why, not, enough, ralph, lauren, withdrawn, s...  \n",
       "2  [fortnites, polo, ralph, lauren, crossover, br...  \n",
       "3  [the, fortnite, crossover, ralph, lauren, polo...  \n",
       "4  [fortnites, polo, ralph, lauren, crossover, br...  \n",
       "5              [need, fortnite, ralph, lauren, polo]  "
      ]
     },
     "execution_count": 29,
     "metadata": {},
     "output_type": "execute_result"
    }
   ],
   "source": [
    "tweets_df.head()"
   ]
  },
  {
   "cell_type": "code",
   "execution_count": 30,
   "id": "f46147c6",
   "metadata": {},
   "outputs": [
    {
     "data": {
      "text/html": [
       "<div>\n",
       "<style scoped>\n",
       "    .dataframe tbody tr th:only-of-type {\n",
       "        vertical-align: middle;\n",
       "    }\n",
       "\n",
       "    .dataframe tbody tr th {\n",
       "        vertical-align: top;\n",
       "    }\n",
       "\n",
       "    .dataframe thead th {\n",
       "        text-align: right;\n",
       "    }\n",
       "</style>\n",
       "<table border=\"1\" class=\"dataframe\">\n",
       "  <thead>\n",
       "    <tr style=\"text-align: right;\">\n",
       "      <th></th>\n",
       "      <th>Date</th>\n",
       "      <th>Subreddit</th>\n",
       "      <th>Title</th>\n",
       "      <th>Post Text</th>\n",
       "      <th>Author</th>\n",
       "      <th>Upvotes</th>\n",
       "      <th>CommentsCount</th>\n",
       "      <th>URL</th>\n",
       "      <th>Data</th>\n",
       "      <th>Cleaned Data</th>\n",
       "      <th>Tokenized Data</th>\n",
       "      <th>Tokenized LowerCase Data</th>\n",
       "      <th>Tokenized Clean Data</th>\n",
       "      <th>Tokenized Clean LowerCase Data</th>\n",
       "    </tr>\n",
       "  </thead>\n",
       "  <tbody>\n",
       "    <tr>\n",
       "      <th>1</th>\n",
       "      <td>2022-11-04 17:20:55</td>\n",
       "      <td>FashionReps</td>\n",
       "      <td>Balenciaga Track Clear Sole CSJ [Good batch]</td>\n",
       "      <td>[removed]</td>\n",
       "      <td>MakeTheCut_fjp</td>\n",
       "      <td>1</td>\n",
       "      <td>0</td>\n",
       "      <td>https://www.reddit.com//r/FashionReps/comments...</td>\n",
       "      <td>removed Balenciaga Track Clear Sole CSJ Good b...</td>\n",
       "      <td>Balenciaga Track Clear Sole CSJ Good batch</td>\n",
       "      <td>[removed, Balenciaga, Track, Clear, Sole, CSJ,...</td>\n",
       "      <td>[removed, balenciaga, track, clear, sole, csj,...</td>\n",
       "      <td>[Balenciaga, Track, Clear, Sole, CSJ, Good, ba...</td>\n",
       "      <td>[balenciaga, track, clear, sole, csj, good, ba...</td>\n",
       "    </tr>\n",
       "    <tr>\n",
       "      <th>2</th>\n",
       "      <td>2022-11-04 17:20:16</td>\n",
       "      <td>QualityReps</td>\n",
       "      <td>About BALENCIAGA CROSS BOOTS - WWTOP</td>\n",
       "      <td>NaN</td>\n",
       "      <td>Competitive-Guide651</td>\n",
       "      <td>1</td>\n",
       "      <td>0</td>\n",
       "      <td>https://www.reddit.com//r/QualityReps/comments...</td>\n",
       "      <td>About BALENCIAGA CROSS BOOTS  WWTOP</td>\n",
       "      <td>About BALENCIAGA CROSS BOOTS WWTOP</td>\n",
       "      <td>[About, BALENCIAGA, CROSS, BOOTS, WWTOP]</td>\n",
       "      <td>[about, balenciaga, cross, boots, wwtop]</td>\n",
       "      <td>[About, BALENCIAGA, CROSS, BOOTS, WWTOP]</td>\n",
       "      <td>[about, balenciaga, cross, boots, wwtop]</td>\n",
       "    </tr>\n",
       "    <tr>\n",
       "      <th>3</th>\n",
       "      <td>2022-11-04 17:16:13</td>\n",
       "      <td>QualityReps</td>\n",
       "      <td>About BALENCIAGA CROSS boots - WWTOP</td>\n",
       "      <td>NaN</td>\n",
       "      <td>Competitive-Guide651</td>\n",
       "      <td>1</td>\n",
       "      <td>0</td>\n",
       "      <td>https://www.reddit.com//r/QualityReps/comments...</td>\n",
       "      <td>About BALENCIAGA CROSS boots  WWTOP</td>\n",
       "      <td>About BALENCIAGA CROSS boots WWTOP</td>\n",
       "      <td>[About, BALENCIAGA, CROSS, boots, WWTOP]</td>\n",
       "      <td>[about, balenciaga, cross, boots, wwtop]</td>\n",
       "      <td>[About, BALENCIAGA, CROSS, boots, WWTOP]</td>\n",
       "      <td>[about, balenciaga, cross, boots, wwtop]</td>\n",
       "    </tr>\n",
       "    <tr>\n",
       "      <th>4</th>\n",
       "      <td>2022-11-04 17:06:50</td>\n",
       "      <td>CryptoStock</td>\n",
       "      <td>Balenciaga Announces Bitcoin Payments – The BT...</td>\n",
       "      <td>NaN</td>\n",
       "      <td>asmajda</td>\n",
       "      <td>1</td>\n",
       "      <td>0</td>\n",
       "      <td>https://www.reddit.com//r/CryptoStock/comments...</td>\n",
       "      <td>Balenciaga Announces Bitcoin Payments  The BT...</td>\n",
       "      <td>Balenciaga Announces Bitcoin Payments The BTC ...</td>\n",
       "      <td>[Balenciaga, Announces, Bitcoin, Payments, The...</td>\n",
       "      <td>[balenciaga, announces, bitcoin, payments, the...</td>\n",
       "      <td>[Balenciaga, Announces, Bitcoin, Payments, The...</td>\n",
       "      <td>[balenciaga, announces, bitcoin, payments, the...</td>\n",
       "    </tr>\n",
       "    <tr>\n",
       "      <th>5</th>\n",
       "      <td>2022-11-04 16:57:00</td>\n",
       "      <td>QualityReps</td>\n",
       "      <td>(FIND) Balenciaga Tab cropped zip up hoodie</td>\n",
       "      <td>NaN</td>\n",
       "      <td>looking4fashion</td>\n",
       "      <td>1</td>\n",
       "      <td>0</td>\n",
       "      <td>https://www.reddit.com//r/QualityReps/comments...</td>\n",
       "      <td>FIND Balenciaga Tab cropped zip up hoodie</td>\n",
       "      <td>FIND Balenciaga Tab cropped zip hoodie</td>\n",
       "      <td>[FIND, Balenciaga, Tab, cropped, zip, up, hoodie]</td>\n",
       "      <td>[find, balenciaga, tab, cropped, zip, up, hoodie]</td>\n",
       "      <td>[FIND, Balenciaga, Tab, cropped, zip, hoodie]</td>\n",
       "      <td>[find, balenciaga, tab, cropped, zip, hoodie]</td>\n",
       "    </tr>\n",
       "  </tbody>\n",
       "</table>\n",
       "</div>"
      ],
      "text/plain": [
       "                  Date    Subreddit  \\\n",
       "1  2022-11-04 17:20:55  FashionReps   \n",
       "2  2022-11-04 17:20:16  QualityReps   \n",
       "3  2022-11-04 17:16:13  QualityReps   \n",
       "4  2022-11-04 17:06:50  CryptoStock   \n",
       "5  2022-11-04 16:57:00  QualityReps   \n",
       "\n",
       "                                               Title  Post Text  \\\n",
       "1       Balenciaga Track Clear Sole CSJ [Good batch]  [removed]   \n",
       "2               About BALENCIAGA CROSS BOOTS - WWTOP        NaN   \n",
       "3               About BALENCIAGA CROSS boots - WWTOP        NaN   \n",
       "4  Balenciaga Announces Bitcoin Payments – The BT...        NaN   \n",
       "5        (FIND) Balenciaga Tab cropped zip up hoodie        NaN   \n",
       "\n",
       "                 Author  Upvotes  CommentsCount  \\\n",
       "1        MakeTheCut_fjp        1              0   \n",
       "2  Competitive-Guide651        1              0   \n",
       "3  Competitive-Guide651        1              0   \n",
       "4               asmajda        1              0   \n",
       "5       looking4fashion        1              0   \n",
       "\n",
       "                                                 URL  \\\n",
       "1  https://www.reddit.com//r/FashionReps/comments...   \n",
       "2  https://www.reddit.com//r/QualityReps/comments...   \n",
       "3  https://www.reddit.com//r/QualityReps/comments...   \n",
       "4  https://www.reddit.com//r/CryptoStock/comments...   \n",
       "5  https://www.reddit.com//r/QualityReps/comments...   \n",
       "\n",
       "                                                Data  \\\n",
       "1  removed Balenciaga Track Clear Sole CSJ Good b...   \n",
       "2                About BALENCIAGA CROSS BOOTS  WWTOP   \n",
       "3                About BALENCIAGA CROSS boots  WWTOP   \n",
       "4   Balenciaga Announces Bitcoin Payments  The BT...   \n",
       "5          FIND Balenciaga Tab cropped zip up hoodie   \n",
       "\n",
       "                                        Cleaned Data  \\\n",
       "1         Balenciaga Track Clear Sole CSJ Good batch   \n",
       "2                 About BALENCIAGA CROSS BOOTS WWTOP   \n",
       "3                 About BALENCIAGA CROSS boots WWTOP   \n",
       "4  Balenciaga Announces Bitcoin Payments The BTC ...   \n",
       "5             FIND Balenciaga Tab cropped zip hoodie   \n",
       "\n",
       "                                      Tokenized Data  \\\n",
       "1  [removed, Balenciaga, Track, Clear, Sole, CSJ,...   \n",
       "2           [About, BALENCIAGA, CROSS, BOOTS, WWTOP]   \n",
       "3           [About, BALENCIAGA, CROSS, boots, WWTOP]   \n",
       "4  [Balenciaga, Announces, Bitcoin, Payments, The...   \n",
       "5  [FIND, Balenciaga, Tab, cropped, zip, up, hoodie]   \n",
       "\n",
       "                            Tokenized LowerCase Data  \\\n",
       "1  [removed, balenciaga, track, clear, sole, csj,...   \n",
       "2           [about, balenciaga, cross, boots, wwtop]   \n",
       "3           [about, balenciaga, cross, boots, wwtop]   \n",
       "4  [balenciaga, announces, bitcoin, payments, the...   \n",
       "5  [find, balenciaga, tab, cropped, zip, up, hoodie]   \n",
       "\n",
       "                                Tokenized Clean Data  \\\n",
       "1  [Balenciaga, Track, Clear, Sole, CSJ, Good, ba...   \n",
       "2           [About, BALENCIAGA, CROSS, BOOTS, WWTOP]   \n",
       "3           [About, BALENCIAGA, CROSS, boots, WWTOP]   \n",
       "4  [Balenciaga, Announces, Bitcoin, Payments, The...   \n",
       "5      [FIND, Balenciaga, Tab, cropped, zip, hoodie]   \n",
       "\n",
       "                      Tokenized Clean LowerCase Data  \n",
       "1  [balenciaga, track, clear, sole, csj, good, ba...  \n",
       "2           [about, balenciaga, cross, boots, wwtop]  \n",
       "3           [about, balenciaga, cross, boots, wwtop]  \n",
       "4  [balenciaga, announces, bitcoin, payments, the...  \n",
       "5      [find, balenciaga, tab, cropped, zip, hoodie]  "
      ]
     },
     "execution_count": 30,
     "metadata": {},
     "output_type": "execute_result"
    }
   ],
   "source": [
    "reddit_df.head()"
   ]
  },
  {
   "cell_type": "markdown",
   "id": "012b3a98",
   "metadata": {},
   "source": [
    "#### Save to new .csv file"
   ]
  },
  {
   "cell_type": "code",
   "execution_count": 21,
   "id": "5db184f5",
   "metadata": {},
   "outputs": [],
   "source": [
    "tweets_df.to_csv(\"Cleaned_Tweets.csv\", encoding=\"utf-8\", index=False)\n",
    "reddit_df.to_csv(\"Cleaned_Reddit.csv\", encoding=\"utf-8\", index=False)\n",
    "tweets_df.to_csv(\"Cleaned_Tweets(w_ads).csv\", encoding=\"utf-8\", index=False)\n",
    "reddit_df.to_csv(\"Cleaned_Reddit(w_ads).csv\", encoding=\"utf-8\", index=False)"
   ]
  },
  {
   "cell_type": "code",
   "execution_count": 32,
   "id": "e6686e1f",
   "metadata": {},
   "outputs": [
    {
     "data": {
      "text/plain": [
       "(9705, 13)"
      ]
     },
     "execution_count": 32,
     "metadata": {},
     "output_type": "execute_result"
    }
   ],
   "source": [
    "tweets_df.shape"
   ]
  },
  {
   "cell_type": "code",
   "execution_count": 33,
   "id": "62c93d4a",
   "metadata": {},
   "outputs": [
    {
     "data": {
      "text/plain": [
       "(25503, 14)"
      ]
     },
     "execution_count": 33,
     "metadata": {},
     "output_type": "execute_result"
    }
   ],
   "source": [
    "reddit_df.shape"
   ]
  },
  {
   "cell_type": "code",
   "execution_count": null,
   "id": "4432aff7",
   "metadata": {},
   "outputs": [],
   "source": []
  }
 ],
 "metadata": {
  "kernelspec": {
   "display_name": "Python 3 (ipykernel)",
   "language": "python",
   "name": "python3"
  },
  "language_info": {
   "codemirror_mode": {
    "name": "ipython",
    "version": 3
   },
   "file_extension": ".py",
   "mimetype": "text/x-python",
   "name": "python",
   "nbconvert_exporter": "python",
   "pygments_lexer": "ipython3",
   "version": "3.10.5"
  }
 },
 "nbformat": 4,
 "nbformat_minor": 5
}
