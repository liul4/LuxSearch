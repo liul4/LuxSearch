{
 "cells": [
  {
   "cell_type": "code",
   "execution_count": 7,
   "metadata": {},
   "outputs": [
    {
     "name": "stderr",
     "output_type": "stream",
     "text": [
      "[nltk_data] Downloading package stopwords to /Users/chris/nltk_data...\n",
      "[nltk_data]   Package stopwords is already up-to-date!\n"
     ]
    }
   ],
   "source": [
    " # This file will use the random forest algorithm to classify the text in the dataset to predict the polarity of the text.\n",
    "    # The dataset is a collection of reddit post that is manually labeled as positive or negative.\n",
    "\n",
    "# Import the necessary libraries\n",
    "# Data Processing\n",
    "import pandas as pd\n",
    "import numpy as np\n",
    "import re\n",
    "from bs4 import BeautifulSoup\n",
    "import nltk\n",
    "nltk.download('stopwords')\n",
    "from nltk.corpus import stopwords\n",
    "\n",
    "# Modelling \n",
    "from sklearn.ensemble import RandomForestClassifier\n",
    "from sklearn.model_selection import train_test_split\n",
    "from sklearn.feature_extraction.text import CountVectorizer\n",
    "from sklearn.metrics import accuracy_score, confusion_matrix, classification_report, f1_score\n",
    "\n",
    "# Visualization\n",
    "import matplotlib.pyplot as plt\n",
    "import seaborn as sns\n"
   ]
  },
  {
   "attachments": {},
   "cell_type": "markdown",
   "metadata": {},
   "source": [
    "# Dataset Preparation"
   ]
  },
  {
   "cell_type": "code",
   "execution_count": 8,
   "metadata": {},
   "outputs": [],
   "source": [
    "# Import the dataset\n",
    "R_df = pd.read_csv('../Data/Relevance.csv')\n",
    "# R2_df = pd.read_csv('../Data/training.1600000.processed.noemoticon.csv', encoding='latin-1', names=['Polarity', 'ID', 'Date', 'Query', 'User', 'Data'])\n",
    "# R_df = pd.read_csv('../Data/relevance_undersampled.csv')\n",
    "# R_df = pd.read_csv('../Data/eda_relevance.csv')\n",
    "\n",
    "\n",
    "P_df = pd.read_csv('../Data/Polarity.csv')\n",
    "# P_df = pd.read_csv('../Data/polarity_undersampled.csv')\n",
    "# P_df = pd.read_csv('../Data/eda_polarity.csv')"
   ]
  },
  {
   "cell_type": "code",
   "execution_count": 9,
   "metadata": {},
   "outputs": [],
   "source": [
    "# # Remove special characters from Title and Data columns such as as ð,Ÿ,˜,â,€,™, and ðŸ˜\n",
    "R_df['Data'] = R_df['Data'].str.replace('ðŸ˜','')\n",
    "R_df['Data'] = R_df['Data'].str.replace('ðŸ‘€','')\n",
    "# Remove ðŸ\n",
    "P_df['Data'] = P_df['Data'].str.replace('ðŸ˜','')\n",
    "P_df['Data'] = P_df['Data'].str.replace('ðŸ‘€','')\n",
    "\n",
    "# # Replace all the NaN values with empty string\n",
    "R_df['Data'] = R_df['Data'].fillna('')\n",
    "R_df['Relevance'] = R_df['Relevance'].fillna('')\n",
    "P_df['Data'] = P_df['Data'].fillna('')    \n",
    "P_df['Polarity'] = P_df['Polarity'].fillna('')\n",
    "\n",
    "# Replace \\n with empty string\n",
    "R_df['Data'] = R_df['Data'].str.replace('\\n','')\n",
    "P_df['Data'] = P_df['Data'].str.replace('\\n','')\n",
    "\n",
    "# Flags to run either the Relevance or polarity model\n",
    "relevance = True\n",
    "polarity = True\n",
    "polarity_join = False\n",
    "\n",
    "# if polarity_join:\n",
    "#     # Drop all columns except Polarity and Data\n",
    "#     R2_df = R2_df.drop(['ID', 'Date', 'Query', 'User'], axis=1)\n",
    "#     print(R2_df.columns.values)\n",
    "#     # Iterate through R2_df and change polarity to 1 if it is 4, -1 if it is 0 and 0 if it is 2\n",
    "#     for index, row in R2_df.iterrows():\n",
    "#         if row['Polarity'] == 4:\n",
    "#             R2_df.at[index, 'Polarity'] = 1\n",
    "#         elif row['Polarity'] == 0:\n",
    "#             R2_df.at[index, 'Polarity'] = -1\n",
    "#         else:\n",
    "#             R2_df.at[index, 'Polarity'] = 0\n"
   ]
  },
  {
   "cell_type": "code",
   "execution_count": 10,
   "metadata": {},
   "outputs": [],
   "source": [
    "# Preprocessing Function for each data\n",
    "def preprocess_bows(df, df_size):\n",
    "    data_soup = BeautifulSoup(df)\n",
    "    data_text = data_soup.get_text()\n",
    "    data_letters_only = re.sub(\"[^a-zA-Z]\", \" \", data_text).lower()\n",
    "    data_words = data_letters_only.split()\n",
    "    stops = set(stopwords.words(\"english\"))\n",
    "    meaningful_words = [w for w in data_words if not w in stops]\n",
    "\n",
    "    if((i)%1000 == 0):\n",
    "        print(\"Cleaned %d %d data (%d %%).\" % (i, df_size, (i/df_size)*100))\n",
    "    return(\" \".join(meaningful_words))"
   ]
  },
  {
   "cell_type": "code",
   "execution_count": 11,
   "metadata": {},
   "outputs": [
    {
     "name": "stdout",
     "output_type": "stream",
     "text": [
      "Cleaned 0 4300 data (0 %).\n"
     ]
    },
    {
     "name": "stderr",
     "output_type": "stream",
     "text": [
      "/var/folders/2q/bjqpws1153b0_y18lhffmh_m0000gn/T/ipykernel_23339/1679288590.py:7: SettingWithCopyWarning: \n",
      "A value is trying to be set on a copy of a slice from a DataFrame\n",
      "\n",
      "See the caveats in the documentation: https://pandas.pydata.org/pandas-docs/stable/user_guide/indexing.html#returning-a-view-versus-a-copy\n",
      "  R_df['Data'][i] = preprocess_bows(R_df['Data'][i], R_df_size)\n"
     ]
    },
    {
     "name": "stdout",
     "output_type": "stream",
     "text": [
      "Cleaned 1000 4300 data (23 %).\n",
      "Cleaned 2000 4300 data (46 %).\n",
      "Cleaned 3000 4300 data (69 %).\n",
      "Cleaned 4000 4300 data (93 %).\n",
      "Relevance Data Cleaned\n",
      "Cleaned 0 4300 data (0 %).\n"
     ]
    },
    {
     "name": "stderr",
     "output_type": "stream",
     "text": [
      "/var/folders/2q/bjqpws1153b0_y18lhffmh_m0000gn/T/ipykernel_23339/1679288590.py:12: SettingWithCopyWarning: \n",
      "A value is trying to be set on a copy of a slice from a DataFrame\n",
      "\n",
      "See the caveats in the documentation: https://pandas.pydata.org/pandas-docs/stable/user_guide/indexing.html#returning-a-view-versus-a-copy\n",
      "  P_df['Data'][i] = preprocess_bows(P_df['Data'][i], P_df_size)\n"
     ]
    },
    {
     "name": "stdout",
     "output_type": "stream",
     "text": [
      "Cleaned 1000 4300 data (23 %).\n",
      "Cleaned 2000 4300 data (46 %).\n",
      "Cleaned 3000 4300 data (69 %).\n",
      "Cleaned 4000 4300 data (93 %).\n",
      "Polarity Data Cleaned\n"
     ]
    }
   ],
   "source": [
    "# Preprocess the data\n",
    "R_df_size = R_df['Data'].size\n",
    "P_df_size = P_df['Data'].size\n",
    "\n",
    "if relevance:\n",
    "    for i in range(R_df_size):\n",
    "        R_df['Data'][i] = preprocess_bows(R_df['Data'][i], R_df_size)\n",
    "    print(\"Relevance Data Cleaned\")\n",
    "\n",
    "if polarity:\n",
    "    for i in range(P_df_size):\n",
    "        P_df['Data'][i] = preprocess_bows(P_df['Data'][i], P_df_size)\n",
    "    print(\"Polarity Data Cleaned\")\n",
    "\n",
    "    if polarity_join:\n",
    "        # Join the two dataframes\n",
    "        P_df = P_df.append(R2_df, ignore_index=True)"
   ]
  },
  {
   "cell_type": "code",
   "execution_count": null,
   "metadata": {},
   "outputs": [],
   "source": []
  },
  {
   "cell_type": "code",
   "execution_count": 12,
   "metadata": {},
   "outputs": [
    {
     "name": "stdout",
     "output_type": "stream",
     "text": [
      "Relevance test split done\n",
      "(3010,) (1290,) (3010,) (1290,)\n",
      "Polarity test split done\n",
      "(3010,) (1290,) (3010,) (1290,)\n"
     ]
    }
   ],
   "source": [
    "# Prepare Training Features\n",
    "\n",
    "if relevance:\n",
    "    R_cv = CountVectorizer( analyzer='word', tokenizer=None, preprocessor=None, stop_words=None, max_features=5000)\n",
    "    X_R = R_df['Data']\n",
    "    y_R = R_df['Relevance']\n",
    "\n",
    "    # Split the dataset into training and testing set\n",
    "    X_R_train, X_R_test, y_R_train, y_R_test = train_test_split(X_R, y_R, test_size=0.3, random_state=42)\n",
    "    print(\"Relevance test split done\")\n",
    "    print(X_R_train.shape, X_R_test.shape, y_R_train.shape, y_R_test.shape)\n",
    "\n",
    "if polarity:\n",
    "    P_cv = CountVectorizer( analyzer='word', tokenizer=None, preprocessor=None, stop_words=None, max_features=5000)\n",
    "    # X = P_df.drop('Polarity', axis=1)\n",
    "    X_P = P_df['Data']\n",
    "    y_P = P_df['Polarity']\n",
    "\n",
    "    # Split the dataset into training and testing set\n",
    "    X_P_train, X_P_test, y_P_train, y_P_test = train_test_split(X_P, y_P, test_size=0.3, random_state=42)\n",
    "    print(\"Polarity test split done\")\n",
    "    print(X_P_train.shape, X_P_test.shape, y_P_train.shape, y_P_test.shape)"
   ]
  },
  {
   "cell_type": "code",
   "execution_count": 13,
   "metadata": {},
   "outputs": [],
   "source": [
    "# Convert train, validation and test data to vectors\n",
    "if relevance:\n",
    "    X_R_train = R_cv.fit_transform(X_R_train)\n",
    "    X_R_test = R_cv.transform(X_R_test)\n",
    "    X_R_train = X_R_train.toarray()\n",
    "    X_R_test = X_R_test.toarray()\n",
    "if polarity:\n",
    "    X_P_train = P_cv.fit_transform(X_P_train)\n",
    "    X_P_test = P_cv.transform(X_P_test)\n",
    "    X_P_train = X_P_train.toarray()\n",
    "    X_P_test = X_P_test.toarray()\n"
   ]
  },
  {
   "cell_type": "code",
   "execution_count": 14,
   "metadata": {},
   "outputs": [
    {
     "name": "stdout",
     "output_type": "stream",
     "text": [
      "['aaml' 'ab' 'abilities' ... 'zipper' 'zverev' 'zverevs']\n",
      "['aaml' 'ab' 'abilities' ... 'zipper' 'zverev' 'zverevs']\n",
      "Printing first 10 vocab-dist pairs:\n",
      "5 aaml\n",
      "4 ab\n",
      "5 abilities\n",
      "9 ability\n",
      "51 able\n",
      "7 absolu\n",
      "5 absolueml\n",
      "10 absoluml\n",
      "7 absolute\n",
      "25 absolutely\n"
     ]
    }
   ],
   "source": [
    "if relevance:\n",
    "    vocab_R = R_cv.get_feature_names_out()\n",
    "    print(vocab_R)\n",
    "if polarity:\n",
    "    vocab_P = P_cv.get_feature_names_out()\n",
    "    print(vocab_P)\n",
    "    distribution_P = np.sum(X_P_train, axis=0)\n",
    "    print(\"Printing first 10 vocab-dist pairs:\")\n",
    "    for tag, count in zip(vocab_P[:10], distribution_P[:10]):\n",
    "        print(count, tag)"
   ]
  },
  {
   "cell_type": "code",
   "execution_count": 15,
   "metadata": {},
   "outputs": [
    {
     "name": "stdout",
     "output_type": "stream",
     "text": [
      "Relevance Model Fitted\n",
      "Polarity Model Fitted\n"
     ]
    }
   ],
   "source": [
    "# # Encode the labels\n",
    "# from sklearn.preprocessing import LabelEncoder\n",
    "# le = LabelEncoder()\n",
    "# y_P_train = le.fit_transform(y_P_train)\n",
    "# y_P_test = le.fit_transform(y_P_test)\n",
    "\n",
    "# Fitting and Training the model\n",
    "if relevance:\n",
    "    rf_R = RandomForestClassifier()\n",
    "    rf_R.fit(X_R_train, y_R_train)\n",
    "    print(\"Relevance Model Fitted\")\n",
    "if polarity:\n",
    "    rf_P = RandomForestClassifier()\n",
    "    rf_P.fit(X_P_train, y_P_train)\n",
    "    print(\"Polarity Model Fitted\")\n"
   ]
  },
  {
   "cell_type": "code",
   "execution_count": 16,
   "metadata": {},
   "outputs": [
    {
     "name": "stdout",
     "output_type": "stream",
     "text": [
      "[[0.01       0.5        0.24777778 0.         0.06527778 0.17694444]\n",
      " [0.         0.31       0.49766667 0.         0.07       0.12233333]\n",
      " [0.         0.39035714 0.22783333 0.         0.01547619 0.36633333]\n",
      " [0.         0.4321627  0.19551984 0.         0.14546825 0.22684921]\n",
      " [0.         0.22894444 0.30666667 0.         0.04       0.42438889]\n",
      " [0.         0.28       0.56       0.         0.02       0.14      ]\n",
      " [0.         0.8845754  0.1154246  0.         0.         0.        ]\n",
      " [0.01       0.71       0.08       0.         0.13       0.07      ]\n",
      " [0.         0.14039683 0.66       0.         0.13960317 0.06      ]\n",
      " [0.         0.22791134 0.74208866 0.         0.02       0.01      ]]\n",
      "Relevance Accuracy:  0.5565891472868217\n",
      "Relevance F1 Score:  0.2676398979113112\n",
      "Relevance Classification Report: \n",
      "              precision    recall  f1-score   support\n",
      "\n",
      "                 0.0000    0.0000    0.0000         3\n",
      "           0     0.6106    0.7707    0.6814       641\n",
      "           1     0.5255    0.4704    0.4965       372\n",
      "           2     0.0000    0.0000    0.0000         1\n",
      "           I     0.3235    0.0894    0.1401       123\n",
      "           R     0.3333    0.2533    0.2879       150\n",
      "\n",
      "    accuracy                         0.5566      1290\n",
      "   macro avg     0.2988    0.2640    0.2676      1290\n",
      "weighted avg     0.5246    0.5566    0.5286      1290\n",
      "\n"
     ]
    },
    {
     "name": "stderr",
     "output_type": "stream",
     "text": [
      "/usr/local/lib/python3.11/site-packages/sklearn/metrics/_classification.py:1344: UndefinedMetricWarning: Precision and F-score are ill-defined and being set to 0.0 in labels with no predicted samples. Use `zero_division` parameter to control this behavior.\n",
      "  _warn_prf(average, modifier, msg_start, len(result))\n",
      "/usr/local/lib/python3.11/site-packages/sklearn/metrics/_classification.py:1344: UndefinedMetricWarning: Precision and F-score are ill-defined and being set to 0.0 in labels with no predicted samples. Use `zero_division` parameter to control this behavior.\n",
      "  _warn_prf(average, modifier, msg_start, len(result))\n",
      "/usr/local/lib/python3.11/site-packages/sklearn/metrics/_classification.py:1344: UndefinedMetricWarning: Precision and F-score are ill-defined and being set to 0.0 in labels with no predicted samples. Use `zero_division` parameter to control this behavior.\n",
      "  _warn_prf(average, modifier, msg_start, len(result))\n"
     ]
    },
    {
     "name": "stdout",
     "output_type": "stream",
     "text": [
      "Polarity Accuracy:  0.6527131782945736\n",
      "Polarity F1 Score:  0.6527131782945736\n",
      "Polarity Classification Report: \n",
      "              precision    recall  f1-score   support\n",
      "\n",
      "          -1     0.6522    0.1935    0.2985       155\n",
      "           0     0.6847    0.8776    0.7692       809\n",
      "           1     0.4928    0.3129    0.3827       326\n",
      "\n",
      "    accuracy                         0.6527      1290\n",
      "   macro avg     0.6099    0.4614    0.4835      1290\n",
      "weighted avg     0.6323    0.6527    0.6150      1290\n",
      "\n"
     ]
    }
   ],
   "source": [
    "# Predicting the test set results\n",
    "if relevance:\n",
    "    y_R_pred = rf_R.predict(X_R_test)\n",
    "    confidence = rf_R.predict_proba(X_R_test)\n",
    "    # print confidence of first 10 predictions\n",
    "    print(confidence[:10])\n",
    "    print(\"Relevance Accuracy: \", accuracy_score(y_R_test, y_R_pred))\n",
    "    f1_score(y_R_test, y_R_pred, average='macro')\n",
    "    print(\"Relevance F1 Score: \", f1_score(y_R_test, y_R_pred, average='macro'))\n",
    "\n",
    "    print(\"Relevance Classification Report: \")\n",
    "    print(classification_report(y_R_test, y_R_pred, digits=4))\n",
    "if polarity:\n",
    "    y_P_pred = rf_P.predict(X_P_test)\n",
    "    print(\"Polarity Accuracy: \", accuracy_score(y_P_test, y_P_pred))\n",
    "    f1_score(y_P_test, y_P_pred, average='micro')\n",
    "    print(\"Polarity F1 Score: \", f1_score(y_P_test, y_P_pred, average='micro'))\n",
    "\n",
    "    print(\"Polarity Classification Report: \")\n",
    "    print(classification_report(y_P_test, y_P_pred, digits=4))"
   ]
  },
  {
   "cell_type": "code",
   "execution_count": 17,
   "metadata": {},
   "outputs": [
    {
     "name": "stdout",
     "output_type": "stream",
     "text": [
      "Relevance Confusion Matrix: \n",
      "[[  0   0   3   0   0   0]\n",
      " [  0 494 104   0  15  28]\n",
      " [  0 152 175   0   4  41]\n",
      " [  0   1   0   0   0   0]\n",
      " [  0  89  16   0  11   7]\n",
      " [  0  73  35   0   4  38]]\n",
      "Polarity Confusion Matrix: \n",
      "[[ 30 107  18]\n",
      " [ 12 710  87]\n",
      " [  4 220 102]]\n"
     ]
    },
    {
     "data": {
      "image/png": "[encoded data removed]",
      "text/plain": [
       "<Figure size 1000x700 with 2 Axes>"
      ]
     },
     "metadata": {},
     "output_type": "display_data"
    },
    {
     "data": {
      "image/png": "[encoded data removed]",
      "text/plain": [
       "<Figure size 1000x700 with 2 Axes>"
      ]
     },
     "metadata": {},
     "output_type": "display_data"
    }
   ],
   "source": [
    "# Visualization of the results\n",
    "if relevance:\n",
    "    cm = confusion_matrix(y_R_test, y_R_pred)\n",
    "    print(\"Relevance Confusion Matrix: \")\n",
    "    print(cm)\n",
    "    plt.figure(figsize=(10,7))\n",
    "    sns.heatmap(cm, annot=True)\n",
    "    plt.xlabel('Predicted')\n",
    "    plt.ylabel('Truth')\n",
    "if polarity:\n",
    "    cm = confusion_matrix(y_P_test, y_P_pred)\n",
    "    print(\"Polarity Confusion Matrix: \")\n",
    "    print(cm)\n",
    "    plt.figure(figsize=(10,7))\n",
    "    sns.heatmap(cm, annot=True)\n",
    "    plt.xlabel('Predicted')\n",
    "    plt.ylabel('Truth')\n",
    "    "
   ]
  }
 ],
 "metadata": {
  "kernelspec": {
   "display_name": "Python 3",
   "language": "python",
   "name": "python3"
  },
  "language_info": {
   "codemirror_mode": {
    "name": "ipython",
    "version": 3
   },
   "file_extension": ".py",
   "mimetype": "text/x-python",
   "name": "python",
   "nbconvert_exporter": "python",
   "pygments_lexer": "ipython3",
   "version": "3.11.2"
  },
  "orig_nbformat": 4
 },
 "nbformat": 4,
 "nbformat_minor": 2
}
